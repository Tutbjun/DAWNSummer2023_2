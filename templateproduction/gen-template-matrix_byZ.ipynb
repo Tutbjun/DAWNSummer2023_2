{
 "cells": [
  {
   "cell_type": "code",
   "execution_count": 45,
   "metadata": {},
   "outputs": [],
   "source": [
    "#load spectres of templates at last point\n",
    "import os\n",
    "from astropy.table import Table\n",
    "import numpy as np\n",
    "import eazy\n",
    "import matplotlib.pyplot as plt\n",
    "from numba import jit\n",
    "from astropy.io import fits\n",
    "import helper_module as hmod\n",
    "from astropy.table import Table, join\n",
    "import eazy_routines as ez\n",
    "from astropy import units as u\n",
    "import time\n",
    "from astropy.cosmology import Planck18\n",
    "import pandas as pd\n",
    "import shutil\n",
    "import sys, os\n",
    "import warnings\n",
    "from scipy.optimize import curve_fit\n",
    "#warnings.filterwarnings(\"ignore\")\n",
    "\n",
    "class HiddenPrints:\n",
    "    def __enter__(self):\n",
    "        self._original_stdout = sys.stdout\n",
    "        sys.stdout = open(os.devnull, 'w')\n",
    "\n",
    "    def __exit__(self, exc_type, exc_val, exc_tb):\n",
    "        sys.stdout.close()\n",
    "        sys.stdout = self._original_stdout"
   ]
  },
  {
   "cell_type": "code",
   "execution_count": 46,
   "metadata": {},
   "outputs": [],
   "source": [
    "runTime = int(time.time())\n",
    "__file__ = os.getcwd()+'/'+\"gen-template-matrix_byZ.ipynb\"\n",
    "cosmo = Planck18\n",
    "set2Limit = \"EMlines\""
   ]
  },
  {
   "cell_type": "code",
   "execution_count": 47,
   "metadata": {},
   "outputs": [],
   "source": [
    "############# SETTINGS #############\n",
    "templCnt = 13\n",
    "cCap = 0.5\n",
    "doMultithread = False\n",
    "threadCnt = 4\n",
    "trainsetCap = 150\n",
    "####################################\n",
    "if not doMultithread: threadCnt = 1"
   ]
  },
  {
   "cell_type": "code",
   "execution_count": 48,
   "metadata": {},
   "outputs": [],
   "source": [
    "\n",
    "#path = \"templates-custom/45k/raw\"\n",
    "path = \"templates-custom/EMlines\"#!temp\n",
    "#out_path = \"templates-custom/45k\"\n",
    "out_path = \"templates-custom\"#!temp\n",
    "path = os.path.dirname(os.path.realpath(__file__)) + \"/\" + path\n",
    "out_path = os.path.dirname(os.path.realpath(__file__)) + \"/\" + out_path\n",
    "\n",
    "templates_in = [f for f in os.listdir(path) if \"bin1.fits\" in f or \"bin0.fits\" in f or \".spec\" in f]\n",
    "spectras = []\n",
    "for temp in templates_in:\n",
    "    if \".fits\" in temp:\n",
    "        tab = Table.read(path+\"/\"+temp)\n",
    "        flux = tab[\"flux\"].T[-1]\n",
    "        wave = tab[\"wave\"].T[0]\n",
    "    elif \".spec\" in temp:\n",
    "        tab = np.loadtxt(path+\"/\"+temp)\n",
    "        flux = tab.T[-1]\n",
    "        wave = tab.T[0]\n",
    "    spectras.append(flux)\n",
    "spectras = np.array(spectras)\n",
    "for i in range(len(spectras)):\n",
    "    #normalize\n",
    "    spectras[i] = spectras[i] / np.sum(spectras[i])"
   ]
  },
  {
   "cell_type": "code",
   "execution_count": 49,
   "metadata": {},
   "outputs": [],
   "source": [
    "############# FILTERS #############\n",
    "flt = eazy.filters.FilterFile()\n",
    "\n",
    "filts_nircam = {\n",
    "        'F090W': 363,\n",
    "        'F115W': 364,\n",
    "        'F150W': 365,\n",
    "        'F182M': 370,\n",
    "        'F200W': 366,\n",
    "        'F210M': 371,\n",
    "        'F277W': 375,\n",
    "        'F335M': 381,\n",
    "        'F356W': 376,\n",
    "        'F410M': 383,\n",
    "        'F430M': 384,\n",
    "        'F444W': 358,\n",
    "        'F460M': 385,\n",
    "        'F480M': 386\n",
    "}\n",
    "\n",
    "filts_HST = {\n",
    "        'F105W': 202,\n",
    "        'F125W': 203,\n",
    "        'F140W': 204,\n",
    "        'F160W': 205,\n",
    "        'F435W': 233,\n",
    "        'F606W': 214,\n",
    "        'F775W': 216,\n",
    "        'F814W': 239,\n",
    "        'F850LP': 240\n",
    "}\n",
    "\n",
    "filts = {**filts_nircam, **filts_HST}\n",
    "\n",
    "mw_reddening = ez.get_atten_dict(filts)\n",
    "\n",
    "# get zeropoints\n",
    "zps = [1.0]*len(filts)"
   ]
  },
  {
   "cell_type": "code",
   "execution_count": 50,
   "metadata": {},
   "outputs": [
    {
     "name": "stdout",
     "output_type": "stream",
     "text": [
      "Filename: /home/t/astrodata/gds/jades/phot/hlsp_jades_jwst_nircam_goods-s-deep_photometry_v1.0_catalog_large_withSpec.fits\n",
      "No.    Name      Ver    Type      Cards   Dimensions   Format\n",
      "  0  PRIMARY       1 PrimaryHDU      13   ()      \n",
      "  1  FILTERS       1 BinTableHDU     33   23R x 12C   [6A, E, E, E, E, E, E, E, E, E, E, E]   \n",
      "  2  FLAG          1 BinTableHDU    161   1429R x 75C   [J, D, D, J, J, J, J, J, J, J, J, J, J, J, J, J, J, J, J, J, J, J, J, J, J, J, E, E, E, E, E, E, E, E, E, E, E, E, E, E, E, E, E, E, E, E, E, E, E, E, E, E, E, E, E, E, E, E, E, E, E, E, E, E, E, E, E, E, E, E, E, E, I, E, E]   \n",
      "  3  SIZE          1 BinTableHDU    100   1429R x 43C   [J, D, D, E, D, D, D, D, J, J, J, J, E, E, E, E, E, E, E, E, E, E, E, E, E, E, E, E, E, E, E, E, E, E, E, E, E, E, E, E, E, E, E]   \n",
      "  4  CIRC          1 BinTableHDU    856   1429R x 423C   [J, D, D, E, E, E, E, E, E, E, E, E, E, E, E, E, E, E, E, E, E, E, E, E, E, E, E, E, E, E, E, E, E, E, E, E, E, E, E, E, E, E, E, E, E, E, E, E, E, E, E, E, E, E, E, E, E, E, E, E, E, E, E, E, E, E, E, E, E, E, E, E, E, E, E, E, E, E, E, E, E, E, E, E, E, E, E, E, E, E, E, E, E, E, E, E, E, E, E, E, E, E, E, E, E, E, E, E, E, E, E, E, E, E, E, E, E, E, E, E, E, E, E, E, E, E, E, E, E, E, E, E, E, E, E, E, E, E, E, E, E, E, E, E, E, E, E, E, E, E, E, E, E, E, E, E, E, E, E, E, E, E, E, E, E, E, E, E, E, E, E, E, E, E, E, E, E, E, E, E, E, E, E, E, E, E, E, E, E, E, E, E, E, E, E, E, E, E, E, E, E, E, E, E, E, E, E, E, E, E, E, E, E, E, E, E, E, E, E, E, E, E, E, E, E, E, E, E, E, E, E, E, E, E, E, E, E, E, E, E, E, E, E, E, E, E, E, E, E, E, E, E, E, E, E, E, E, E, E, E, E, E, E, E, E, E, E, E, E, E, E, E, E, E, E, E, E, E, E, E, E, E, E, E, E, E, E, E, E, E, E, E, E, E, E, E, E, E, E, E, E, E, E, E, E, E, E, E, E, E, E, E, E, E, E, E, E, E, E, E, E, E, E, E, E, E, E, E, E, E, E, E, E, E, E, E, E, E, E, E, E, E, E, E, E, E, E, E, E, E, E, E, E, E, E, E, E, E, E, E, E, E, E, E, E, E, E, E, E, E, E, E, E, E, E, E, E, E, E, E, E, E, E, E, E, E, E, E, E, E, E, E, E, E, E, E, E, E, E, E, E, E, E, E, E, E, E, E, E, E, E, E, E, E, E, E, E, E, E, E, E, E, E]   \n",
      "  5  CIRC_BSUB     1 BinTableHDU    856   1429R x 423C   [J, D, D, E, E, E, E, E, E, E, E, E, E, E, E, E, E, E, E, E, E, E, E, E, E, E, E, E, E, E, E, E, E, E, E, E, E, E, E, E, E, E, E, E, E, E, E, E, E, E, E, E, E, E, E, E, E, E, E, E, E, E, E, E, E, E, E, E, E, E, E, E, E, E, E, E, E, E, E, E, E, E, E, E, E, E, E, E, E, E, E, E, E, E, E, E, E, E, E, E, E, E, E, E, E, E, E, E, E, E, E, E, E, E, E, E, E, E, E, E, E, E, E, E, E, E, E, E, E, E, E, E, E, E, E, E, E, E, E, E, E, E, E, E, E, E, E, E, E, E, E, E, E, E, E, E, E, E, E, E, E, E, E, E, E, E, E, E, E, E, E, E, E, E, E, E, E, E, E, E, E, E, E, E, E, E, E, E, E, E, E, E, E, E, E, E, E, E, E, E, E, E, E, E, E, E, E, E, E, E, E, E, E, E, E, E, E, E, E, E, E, E, E, E, E, E, E, E, E, E, E, E, E, E, E, E, E, E, E, E, E, E, E, E, E, E, E, E, E, E, E, E, E, E, E, E, E, E, E, E, E, E, E, E, E, E, E, E, E, E, E, E, E, E, E, E, E, E, E, E, E, E, E, E, E, E, E, E, E, E, E, E, E, E, E, E, E, E, E, E, E, E, E, E, E, E, E, E, E, E, E, E, E, E, E, E, E, E, E, E, E, E, E, E, E, E, E, E, E, E, E, E, E, E, E, E, E, E, E, E, E, E, E, E, E, E, E, E, E, E, E, E, E, E, E, E, E, E, E, E, E, E, E, E, E, E, E, E, E, E, E, E, E, E, E, E, E, E, E, E, E, E, E, E, E, E, E, E, E, E, E, E, E, E, E, E, E, E, E, E, E, E, E, E, E, E, E, E, E, E, E, E, E, E, E, E, E, E, E, E, E, E, E]   \n",
      "  6  CIRC_CONV     1 BinTableHDU    856   1429R x 423C   [J, D, D, E, E, E, E, E, E, E, E, E, E, E, E, E, E, E, E, E, E, E, E, E, E, E, E, E, E, E, E, E, E, E, E, E, E, E, E, E, E, E, E, E, E, E, E, E, E, E, E, E, E, E, E, E, E, E, E, E, E, E, E, E, E, E, E, E, E, E, E, E, E, E, E, E, E, E, E, E, E, E, E, E, E, E, E, E, E, E, E, E, E, E, E, E, E, E, E, E, E, E, E, E, E, E, E, E, E, E, E, E, E, E, E, E, E, E, E, E, E, E, E, E, E, E, E, E, E, E, E, E, E, E, E, E, E, E, E, E, E, E, E, E, E, E, E, E, E, E, E, E, E, E, E, E, E, E, E, E, E, E, E, E, E, E, E, E, E, E, E, E, E, E, E, E, E, E, E, E, E, E, E, E, E, E, E, E, E, E, E, E, E, E, E, E, E, E, E, E, E, E, E, E, E, E, E, E, E, E, E, E, E, E, E, E, E, E, E, E, E, E, E, E, E, E, E, E, E, E, E, E, E, E, E, E, E, E, E, E, E, E, E, E, E, E, E, E, E, E, E, E, E, E, E, E, E, E, E, E, E, E, E, E, E, E, E, E, E, E, E, E, E, E, E, E, E, E, E, E, E, E, E, E, E, E, E, E, E, E, E, E, E, E, E, E, E, E, E, E, E, E, E, E, E, E, E, E, E, E, E, E, E, E, E, E, E, E, E, E, E, E, E, E, E, E, E, E, E, E, E, E, E, E, E, E, E, E, E, E, E, E, E, E, E, E, E, E, E, E, E, E, E, E, E, E, E, E, E, E, E, E, E, E, E, E, E, E, E, E, E, E, E, E, E, E, E, E, E, E, E, E, E, E, E, E, E, E, E, E, E, E, E, E, E, E, E, E, E, E, E, E, E, E, E, E, E, E, E, E, E, E, E, E, E, E, E, E, E, E, E, E, E]   \n",
      "  7  KRON          1 BinTableHDU    376   1429R x 183C   [J, D, D, E, E, E, E, E, E, E, E, E, E, E, E, E, E, E, E, E, E, E, E, E, E, E, E, E, E, E, E, E, E, E, E, E, E, E, E, E, E, E, E, E, E, E, E, E, E, E, E, E, E, E, E, E, E, E, E, E, E, E, E, E, E, E, E, E, E, E, E, E, E, E, E, E, E, E, E, E, E, E, E, E, E, E, E, E, E, E, E, E, E, E, E, E, E, E, E, E, E, E, E, E, E, E, E, E, E, E, E, E, E, E, E, E, E, E, E, E, E, E, E, E, E, E, E, E, E, E, E, E, E, E, E, E, E, E, E, E, E, E, E, E, E, E, E, E, E, E, E, E, E, E, E, E, E, E, E, E, E, E, E, E, E, E, E, E, E, E, E, E, E, E, E, E, E, E, E, E, E, E, E]   \n",
      "  8  KRON_CONV     1 BinTableHDU    376   1429R x 183C   [J, D, D, E, E, E, E, E, E, E, E, E, E, E, E, E, E, E, E, E, E, E, E, E, E, E, E, E, E, E, E, E, E, E, E, E, E, E, E, E, E, E, E, E, E, E, E, E, E, E, E, E, E, E, E, E, E, E, E, E, E, E, E, E, E, E, E, E, E, E, E, E, E, E, E, E, E, E, E, E, E, E, E, E, E, E, E, E, E, E, E, E, E, E, E, E, E, E, E, E, E, E, E, E, E, E, E, E, E, E, E, E, E, E, E, E, E, E, E, E, E, E, E, E, E, E, E, E, E, E, E, E, E, E, E, E, E, E, E, E, E, E, E, E, E, E, E, E, E, E, E, E, E, E, E, E, E, E, E, E, E, E, E, E, E, E, E, E, E, E, E, E, E, E, E, E, E, E, E, E, E, E, E]   \n",
      "  9  PHOTOZ        1 BinTableHDU     42   1429R x 16C   [J, D, D, D, D, D, D, D, D, D, D, D, D, 20A, 20A, 100A]   \n",
      "None\n"
     ]
    },
    {
     "name": "stderr",
     "output_type": "stream",
     "text": [
      "WARNING: MergeConflictWarning: Cannot merge meta key 'EXTNAME' types <class 'str'> and <class 'str'>, choosing EXTNAME='PHOTOZ' [astropy.utils.metadata]\n"
     ]
    }
   ],
   "source": [
    "############# data loading #############\n",
    "#load data\n",
    "inname = \"hlsp_jades_jwst_nircam_goods-s-deep_photometry_v1.0_catalog_large_withSpec.fits\"\n",
    "inpath = os.path.join(os.getenv('astrodata'), 'gds/jades/phot', inname)\n",
    "\n",
    "# print the meta info\n",
    "with fits.open(inpath) as hdul:\n",
    "    print(hdul.info())\n",
    "\n",
    "# load photometry table\n",
    "tab = Table.read(inpath, hdu=6)\n",
    "tab_redshifts = Table.read(inpath, hdu=9)\n",
    "\n",
    "# load fluxes\n",
    "# CIRC1: 0.10 arcsec aperture (see README)\n",
    "ext = '_CIRC1'\n",
    "cols_fluxes = hmod.get_matches(ext, tab.columns, exclude='_ei')\n",
    "cols_f = np.sort(hmod.get_matches(ext, cols_fluxes, exclude='_e'))\n",
    "cols_fe = np.sort(hmod.get_matches('_e', cols_fluxes))\n",
    "cols_fluxes = list(np.vstack([cols_f, cols_fe]).T.flatten())\n",
    "cols = list(np.insert(cols_fluxes, 0, ['ID', 'RA', 'DEC', 'z_spec','z_spec_quality']))\n",
    "\n",
    "tab = join(tab, tab_redshifts['ID', 'z_spec', 'z_spec_quality'], join_type='inner', keys='ID')\n",
    "tab_out = tab[cols]\n",
    "\n",
    "# convert from nJy to uJy\n",
    "# and apply MW reddening\n",
    "keys = np.array(list(mw_reddening.keys()))\n",
    "for c in cols_fluxes:\n",
    "    tab_out[c].unit = u.nJy\n",
    "    tab_out[c] = tab_out[c].to(u.uJy)\n",
    "    \n",
    "    # apply MW reddening\n",
    "    matches = hmod.get_matches(keys, c, get_idxs=True)\n",
    "    key = keys[np.int32(matches[:,0])][0]\n",
    "    tab_out[c] *= mw_reddening[key]\n",
    "\n",
    "# rename columns\n",
    "for c in cols_f:\n",
    "    cnew = c.replace(ext, '_flux')\n",
    "    tab_out.rename_column(c, cnew)\n",
    "\n",
    "for c in cols_fe:\n",
    "    cnew = c.replace(ext+'_e', '_err')\n",
    "    tab_out.rename_column(c, cnew)\n",
    "\n",
    "# pick out training set\n",
    "tab_out_Aqual = tab_out[tab_out['z_spec_quality'] == 'A']\n",
    "\n",
    "#np.random.seed(42)#pick randomly 90% of the A-quality spectra as the training set\n",
    "tab_out_Aqual_train = tab_out_Aqual[np.random.choice(range(len(tab_out_Aqual)), min(int(len(tab_out_Aqual)*0.9),200), replace=False)]\n",
    "tab_out_Aqual_test = tab_out_Aqual[~np.isin(tab_out_Aqual['ID'], tab_out_Aqual_train['ID'])]\n",
    "\n",
    "# save EAZY table\n",
    "os.makedirs('data', exist_ok=True)\n",
    "tab_out.write('./data/gds_jades_eazy.fits', format='fits', overwrite=True)\n",
    "tab_out_Aqual.write('./data/gds_jades_eazy_Aqual.fits', format='fits', overwrite=True)\n",
    "tab_out_Aqual_train.write('./data/gds_jades_eazy_Aqual_train.fits', format='fits', overwrite=True)\n",
    "tab_out_Aqual_test.write('./data/gds_jades_eazy_Aqual_test.fits', format='fits', overwrite=True)\n"
   ]
  },
  {
   "cell_type": "code",
   "execution_count": 51,
   "metadata": {},
   "outputs": [
    {
     "name": "stdout",
     "output_type": "stream",
     "text": [
      "Removed intermediate file: spectras_temp/paramFile.param\n",
      "updated template set\n"
     ]
    }
   ],
   "source": [
    "#setup intermediate folderstructure and such\n",
    "\n",
    "def saveTemplateset(templateSpectras):\n",
    "    #save the new templateset\n",
    "    for i in range(len(templateSpectras)):\n",
    "        if f\"{i}.spec\" in os.listdir(intermediateFolder):\n",
    "            os.remove(f'{intermediateFolder}/{i}.spec')\n",
    "            #print(\"Removed intermediate file: \"+f'{intermediateFolder}/{i}.spec')\n",
    "        flux = templateSpectras[i]\n",
    "        writeList = np.array([wave, flux]).T\n",
    "        np.savetxt(f'{intermediateFolder}/{i}.spec', writeList)\n",
    "        #print(\"Created template file: \"+f'{intermediateFolder}/{i}.spec')\n",
    "    print(\"updated template set\")\n",
    "\n",
    "intermediateFolder = \"spectras_temp\"\n",
    "if not os.path.exists(intermediateFolder):\n",
    "    os.makedirs(intermediateFolder)\n",
    "    print(\"Created intermediate folder: \"+intermediateFolder)\n",
    "if os.path.exists(f'{intermediateFolder}/paramFile.param'):\n",
    "    os.remove(f'{intermediateFolder}/paramFile.param')\n",
    "    print(\"Removed intermediate file: \"+f'{intermediateFolder}/paramFile.param')\n",
    "with open(f'{intermediateFolder}/paramFile.param', 'w') as p:\n",
    "    saveTemplateset(spectras[:templCnt])\n",
    "    for i in range(templCnt):\n",
    "        p.write(f'{i+1} {intermediateFolder}/{i}.spec\\n')\n",
    "p.close()"
   ]
  },
  {
   "cell_type": "code",
   "execution_count": 52,
   "metadata": {},
   "outputs": [],
   "source": [
    "#=== set up paths for eazy\n",
    "\n",
    "# catalog paths\n",
    "cat_name = 'gds_jades_eazy_Aqual_train'\n",
    "cat_path = f'./data/{cat_name}.fits'\n",
    "keys_id = ['ID id', 'RA ra', 'DEC dec', 'z_spec z_spec']\n",
    "\n",
    "templ_paths = f'{intermediateFolder}/paramFile.param'"
   ]
  },
  {
   "cell_type": "code",
   "execution_count": 53,
   "metadata": {},
   "outputs": [],
   "source": [
    "@jit(nopython=True)\n",
    "def performMatrixOperation(matrix, spectra):\n",
    "    return np.dot(matrix,spectra)\n",
    "\n",
    "def runEAZY():\n",
    "    tpath = f'{intermediateFolder}/paramFile.param'\n",
    "    with open(tpath) as f:\n",
    "        lines = f.readlines()\n",
    "        f.close()\n",
    "    opath = f'./eazy-output/{runTime}'\n",
    "    params = {\"cat_path\": cat_path,\n",
    "        \"templ_path\": tpath,\n",
    "        \"out_path\": opath,\n",
    "        \"FIX_ZSPEC\": 'n',\n",
    "        \"USE_ZSPEC_FOR_REST\": 'n',\n",
    "        \"Z_MAX\": 15,\n",
    "        \"H0\": cosmo.H0,\n",
    "        \"OMEGA_M\": cosmo.Om0,\n",
    "        \"OMEGA_L\": cosmo.Ode0,\n",
    "        \"CATALOG_FORMAT\": 'fits'}\n",
    "    # write eazy config files\n",
    "    ___, fnames = ez.write_config(cat_name, filts, zps, keys_id,\n",
    "        out_path=opath)\n",
    "    # run eazy\n",
    "    idx = None\n",
    "    with HiddenPrints():\n",
    "        #blockPrint()\n",
    "        with warnings.catch_warnings():\n",
    "            warnings.simplefilter(\"ignore\")\n",
    "            _, __ = ez.run_eazy(params, fnames, n_proc=-1, idx=idx)\n",
    "            warnings.resetwarnings()\n",
    "        #enablePrint()\n",
    "    #zout, hdu = \n",
    "    #read the output\n",
    "    fpath = f'eazy-output/{runTime}/gds_jades_eazy_Aqual_train.zout.fits'\n",
    "    tbl = Table.read(fpath)\n",
    "    names = [name for name in tbl.colnames if len(tbl[name].shape) <= 1]\n",
    "    df = tbl[names].to_pandas()\n",
    "    #change df 'id' to 'ID'\n",
    "    df.rename(columns={'id': 'ID'}, inplace=True)\n",
    "\n",
    "    #merge with catalog zspec\n",
    "    fpath = './data/gds_jades_eazy_Aqual_train.fits'\n",
    "    tbl = Table.read(fpath, hdu=1)    \n",
    "    names = [name for name in tbl.colnames if len(tbl[name].shape) <= 1]\n",
    "    names = [name for name in names if \n",
    "        'ID' in name or\n",
    "        'EAZY_z_a' in name or \n",
    "        'z_spec_source' in name or \n",
    "        'z_spec_quality' in name or\n",
    "        'z_spec_reference' in name\n",
    "    ]\n",
    "    df_spec = tbl[names].to_pandas()\n",
    "    \n",
    "    # add spec info to the photo table\n",
    "    df = pd.merge(df, df_spec, on='ID', how='left')\n",
    "\n",
    "    print(\"################ EAZY DONE ###################\")\n",
    "    return df\n",
    "\n",
    "def meassureBadnessOfZ(matrix,spectras):\n",
    "    #function that encapsulates the whole framework of testing EAZY on a set of spectras\n",
    "    templateSpectras = performMatrixOperation(matrix,spectras)\n",
    "    saveTemplateset(templateSpectras)\n",
    "    Zs = runEAZY()\n",
    "    z_spec = Zs['z_spec']\n",
    "    z_phot = Zs['z_phot']\n",
    "    zDeltas = z_spec - z_phot\n",
    "    return np.sum(zDeltas**2)"
   ]
  },
  {
   "cell_type": "code",
   "execution_count": 54,
   "metadata": {},
   "outputs": [
    {
     "name": "stdout",
     "output_type": "stream",
     "text": [
      "Loaded previous matrix\n"
     ]
    }
   ],
   "source": [
    "#matrix stuff\n",
    "#matrix = np.random.uniform(0, 1, (templCnt, spectras.shape[0]))\n",
    "matrix = np.zeros((templCnt, spectras.shape[0]), dtype=np.float64)\n",
    "for i in range(templCnt):\n",
    "    matrix[i][i] = 1\n",
    "usePrevMatrix = True\n",
    "if usePrevMatrix:\n",
    "    matrix = np.loadtxt(f'{out_path}/smartsmartsmartbetter_147.csv', delimiter=',')\n",
    "    print(\"Loaded previous matrix\")\n",
    "\n",
    "@jit(nopython=True)\n",
    "def matrixOp(matrix, spectras):\n",
    "    vec = np.zeros((templCnt, 1))\n",
    "    for i in range(templCnt):\n",
    "        vec[i] = np.sum(matrix[i] * spectras[i])\n",
    "    return vec\n"
   ]
  },
  {
   "cell_type": "code",
   "execution_count": 55,
   "metadata": {},
   "outputs": [
    {
     "name": "stdout",
     "output_type": "stream",
     "text": [
      "################### START #######################\n",
      "initial loss test...\n",
      "updated template set\n"
     ]
    },
    {
     "name": "stderr",
     "output_type": "stream",
     "text": [
      "100%|██████████| 13/13 [00:07<00:00,  1.80it/s]\n",
      "256it [00:00, 7662.31it/s]\n",
      "100%|██████████| 256/256 [00:01<00:00, 176.40it/s]\n",
      "100%|██████████| 198/198 [00:05<00:00, 33.95it/s]\n",
      "100%|██████████| 198/198 [00:16<00:00, 11.90it/s]\n",
      "100%|██████████| 198/198 [00:03<00:00, 55.70it/s]\n"
     ]
    },
    {
     "name": "stdout",
     "output_type": "stream",
     "text": [
      "################ EAZY DONE ###################\n",
      "initial loss test done\n",
      "loop 0\n"
     ]
    },
    {
     "name": "stderr",
     "output_type": "stream",
     "text": [
      "/tmp/ipykernel_5736/4063478249.py:78: UserWarning: Attempting to set identical bottom == top == 531.6903824657846 results in singular transformations; automatically expanding.\n",
      "  axs.set_ylim([losses_train[-1], (max(np.array(lossByCFunc)[:,1])-min(np.array(lossByCFunc)[:,1]))*1.1+min(np.array(lossByCFunc)[:,1])])\n",
      "/tmp/ipykernel_5736/4063478249.py:79: UserWarning: Attempting to set identical left == right == 0.0 results in singular transformations; automatically expanding.\n",
      "  axs.set_xlim([min(np.array(lossByCFunc)[:,0])*1.1, max(np.array(lossByCFunc)[:,0])*1.1])\n"
     ]
    },
    {
     "name": "stdout",
     "output_type": "stream",
     "text": [
      "cMax\n",
      "test @ cCap: 0.5...\n",
      "updated template set\n"
     ]
    },
    {
     "name": "stderr",
     "output_type": "stream",
     "text": [
      "100%|██████████| 13/13 [00:08<00:00,  1.46it/s]\n",
      "256it [00:00, 4445.86it/s]\n",
      "100%|██████████| 256/256 [00:01<00:00, 174.37it/s]\n",
      "100%|██████████| 198/198 [00:04<00:00, 44.61it/s]\n",
      "100%|██████████| 198/198 [00:12<00:00, 16.09it/s]\n",
      "100%|██████████| 198/198 [00:02<00:00, 76.13it/s]\n"
     ]
    },
    {
     "name": "stdout",
     "output_type": "stream",
     "text": [
      "################ EAZY DONE ###################\n",
      "first c test done\n",
      "cMax/2\n",
      "test @ -cCap: 0.25...\n",
      "updated template set\n"
     ]
    },
    {
     "name": "stderr",
     "output_type": "stream",
     "text": [
      "100%|██████████| 13/13 [00:07<00:00,  1.72it/s]\n",
      "256it [00:00, 7092.74it/s]\n",
      "100%|██████████| 256/256 [00:01<00:00, 207.76it/s]\n",
      "100%|██████████| 198/198 [00:04<00:00, 46.71it/s]\n",
      "100%|██████████| 198/198 [00:12<00:00, 16.37it/s]\n",
      "100%|██████████| 198/198 [00:03<00:00, 49.81it/s]\n"
     ]
    },
    {
     "name": "stdout",
     "output_type": "stream",
     "text": [
      "################ EAZY DONE ###################\n",
      "test at -cCap done\n",
      "################### loop 0 #######################\n",
      "poly: [-1211.63649155   902.76855618   531.69038247]\n",
      "699.8495357495385\n",
      "trying c: 0.045454545454545456\n",
      "updated template set\n"
     ]
    },
    {
     "name": "stderr",
     "output_type": "stream",
     "text": [
      "100%|██████████| 13/13 [00:07<00:00,  1.71it/s]\n",
      "256it [00:00, 5636.20it/s]\n",
      "100%|██████████| 256/256 [00:01<00:00, 186.01it/s]\n",
      "100%|██████████| 198/198 [00:03<00:00, 49.53it/s]\n",
      "100%|██████████| 198/198 [00:11<00:00, 16.99it/s]\n",
      "100%|██████████| 198/198 [00:03<00:00, 54.33it/s]\n"
     ]
    },
    {
     "name": "stdout",
     "output_type": "stream",
     "text": [
      "################ EAZY DONE ###################\n",
      "loss: 642.8626694845777, c: 0.045454545454545456\n",
      "################### loop 1 #######################\n",
      "poly: [-1208.75727484   830.0683344    564.08157039]\n",
      "706.5860777253062\n",
      "trying c: 0.015151515151515152\n",
      "updated template set\n"
     ]
    },
    {
     "name": "stderr",
     "output_type": "stream",
     "text": [
      "100%|██████████| 13/13 [00:08<00:00,  1.48it/s]\n",
      "256it [00:00, 6583.74it/s]\n",
      "100%|██████████| 256/256 [00:01<00:00, 171.53it/s]\n",
      "100%|██████████| 198/198 [00:04<00:00, 48.85it/s]\n",
      "100%|██████████| 198/198 [00:12<00:00, 15.57it/s]\n",
      "100%|██████████| 198/198 [00:03<00:00, 57.86it/s]\n"
     ]
    },
    {
     "name": "stdout",
     "output_type": "stream",
     "text": [
      "################ EAZY DONE ###################\n",
      "loss: 531.6953347691156, c: 0.015151515151515152\n",
      "################### loop 2 #######################\n",
      "poly: [ 17437.61845163 -14434.27025378   3188.62055129    514.66732195]\n",
      "596.6349869745429\n",
      "trying c: 0.43939393939393945\n",
      "updated template set\n"
     ]
    },
    {
     "name": "stderr",
     "output_type": "stream",
     "text": [
      "100%|██████████| 13/13 [00:07<00:00,  1.68it/s]\n",
      "256it [00:00, 9164.51it/s]\n",
      "100%|██████████| 256/256 [00:01<00:00, 191.00it/s]\n",
      "100%|██████████| 198/198 [00:04<00:00, 46.90it/s]\n",
      "100%|██████████| 198/198 [00:12<00:00, 16.21it/s]\n",
      "100%|██████████| 198/198 [00:03<00:00, 63.64it/s]\n"
     ]
    },
    {
     "name": "stdout",
     "output_type": "stream",
     "text": [
      "################ EAZY DONE ###################\n",
      "loss: 681.6673497294885, c: 0.43939393939393945\n"
     ]
    },
    {
     "name": "stderr",
     "output_type": "stream",
     "text": [
      "/tmp/ipykernel_5736/4063478249.py:78: UserWarning: Attempting to set identical bottom == top == 531.6903824657846 results in singular transformations; automatically expanding.\n",
      "  axs.set_ylim([losses_train[-1], (max(np.array(lossByCFunc)[:,1])-min(np.array(lossByCFunc)[:,1]))*1.1+min(np.array(lossByCFunc)[:,1])])\n",
      "/tmp/ipykernel_5736/4063478249.py:79: UserWarning: Attempting to set identical left == right == 0.0 results in singular transformations; automatically expanding.\n",
      "  axs.set_xlim([min(np.array(lossByCFunc)[:,0])*1.1, max(np.array(lossByCFunc)[:,0])*1.1])\n"
     ]
    },
    {
     "name": "stdout",
     "output_type": "stream",
     "text": [
      "cMax\n",
      "test @ cCap: 0.5...\n",
      "updated template set\n"
     ]
    },
    {
     "name": "stderr",
     "output_type": "stream",
     "text": [
      "100%|██████████| 13/13 [00:07<00:00,  1.66it/s]\n",
      "256it [00:00, 7745.83it/s]\n",
      "100%|██████████| 256/256 [00:01<00:00, 189.05it/s]\n",
      "100%|██████████| 198/198 [00:04<00:00, 40.46it/s]\n",
      "100%|██████████| 198/198 [00:13<00:00, 14.71it/s]\n",
      "100%|██████████| 198/198 [00:03<00:00, 61.19it/s]\n"
     ]
    },
    {
     "name": "stdout",
     "output_type": "stream",
     "text": [
      "################ EAZY DONE ###################\n",
      "first c test done\n",
      "IMPROVEMENT FOUND!!!\n",
      "$\\Delta$ loss: -27.833426229443887\n"
     ]
    },
    {
     "name": "stderr",
     "output_type": "stream",
     "text": [
      "/tmp/ipykernel_5736/4063478249.py:78: UserWarning: Attempting to set identical bottom == top == 503.85695623634075 results in singular transformations; automatically expanding.\n",
      "  axs.set_ylim([losses_train[-1], (max(np.array(lossByCFunc)[:,1])-min(np.array(lossByCFunc)[:,1]))*1.1+min(np.array(lossByCFunc)[:,1])])\n",
      "/tmp/ipykernel_5736/4063478249.py:79: UserWarning: Attempting to set identical left == right == 0.0 results in singular transformations; automatically expanding.\n",
      "  axs.set_xlim([min(np.array(lossByCFunc)[:,0])*1.1, max(np.array(lossByCFunc)[:,0])*1.1])\n"
     ]
    },
    {
     "name": "stdout",
     "output_type": "stream",
     "text": [
      "cMax\n",
      "test @ cCap: 0.5...\n",
      "updated template set\n"
     ]
    },
    {
     "name": "stderr",
     "output_type": "stream",
     "text": [
      "100%|██████████| 13/13 [00:07<00:00,  1.67it/s]\n",
      "256it [00:00, 7612.17it/s]\n",
      "100%|██████████| 256/256 [00:01<00:00, 184.89it/s]\n",
      "100%|██████████| 198/198 [00:04<00:00, 47.38it/s]\n",
      "100%|██████████| 198/198 [00:12<00:00, 15.77it/s]\n",
      "100%|██████████| 198/198 [00:03<00:00, 55.51it/s]\n"
     ]
    },
    {
     "name": "stdout",
     "output_type": "stream",
     "text": [
      "################ EAZY DONE ###################\n",
      "first c test done\n",
      "cMax/2\n",
      "test @ -cCap: 0.25...\n",
      "updated template set\n"
     ]
    },
    {
     "name": "stderr",
     "output_type": "stream",
     "text": [
      "100%|██████████| 13/13 [00:07<00:00,  1.70it/s]\n",
      "256it [00:00, 7206.32it/s]\n",
      "100%|██████████| 256/256 [00:01<00:00, 188.67it/s]\n",
      "100%|██████████| 198/198 [00:04<00:00, 45.44it/s]\n",
      "100%|██████████| 198/198 [00:14<00:00, 13.98it/s]\n",
      "100%|██████████| 198/198 [00:03<00:00, 58.79it/s]\n"
     ]
    },
    {
     "name": "stdout",
     "output_type": "stream",
     "text": [
      "################ EAZY DONE ###################\n",
      "test at -cCap done\n",
      "################### loop 0 #######################\n",
      "poly: [-1397.98584226  1055.98147491   503.85695624]\n",
      "703.268288175415\n",
      "trying c: 0.12121212121212122\n",
      "updated template set\n"
     ]
    },
    {
     "name": "stderr",
     "output_type": "stream",
     "text": [
      "100%|██████████| 13/13 [00:07<00:00,  1.65it/s]\n",
      "256it [00:00, 7712.94it/s]\n",
      "100%|██████████| 256/256 [00:01<00:00, 188.82it/s]\n",
      "100%|██████████| 198/198 [00:04<00:00, 41.02it/s]\n",
      "100%|██████████| 198/198 [00:12<00:00, 16.12it/s]\n",
      "100%|██████████| 198/198 [00:03<00:00, 61.22it/s]\n"
     ]
    },
    {
     "name": "stdout",
     "output_type": "stream",
     "text": [
      "################ EAZY DONE ###################\n",
      "loss: 680.3912918694022, c: 0.12121212121212122\n",
      "################### loop 1 #######################\n",
      "poly: [-1787.58293148  1209.10115471   519.64440503]\n",
      "724.100038466066\n",
      "trying c: 0.05050505050505051\n",
      "updated template set\n"
     ]
    },
    {
     "name": "stderr",
     "output_type": "stream",
     "text": [
      "100%|██████████| 13/13 [00:07<00:00,  1.69it/s]\n",
      "256it [00:00, 8108.91it/s]\n",
      "100%|██████████| 256/256 [00:01<00:00, 188.07it/s]\n",
      "100%|██████████| 198/198 [00:04<00:00, 45.25it/s]\n",
      "100%|██████████| 198/198 [00:13<00:00, 14.83it/s]\n",
      "100%|██████████| 198/198 [00:03<00:00, 55.73it/s]\n"
     ]
    },
    {
     "name": "stdout",
     "output_type": "stream",
     "text": [
      "################ EAZY DONE ###################\n",
      "loss: 631.7258234739221, c: 0.05050505050505051\n",
      "################### loop 2 #######################\n",
      "poly: [ 13457.91952716 -11398.3035456    2680.37692299    509.70913246]\n",
      "619.4136220377948\n",
      "trying c: 0.3080808080808081\n",
      "updated template set\n"
     ]
    },
    {
     "name": "stderr",
     "output_type": "stream",
     "text": [
      "100%|██████████| 13/13 [00:08<00:00,  1.61it/s]\n",
      "256it [00:00, 7673.86it/s]\n",
      "100%|██████████| 256/256 [00:01<00:00, 180.47it/s]\n",
      "100%|██████████| 198/198 [00:04<00:00, 47.53it/s]\n",
      "100%|██████████| 198/198 [00:13<00:00, 15.21it/s]\n",
      "100%|██████████| 198/198 [00:03<00:00, 54.88it/s]\n"
     ]
    },
    {
     "name": "stdout",
     "output_type": "stream",
     "text": [
      "################ EAZY DONE ###################\n",
      "loss: 680.4772319907108, c: 0.3080808080808081\n"
     ]
    },
    {
     "name": "stderr",
     "output_type": "stream",
     "text": [
      "/tmp/ipykernel_5736/4063478249.py:78: UserWarning: Attempting to set identical bottom == top == 503.85695623634075 results in singular transformations; automatically expanding.\n",
      "  axs.set_ylim([losses_train[-1], (max(np.array(lossByCFunc)[:,1])-min(np.array(lossByCFunc)[:,1]))*1.1+min(np.array(lossByCFunc)[:,1])])\n",
      "/tmp/ipykernel_5736/4063478249.py:79: UserWarning: Attempting to set identical left == right == 0.0 results in singular transformations; automatically expanding.\n",
      "  axs.set_xlim([min(np.array(lossByCFunc)[:,0])*1.1, max(np.array(lossByCFunc)[:,0])*1.1])\n"
     ]
    },
    {
     "name": "stdout",
     "output_type": "stream",
     "text": [
      "cMax\n",
      "test @ cCap: 0.5...\n",
      "updated template set\n"
     ]
    },
    {
     "name": "stderr",
     "output_type": "stream",
     "text": [
      "100%|██████████| 13/13 [00:07<00:00,  1.67it/s]\n",
      "256it [00:00, 8052.42it/s]\n",
      "100%|██████████| 256/256 [00:01<00:00, 186.83it/s]\n",
      "100%|██████████| 198/198 [00:04<00:00, 44.25it/s]\n",
      "100%|██████████| 198/198 [00:13<00:00, 15.14it/s]\n",
      "100%|██████████| 198/198 [00:03<00:00, 59.14it/s]\n"
     ]
    },
    {
     "name": "stdout",
     "output_type": "stream",
     "text": [
      "################ EAZY DONE ###################\n",
      "first c test done\n",
      "cMax/2\n",
      "test @ -cCap: 0.25...\n",
      "updated template set\n"
     ]
    },
    {
     "name": "stderr",
     "output_type": "stream",
     "text": [
      "100%|██████████| 13/13 [00:07<00:00,  1.67it/s]\n",
      "256it [00:00, 7852.89it/s]\n",
      "100%|██████████| 256/256 [00:01<00:00, 188.23it/s]\n",
      "100%|██████████| 198/198 [00:04<00:00, 46.46it/s]\n",
      "100%|██████████| 198/198 [00:12<00:00, 15.58it/s]\n",
      "100%|██████████| 198/198 [00:03<00:00, 56.13it/s]\n"
     ]
    },
    {
     "name": "stdout",
     "output_type": "stream",
     "text": [
      "################ EAZY DONE ###################\n",
      "test at -cCap done\n",
      "################### loop 0 #######################\n",
      "poly: [-222.41800544  166.81678118  503.85695624]\n",
      "535.1357171751312\n",
      "trying c: 0.05555555555555556\n",
      "updated template set\n"
     ]
    },
    {
     "name": "stderr",
     "output_type": "stream",
     "text": [
      "100%|██████████| 13/13 [00:07<00:00,  1.69it/s]\n",
      "256it [00:00, 7115.07it/s]\n",
      "100%|██████████| 256/256 [00:01<00:00, 180.98it/s]\n",
      "100%|██████████| 198/198 [00:04<00:00, 45.22it/s]\n",
      "100%|██████████| 198/198 [00:13<00:00, 15.22it/s]\n",
      "100%|██████████| 198/198 [00:03<00:00, 58.07it/s]\n"
     ]
    },
    {
     "name": "stdout",
     "output_type": "stream",
     "text": [
      "################ EAZY DONE ###################\n",
      "loss: 531.6575044006345, c: 0.05555555555555556\n",
      "################### loop 1 #######################\n",
      "poly: [-239.76366992  157.27666571  511.95159966]\n",
      "537.7436114222455\n",
      "trying c: 0.05555555555555556\n",
      "updated template set\n"
     ]
    },
    {
     "name": "stderr",
     "output_type": "stream",
     "text": [
      "100%|██████████| 13/13 [00:07<00:00,  1.69it/s]\n",
      "256it [00:00, 6633.69it/s]\n",
      "100%|██████████| 256/256 [00:01<00:00, 189.26it/s]\n",
      "100%|██████████| 198/198 [00:04<00:00, 44.59it/s]\n",
      "100%|██████████| 198/198 [00:13<00:00, 14.93it/s]\n",
      "100%|██████████| 198/198 [00:03<00:00, 57.97it/s]\n"
     ]
    },
    {
     "name": "stdout",
     "output_type": "stream",
     "text": [
      "################ EAZY DONE ###################\n",
      "loss: 531.6575044006345, c: 0.05555555555555556\n",
      "################### loop 2 #######################\n",
      "poly: [ 4003.13156752 -3224.76668108   667.20822712   503.85695624]\n",
      "510.9653717167021\n",
      "trying c: 0.30303030303030304\n",
      "updated template set\n"
     ]
    },
    {
     "name": "stderr",
     "output_type": "stream",
     "text": [
      "100%|██████████| 13/13 [00:07<00:00,  1.67it/s]\n",
      "256it [00:00, 7601.28it/s]\n",
      "100%|██████████| 256/256 [00:01<00:00, 188.40it/s]\n",
      "100%|██████████| 198/198 [00:04<00:00, 46.39it/s]\n",
      "100%|██████████| 198/198 [00:13<00:00, 15.23it/s]\n",
      "100%|██████████| 198/198 [00:03<00:00, 60.70it/s]\n"
     ]
    },
    {
     "name": "stdout",
     "output_type": "stream",
     "text": [
      "################ EAZY DONE ###################\n",
      "loss: 531.6601049745263, c: 0.30303030303030304\n"
     ]
    },
    {
     "name": "stderr",
     "output_type": "stream",
     "text": [
      "/tmp/ipykernel_5736/4063478249.py:78: UserWarning: Attempting to set identical bottom == top == 503.85695623634075 results in singular transformations; automatically expanding.\n",
      "  axs.set_ylim([losses_train[-1], (max(np.array(lossByCFunc)[:,1])-min(np.array(lossByCFunc)[:,1]))*1.1+min(np.array(lossByCFunc)[:,1])])\n",
      "/tmp/ipykernel_5736/4063478249.py:79: UserWarning: Attempting to set identical left == right == 0.0 results in singular transformations; automatically expanding.\n",
      "  axs.set_xlim([min(np.array(lossByCFunc)[:,0])*1.1, max(np.array(lossByCFunc)[:,0])*1.1])\n"
     ]
    },
    {
     "name": "stdout",
     "output_type": "stream",
     "text": [
      "cMax\n",
      "test @ cCap: 0.5...\n",
      "updated template set\n"
     ]
    },
    {
     "name": "stderr",
     "output_type": "stream",
     "text": [
      "100%|██████████| 13/13 [00:07<00:00,  1.67it/s]\n",
      "256it [00:00, 7289.98it/s]\n",
      "100%|██████████| 256/256 [00:01<00:00, 187.50it/s]\n",
      "100%|██████████| 198/198 [00:04<00:00, 43.82it/s]\n",
      "100%|██████████| 198/198 [00:13<00:00, 14.82it/s]\n",
      "100%|██████████| 198/198 [00:03<00:00, 59.90it/s]\n"
     ]
    },
    {
     "name": "stdout",
     "output_type": "stream",
     "text": [
      "################ EAZY DONE ###################\n",
      "first c test done\n",
      "cMax/2\n",
      "test @ -cCap: 0.25...\n",
      "updated template set\n"
     ]
    },
    {
     "name": "stderr",
     "output_type": "stream",
     "text": [
      "100%|██████████| 13/13 [00:07<00:00,  1.68it/s]\n",
      "256it [00:00, 8007.02it/s]\n",
      "100%|██████████| 256/256 [00:01<00:00, 188.79it/s]\n",
      "100%|██████████| 198/198 [00:04<00:00, 41.48it/s]\n",
      "100%|██████████| 198/198 [00:13<00:00, 14.79it/s]\n",
      "100%|██████████| 198/198 [00:03<00:00, 57.19it/s]\n"
     ]
    },
    {
     "name": "stdout",
     "output_type": "stream",
     "text": [
      "################ EAZY DONE ###################\n",
      "test at -cCap done\n",
      "################### loop 0 #######################\n",
      "poly: [-223.7459064   167.80872126  503.85695624]\n",
      "535.3209586205193\n",
      "trying c: 0.10101010101010102\n",
      "updated template set\n"
     ]
    },
    {
     "name": "stderr",
     "output_type": "stream",
     "text": [
      "100%|██████████| 13/13 [00:07<00:00,  1.70it/s]\n",
      "256it [00:00, 6878.60it/s]\n",
      "100%|██████████| 256/256 [00:01<00:00, 186.92it/s]\n",
      "100%|██████████| 198/198 [00:04<00:00, 43.47it/s]\n",
      "100%|██████████| 198/198 [00:12<00:00, 15.45it/s]\n",
      "100%|██████████| 198/198 [00:03<00:00, 54.78it/s]\n"
     ]
    },
    {
     "name": "stdout",
     "output_type": "stream",
     "text": [
      "################ EAZY DONE ###################\n",
      "loss: 531.617054482637, c: 0.10101010101010102\n",
      "################### loop 1 #######################\n",
      "poly: [-282.83560532  187.93270241  507.61578753]\n",
      "538.8341878756056\n",
      "trying c: 0.020202020202020204\n",
      "updated template set\n"
     ]
    },
    {
     "name": "stderr",
     "output_type": "stream",
     "text": [
      "100%|██████████| 13/13 [00:07<00:00,  1.67it/s]\n",
      "256it [00:00, 7291.22it/s]\n",
      "100%|██████████| 256/256 [00:01<00:00, 189.28it/s]\n",
      "100%|██████████| 198/198 [00:04<00:00, 47.60it/s]\n",
      "100%|██████████| 198/198 [00:12<00:00, 15.42it/s]\n",
      "100%|██████████| 198/198 [00:03<00:00, 60.15it/s]\n"
     ]
    },
    {
     "name": "stdout",
     "output_type": "stream",
     "text": [
      "################ EAZY DONE ###################\n",
      "loss: 531.6584391343924, c: 0.020202020202020204\n",
      "################### loop 2 #######################\n",
      "poly: [ 2360.72473546 -1909.95897666   404.0352737    512.29631551]\n",
      "519.3800620705399\n",
      "trying c: 0.2575757575757576\n",
      "updated template set\n"
     ]
    },
    {
     "name": "stderr",
     "output_type": "stream",
     "text": [
      "100%|██████████| 13/13 [00:07<00:00,  1.72it/s]\n",
      "256it [00:00, 6423.48it/s]\n",
      "100%|██████████| 256/256 [00:01<00:00, 187.57it/s]\n",
      "100%|██████████| 198/198 [00:04<00:00, 48.69it/s]\n",
      "100%|██████████| 198/198 [00:12<00:00, 16.00it/s]\n",
      "100%|██████████| 198/198 [00:03<00:00, 60.80it/s]\n"
     ]
    },
    {
     "name": "stdout",
     "output_type": "stream",
     "text": [
      "################ EAZY DONE ###################\n",
      "loss: 531.82500752308, c: 0.2575757575757576\n"
     ]
    },
    {
     "name": "stderr",
     "output_type": "stream",
     "text": [
      "/tmp/ipykernel_5736/4063478249.py:78: UserWarning: Attempting to set identical bottom == top == 503.85695623634075 results in singular transformations; automatically expanding.\n",
      "  axs.set_ylim([losses_train[-1], (max(np.array(lossByCFunc)[:,1])-min(np.array(lossByCFunc)[:,1]))*1.1+min(np.array(lossByCFunc)[:,1])])\n",
      "/tmp/ipykernel_5736/4063478249.py:79: UserWarning: Attempting to set identical left == right == 0.0 results in singular transformations; automatically expanding.\n",
      "  axs.set_xlim([min(np.array(lossByCFunc)[:,0])*1.1, max(np.array(lossByCFunc)[:,0])*1.1])\n"
     ]
    },
    {
     "name": "stdout",
     "output_type": "stream",
     "text": [
      "cMax\n",
      "test @ cCap: 0.5...\n",
      "updated template set\n"
     ]
    },
    {
     "name": "stderr",
     "output_type": "stream",
     "text": [
      "100%|██████████| 13/13 [00:07<00:00,  1.67it/s]\n",
      "256it [00:00, 6752.88it/s]\n",
      "100%|██████████| 256/256 [00:01<00:00, 190.36it/s]\n",
      "100%|██████████| 198/198 [00:04<00:00, 41.93it/s]\n",
      "100%|██████████| 198/198 [00:12<00:00, 16.46it/s]\n",
      "100%|██████████| 198/198 [00:03<00:00, 59.57it/s]\n"
     ]
    },
    {
     "name": "stdout",
     "output_type": "stream",
     "text": [
      "################ EAZY DONE ###################\n",
      "first c test done\n",
      "cMax/2\n",
      "test @ -cCap: 0.25...\n",
      "updated template set\n"
     ]
    },
    {
     "name": "stderr",
     "output_type": "stream",
     "text": [
      "100%|██████████| 13/13 [00:07<00:00,  1.69it/s]\n",
      "256it [00:00, 6844.13it/s]\n",
      "100%|██████████| 256/256 [00:01<00:00, 182.38it/s]\n",
      "100%|██████████| 198/198 [00:04<00:00, 43.86it/s]\n",
      "100%|██████████| 198/198 [00:13<00:00, 14.93it/s]\n",
      "100%|██████████| 198/198 [00:03<00:00, 60.35it/s]\n"
     ]
    },
    {
     "name": "stdout",
     "output_type": "stream",
     "text": [
      "################ EAZY DONE ###################\n",
      "test at -cCap done\n",
      "################### loop 0 #######################\n",
      "poly: [-223.77625895  167.92543219  503.85695624]\n",
      "535.3604666056503\n",
      "trying c: 0.10101010101010102\n",
      "updated template set\n"
     ]
    },
    {
     "name": "stderr",
     "output_type": "stream",
     "text": [
      "100%|██████████| 13/13 [00:07<00:00,  1.70it/s]\n",
      "256it [00:00, 6455.18it/s]\n",
      "100%|██████████| 256/256 [00:01<00:00, 187.30it/s]\n",
      "100%|██████████| 198/198 [00:04<00:00, 40.40it/s]\n",
      "100%|██████████| 198/198 [00:12<00:00, 15.30it/s]\n",
      "100%|██████████| 198/198 [00:03<00:00, 57.28it/s]\n"
     ]
    },
    {
     "name": "stdout",
     "output_type": "stream",
     "text": [
      "################ EAZY DONE ###################\n",
      "loss: 531.6306908110798, c: 0.10101010101010102\n",
      "################### loop 1 #######################\n",
      "poly: [-282.87569301  188.05272881  507.61640681]\n",
      "538.8702664391875\n",
      "trying c: 0.030303030303030304\n",
      "updated template set\n"
     ]
    },
    {
     "name": "stderr",
     "output_type": "stream",
     "text": [
      "100%|██████████| 13/13 [00:07<00:00,  1.71it/s]\n",
      "256it [00:00, 6950.64it/s]\n",
      "100%|██████████| 256/256 [00:01<00:00, 189.73it/s]\n",
      "100%|██████████| 198/198 [00:04<00:00, 45.00it/s]\n",
      "100%|██████████| 198/198 [00:12<00:00, 15.41it/s]\n",
      "100%|██████████| 198/198 [00:03<00:00, 58.26it/s]\n"
     ]
    },
    {
     "name": "stdout",
     "output_type": "stream",
     "text": [
      "################ EAZY DONE ###################\n",
      "loss: 531.6851130119569, c: 0.030303030303030304\n",
      "################### loop 2 #######################\n",
      "poly: [ 2706.9427581  -2189.87888543   462.90292269   509.6201543 ]\n",
      "517.6194988795398\n",
      "trying c: 0.3434343434343435\n",
      "updated template set\n"
     ]
    },
    {
     "name": "stderr",
     "output_type": "stream",
     "text": [
      "100%|██████████| 13/13 [00:07<00:00,  1.68it/s]\n",
      "256it [00:00, 8122.53it/s]\n",
      "100%|██████████| 256/256 [00:01<00:00, 179.82it/s]\n",
      "100%|██████████| 198/198 [00:04<00:00, 43.42it/s]\n",
      "100%|██████████| 198/198 [00:14<00:00, 14.13it/s]\n",
      "100%|██████████| 198/198 [00:03<00:00, 60.72it/s]\n"
     ]
    },
    {
     "name": "stdout",
     "output_type": "stream",
     "text": [
      "################ EAZY DONE ###################\n",
      "loss: 531.8577198680371, c: 0.3434343434343435\n"
     ]
    },
    {
     "name": "stderr",
     "output_type": "stream",
     "text": [
      "/tmp/ipykernel_5736/4063478249.py:78: UserWarning: Attempting to set identical bottom == top == 503.85695623634075 results in singular transformations; automatically expanding.\n",
      "  axs.set_ylim([losses_train[-1], (max(np.array(lossByCFunc)[:,1])-min(np.array(lossByCFunc)[:,1]))*1.1+min(np.array(lossByCFunc)[:,1])])\n",
      "/tmp/ipykernel_5736/4063478249.py:79: UserWarning: Attempting to set identical left == right == 0.0 results in singular transformations; automatically expanding.\n",
      "  axs.set_xlim([min(np.array(lossByCFunc)[:,0])*1.1, max(np.array(lossByCFunc)[:,0])*1.1])\n"
     ]
    },
    {
     "name": "stdout",
     "output_type": "stream",
     "text": [
      "cMax\n",
      "test @ cCap: 0.5...\n",
      "updated template set\n"
     ]
    },
    {
     "name": "stderr",
     "output_type": "stream",
     "text": [
      "100%|██████████| 13/13 [00:07<00:00,  1.66it/s]\n",
      "256it [00:00, 7683.52it/s]\n",
      "100%|██████████| 256/256 [00:01<00:00, 189.30it/s]\n",
      "100%|██████████| 198/198 [00:04<00:00, 44.08it/s]\n",
      "100%|██████████| 198/198 [00:12<00:00, 16.31it/s]\n",
      "100%|██████████| 198/198 [00:03<00:00, 58.57it/s]\n"
     ]
    },
    {
     "name": "stdout",
     "output_type": "stream",
     "text": [
      "################ EAZY DONE ###################\n",
      "first c test done\n",
      "cMax/2\n",
      "test @ -cCap: 0.25...\n",
      "updated template set\n"
     ]
    },
    {
     "name": "stderr",
     "output_type": "stream",
     "text": [
      "100%|██████████| 13/13 [00:07<00:00,  1.69it/s]\n",
      "256it [00:00, 6729.31it/s]\n",
      "100%|██████████| 256/256 [00:01<00:00, 188.86it/s]\n",
      "100%|██████████| 198/198 [00:04<00:00, 42.63it/s]\n",
      "100%|██████████| 198/198 [00:13<00:00, 15.05it/s]\n",
      "100%|██████████| 198/198 [00:03<00:00, 59.32it/s]\n"
     ]
    },
    {
     "name": "stdout",
     "output_type": "stream",
     "text": [
      "################ EAZY DONE ###################\n",
      "test at -cCap done\n",
      "################### loop 0 #######################\n",
      "poly: [-223.87136293  168.10409335  503.85695624]\n",
      "535.414125754907\n",
      "trying c: 0.07575757575757576\n",
      "updated template set\n"
     ]
    },
    {
     "name": "stderr",
     "output_type": "stream",
     "text": [
      "100%|██████████| 13/13 [00:07<00:00,  1.69it/s]\n",
      "256it [00:00, 8924.27it/s]\n",
      "100%|██████████| 256/256 [00:01<00:00, 182.77it/s]\n",
      "100%|██████████| 198/198 [00:04<00:00, 42.88it/s]\n",
      "100%|██████████| 198/198 [00:12<00:00, 15.34it/s]\n",
      "100%|██████████| 198/198 [00:03<00:00, 54.87it/s]\n"
     ]
    },
    {
     "name": "stdout",
     "output_type": "stream",
     "text": [
      "################ EAZY DONE ###################\n",
      "loss: 531.7260162607793, c: 0.07575757575757576\n",
      "################### loop 1 #######################\n",
      "poly: [-267.72998751  175.95189293  509.83093133]\n",
      "538.7397854609042\n",
      "trying c: 0.005050505050505051\n",
      "updated template set\n"
     ]
    },
    {
     "name": "stderr",
     "output_type": "stream",
     "text": [
      "100%|██████████| 13/13 [00:07<00:00,  1.72it/s]\n",
      "256it [00:00, 6971.40it/s]\n",
      "100%|██████████| 256/256 [00:01<00:00, 188.77it/s]\n",
      "100%|██████████| 198/198 [00:04<00:00, 45.46it/s]\n",
      "100%|██████████| 198/198 [00:12<00:00, 15.71it/s]\n",
      "100%|██████████| 198/198 [00:03<00:00, 57.88it/s]\n"
     ]
    },
    {
     "name": "stdout",
     "output_type": "stream",
     "text": [
      "################ EAZY DONE ###################\n",
      "loss: 531.6921001057146, c: 0.005050505050505051\n",
      "################### loop 2 #######################\n",
      "poly: [ 1906.4057289  -1550.30198359   329.85836601   516.30944936]\n",
      "522.2069201699207\n",
      "trying c: 0.0\n",
      "updated template set\n"
     ]
    },
    {
     "name": "stderr",
     "output_type": "stream",
     "text": [
      "100%|██████████| 13/13 [00:07<00:00,  1.70it/s]\n",
      "256it [00:00, 7538.79it/s]\n",
      "100%|██████████| 256/256 [00:01<00:00, 188.70it/s]\n",
      "100%|██████████| 198/198 [00:04<00:00, 41.58it/s]\n",
      "100%|██████████| 198/198 [00:12<00:00, 16.13it/s]\n",
      "100%|██████████| 198/198 [00:03<00:00, 60.38it/s]\n"
     ]
    },
    {
     "name": "stdout",
     "output_type": "stream",
     "text": [
      "################ EAZY DONE ###################\n",
      "loss: 531.6903824657846, c: 0.0\n"
     ]
    },
    {
     "name": "stderr",
     "output_type": "stream",
     "text": [
      "/tmp/ipykernel_5736/4063478249.py:78: UserWarning: Attempting to set identical bottom == top == 503.85695623634075 results in singular transformations; automatically expanding.\n",
      "  axs.set_ylim([losses_train[-1], (max(np.array(lossByCFunc)[:,1])-min(np.array(lossByCFunc)[:,1]))*1.1+min(np.array(lossByCFunc)[:,1])])\n",
      "/tmp/ipykernel_5736/4063478249.py:79: UserWarning: Attempting to set identical left == right == 0.0 results in singular transformations; automatically expanding.\n",
      "  axs.set_xlim([min(np.array(lossByCFunc)[:,0])*1.1, max(np.array(lossByCFunc)[:,0])*1.1])\n"
     ]
    },
    {
     "name": "stdout",
     "output_type": "stream",
     "text": [
      "cMax\n",
      "test @ cCap: 0.5...\n",
      "updated template set\n"
     ]
    },
    {
     "name": "stderr",
     "output_type": "stream",
     "text": [
      "100%|██████████| 13/13 [00:07<00:00,  1.71it/s]\n",
      "256it [00:00, 5810.10it/s]\n",
      "100%|██████████| 256/256 [00:01<00:00, 187.46it/s]\n",
      "100%|██████████| 198/198 [00:04<00:00, 42.81it/s]\n",
      "100%|██████████| 198/198 [00:12<00:00, 15.86it/s]\n",
      "100%|██████████| 198/198 [00:03<00:00, 57.15it/s]\n"
     ]
    },
    {
     "name": "stdout",
     "output_type": "stream",
     "text": [
      "################ EAZY DONE ###################\n",
      "first c test done\n",
      "cMax/2\n",
      "test @ -cCap: 0.25...\n",
      "updated template set\n"
     ]
    },
    {
     "name": "stderr",
     "output_type": "stream",
     "text": [
      "100%|██████████| 13/13 [00:07<00:00,  1.70it/s]\n",
      "256it [00:00, 8409.37it/s]\n",
      "100%|██████████| 256/256 [00:01<00:00, 190.25it/s]\n",
      "100%|██████████| 198/198 [00:04<00:00, 46.61it/s]\n",
      "100%|██████████| 198/198 [00:12<00:00, 15.82it/s]\n",
      "100%|██████████| 198/198 [00:03<00:00, 55.33it/s]\n"
     ]
    },
    {
     "name": "stdout",
     "output_type": "stream",
     "text": [
      "################ EAZY DONE ###################\n",
      "test at -cCap done\n",
      "################### loop 0 #######################\n",
      "poly: [-1639.7467852   1139.43597967   503.85695624]\n",
      "701.8012918312061\n",
      "trying c: 0.15151515151515152\n",
      "updated template set\n"
     ]
    },
    {
     "name": "stderr",
     "output_type": "stream",
     "text": [
      "100%|██████████| 13/13 [00:07<00:00,  1.65it/s]\n",
      "256it [00:00, 9182.30it/s]\n",
      "100%|██████████| 256/256 [00:01<00:00, 193.03it/s]\n",
      "100%|██████████| 198/198 [00:04<00:00, 44.81it/s]\n",
      "100%|██████████| 198/198 [00:12<00:00, 15.70it/s]\n",
      "100%|██████████| 198/198 [00:03<00:00, 56.92it/s]\n"
     ]
    },
    {
     "name": "stdout",
     "output_type": "stream",
     "text": [
      "################ EAZY DONE ###################\n",
      "loss: 705.7486667755917, c: 0.15151515151515152\n",
      "################### loop 1 #######################\n",
      "poly: [-2095.09424699  1337.88408802   514.04164288]\n",
      "727.6279571412003\n",
      "trying c: 0.06060606060606061\n",
      "updated template set\n"
     ]
    },
    {
     "name": "stderr",
     "output_type": "stream",
     "text": [
      "100%|██████████| 13/13 [00:07<00:00,  1.70it/s]\n",
      "256it [00:00, 7839.71it/s]\n",
      "100%|██████████| 256/256 [00:01<00:00, 186.47it/s]\n",
      "100%|██████████| 198/198 [00:04<00:00, 45.51it/s]\n",
      "100%|██████████| 198/198 [00:13<00:00, 14.60it/s]\n",
      "100%|██████████| 198/198 [00:03<00:00, 55.10it/s]\n"
     ]
    },
    {
     "name": "stdout",
     "output_type": "stream",
     "text": [
      "################ EAZY DONE ###################\n",
      "loss: 643.029277739272, c: 0.06060606060606061\n",
      "################### loop 2 #######################\n",
      "poly: [ 14011.35457588 -12099.94330514   2862.9469422     505.85085724]\n",
      "611.3328668599613\n",
      "trying c: 0.0\n",
      "updated template set\n"
     ]
    },
    {
     "name": "stderr",
     "output_type": "stream",
     "text": [
      "100%|██████████| 13/13 [00:07<00:00,  1.67it/s]\n",
      "256it [00:00, 8673.13it/s]\n",
      "100%|██████████| 256/256 [00:01<00:00, 187.73it/s]\n",
      "100%|██████████| 198/198 [00:04<00:00, 44.65it/s]\n",
      "100%|██████████| 198/198 [00:13<00:00, 15.01it/s]\n",
      "100%|██████████| 198/198 [00:03<00:00, 57.27it/s]\n"
     ]
    },
    {
     "name": "stdout",
     "output_type": "stream",
     "text": [
      "################ EAZY DONE ###################\n",
      "loss: 531.6903824657846, c: 0.0\n"
     ]
    },
    {
     "name": "stderr",
     "output_type": "stream",
     "text": [
      "/tmp/ipykernel_5736/4063478249.py:78: UserWarning: Attempting to set identical bottom == top == 503.85695623634075 results in singular transformations; automatically expanding.\n",
      "  axs.set_ylim([losses_train[-1], (max(np.array(lossByCFunc)[:,1])-min(np.array(lossByCFunc)[:,1]))*1.1+min(np.array(lossByCFunc)[:,1])])\n",
      "/tmp/ipykernel_5736/4063478249.py:79: UserWarning: Attempting to set identical left == right == 0.0 results in singular transformations; automatically expanding.\n",
      "  axs.set_xlim([min(np.array(lossByCFunc)[:,0])*1.1, max(np.array(lossByCFunc)[:,0])*1.1])\n"
     ]
    },
    {
     "name": "stdout",
     "output_type": "stream",
     "text": [
      "cMax\n",
      "test @ cCap: 0.5...\n",
      "updated template set\n"
     ]
    },
    {
     "name": "stderr",
     "output_type": "stream",
     "text": [
      "100%|██████████| 13/13 [00:07<00:00,  1.67it/s]\n",
      "256it [00:00, 8512.37it/s]\n",
      "100%|██████████| 256/256 [00:01<00:00, 188.16it/s]\n",
      "100%|██████████| 198/198 [00:04<00:00, 44.58it/s]\n",
      "100%|██████████| 198/198 [00:13<00:00, 14.70it/s]\n",
      "100%|██████████| 198/198 [00:03<00:00, 58.25it/s]\n"
     ]
    },
    {
     "name": "stdout",
     "output_type": "stream",
     "text": [
      "################ EAZY DONE ###################\n",
      "first c test done\n",
      "cMax/2\n",
      "test @ -cCap: 0.25...\n",
      "updated template set\n"
     ]
    },
    {
     "name": "stderr",
     "output_type": "stream",
     "text": [
      "100%|██████████| 13/13 [00:07<00:00,  1.69it/s]\n",
      "256it [00:00, 6618.84it/s]\n",
      "100%|██████████| 256/256 [00:01<00:00, 186.59it/s]\n",
      "100%|██████████| 198/198 [00:04<00:00, 45.59it/s]\n",
      "100%|██████████| 198/198 [00:13<00:00, 14.88it/s]\n",
      "100%|██████████| 198/198 [00:03<00:00, 51.76it/s]\n"
     ]
    },
    {
     "name": "stdout",
     "output_type": "stream",
     "text": [
      "################ EAZY DONE ###################\n",
      "test at -cCap done\n",
      "################### loop 0 #######################\n",
      "poly: [-1411.39966707  1058.65140121   503.85695624]\n",
      "702.3731553383614\n",
      "trying c: 0.005050505050505051\n",
      "updated template set\n"
     ]
    },
    {
     "name": "stderr",
     "output_type": "stream",
     "text": [
      "100%|██████████| 13/13 [00:07<00:00,  1.69it/s]\n",
      "256it [00:00, 6720.21it/s]\n",
      "100%|██████████| 256/256 [00:01<00:00, 182.61it/s]\n",
      "100%|██████████| 198/198 [00:04<00:00, 47.05it/s]\n",
      "100%|██████████| 198/198 [00:13<00:00, 15.03it/s]\n",
      "100%|██████████| 198/198 [00:03<00:00, 59.56it/s]\n"
     ]
    },
    {
     "name": "stdout",
     "output_type": "stream",
     "text": [
      "################ EAZY DONE ###################\n",
      "loss: 531.6919184422561, c: 0.005050505050505051\n",
      "################### loop 1 #######################\n",
      "poly: [-1329.76231552   995.1091461    515.10398035]\n",
      "701.2730049003419\n",
      "trying c: 0.020202020202020204\n",
      "updated template set\n"
     ]
    },
    {
     "name": "stderr",
     "output_type": "stream",
     "text": [
      "100%|██████████| 13/13 [00:07<00:00,  1.68it/s]\n",
      "256it [00:00, 7422.67it/s]\n",
      "100%|██████████| 256/256 [00:01<00:00, 191.65it/s]\n",
      "100%|██████████| 198/198 [00:04<00:00, 41.99it/s]\n",
      "100%|██████████| 198/198 [00:12<00:00, 15.56it/s]\n",
      "100%|██████████| 198/198 [00:03<00:00, 55.26it/s]\n"
     ]
    },
    {
     "name": "stdout",
     "output_type": "stream",
     "text": [
      "################ EAZY DONE ###################\n",
      "loss: 531.6718944794186, c: 0.020202020202020204\n",
      "################### loop 2 #######################\n",
      "poly: [ 1033.48600085 -2111.24044248  1131.53330743   513.19445869]\n",
      "566.950349860604\n",
      "trying c: 0.0\n",
      "updated template set\n"
     ]
    },
    {
     "name": "stderr",
     "output_type": "stream",
     "text": [
      "100%|██████████| 13/13 [00:07<00:00,  1.66it/s]\n",
      "256it [00:00, 6976.15it/s]\n",
      "100%|██████████| 256/256 [00:01<00:00, 189.63it/s]\n",
      "100%|██████████| 198/198 [00:04<00:00, 45.28it/s]\n",
      "100%|██████████| 198/198 [00:13<00:00, 14.97it/s]\n",
      "100%|██████████| 198/198 [00:03<00:00, 57.11it/s]\n"
     ]
    },
    {
     "name": "stdout",
     "output_type": "stream",
     "text": [
      "################ EAZY DONE ###################\n",
      "loss: 531.6903824657846, c: 0.0\n"
     ]
    },
    {
     "name": "stderr",
     "output_type": "stream",
     "text": [
      "/tmp/ipykernel_5736/4063478249.py:78: UserWarning: Attempting to set identical bottom == top == 503.85695623634075 results in singular transformations; automatically expanding.\n",
      "  axs.set_ylim([losses_train[-1], (max(np.array(lossByCFunc)[:,1])-min(np.array(lossByCFunc)[:,1]))*1.1+min(np.array(lossByCFunc)[:,1])])\n",
      "/tmp/ipykernel_5736/4063478249.py:79: UserWarning: Attempting to set identical left == right == 0.0 results in singular transformations; automatically expanding.\n",
      "  axs.set_xlim([min(np.array(lossByCFunc)[:,0])*1.1, max(np.array(lossByCFunc)[:,0])*1.1])\n"
     ]
    },
    {
     "name": "stdout",
     "output_type": "stream",
     "text": [
      "cMax\n",
      "test @ cCap: 0.2013195515266416...\n",
      "updated template set\n"
     ]
    },
    {
     "name": "stderr",
     "output_type": "stream",
     "text": [
      "100%|██████████| 13/13 [00:07<00:00,  1.71it/s]\n",
      "256it [00:00, 7977.40it/s]\n",
      "100%|██████████| 256/256 [00:01<00:00, 190.61it/s]\n",
      "100%|██████████| 198/198 [00:04<00:00, 40.89it/s]\n",
      "100%|██████████| 198/198 [00:13<00:00, 14.84it/s]\n",
      "100%|██████████| 198/198 [00:03<00:00, 60.53it/s]\n"
     ]
    },
    {
     "name": "stdout",
     "output_type": "stream",
     "text": [
      "################ EAZY DONE ###################\n",
      "first c test done\n",
      "IMPROVEMENT FOUND!!!\n",
      "$\\Delta$ loss: -18.24478164077476\n"
     ]
    },
    {
     "name": "stderr",
     "output_type": "stream",
     "text": [
      "/tmp/ipykernel_5736/4063478249.py:78: UserWarning: Attempting to set identical bottom == top == 485.612174595566 results in singular transformations; automatically expanding.\n",
      "  axs.set_ylim([losses_train[-1], (max(np.array(lossByCFunc)[:,1])-min(np.array(lossByCFunc)[:,1]))*1.1+min(np.array(lossByCFunc)[:,1])])\n",
      "/tmp/ipykernel_5736/4063478249.py:79: UserWarning: Attempting to set identical left == right == 0.0 results in singular transformations; automatically expanding.\n",
      "  axs.set_xlim([min(np.array(lossByCFunc)[:,0])*1.1, max(np.array(lossByCFunc)[:,0])*1.1])\n"
     ]
    },
    {
     "name": "stdout",
     "output_type": "stream",
     "text": [
      "cMax\n",
      "test @ cCap: 0.5...\n",
      "updated template set\n"
     ]
    },
    {
     "name": "stderr",
     "output_type": "stream",
     "text": [
      "100%|██████████| 13/13 [00:07<00:00,  1.71it/s]\n",
      "256it [00:00, 6420.02it/s]\n",
      "100%|██████████| 256/256 [00:01<00:00, 190.22it/s]\n",
      "100%|██████████| 198/198 [00:04<00:00, 42.38it/s]\n",
      "100%|██████████| 198/198 [00:12<00:00, 16.13it/s]\n",
      "100%|██████████| 198/198 [00:03<00:00, 61.66it/s]\n"
     ]
    },
    {
     "name": "stdout",
     "output_type": "stream",
     "text": [
      "################ EAZY DONE ###################\n",
      "first c test done\n",
      "cMax/2\n",
      "test @ -cCap: 0.25...\n",
      "updated template set\n"
     ]
    },
    {
     "name": "stderr",
     "output_type": "stream",
     "text": [
      "100%|██████████| 13/13 [00:07<00:00,  1.71it/s]\n",
      "256it [00:00, 7654.28it/s]\n",
      "100%|██████████| 256/256 [00:01<00:00, 191.04it/s]\n",
      "100%|██████████| 198/198 [00:04<00:00, 45.42it/s]\n",
      "100%|██████████| 198/198 [00:13<00:00, 15.06it/s]\n",
      "100%|██████████| 198/198 [00:03<00:00, 59.30it/s]\n"
     ]
    },
    {
     "name": "stdout",
     "output_type": "stream",
     "text": [
      "################ EAZY DONE ###################\n",
      "test at -cCap done\n",
      "################### loop 0 #######################\n",
      "poly: [-1139.65175608   854.73620686   485.6121746 ]\n",
      "645.874723971932\n",
      "trying c: 0.04040404040404041\n",
      "updated template set\n"
     ]
    },
    {
     "name": "stderr",
     "output_type": "stream",
     "text": [
      "100%|██████████| 13/13 [00:07<00:00,  1.69it/s]\n",
      "256it [00:00, 6585.43it/s]\n",
      "100%|██████████| 256/256 [00:01<00:00, 189.28it/s]\n",
      "100%|██████████| 198/198 [00:04<00:00, 45.11it/s]\n",
      "100%|██████████| 198/198 [00:12<00:00, 15.33it/s]\n",
      "100%|██████████| 198/198 [00:03<00:00, 51.37it/s]\n"
     ]
    },
    {
     "name": "stdout",
     "output_type": "stream",
     "text": [
      "################ EAZY DONE ###################\n",
      "loss: 623.3477070259265, c: 0.04040404040404041\n",
      "################### loop 1 #######################\n",
      "poly: [-1085.50628394   723.22371855   533.61226275]\n",
      "654.0750723169792\n",
      "trying c: 0.0\n",
      "updated template set\n"
     ]
    },
    {
     "name": "stderr",
     "output_type": "stream",
     "text": [
      "100%|██████████| 13/13 [00:07<00:00,  1.70it/s]\n",
      "256it [00:00, 8280.51it/s]\n",
      "100%|██████████| 256/256 [00:01<00:00, 186.26it/s]\n",
      "100%|██████████| 198/198 [00:04<00:00, 44.14it/s]\n",
      "100%|██████████| 198/198 [00:13<00:00, 14.64it/s]\n",
      "100%|██████████| 198/198 [00:03<00:00, 58.62it/s]\n"
     ]
    },
    {
     "name": "stdout",
     "output_type": "stream",
     "text": [
      "################ EAZY DONE ###################\n",
      "loss: 531.6903824657846, c: 0.0\n",
      "################### loop 2 #######################\n",
      "poly: [ 22431.71154753 -17779.12258525   3520.46552669    508.65127853]\n",
      "507.6930000132548\n",
      "trying c: 0.4090909090909091\n",
      "updated template set\n"
     ]
    },
    {
     "name": "stderr",
     "output_type": "stream",
     "text": [
      "100%|██████████| 13/13 [00:07<00:00,  1.72it/s]\n",
      "256it [00:00, 6395.36it/s]\n",
      "100%|██████████| 256/256 [00:01<00:00, 184.20it/s]\n",
      "100%|██████████| 198/198 [00:04<00:00, 41.78it/s]\n",
      "100%|██████████| 198/198 [00:13<00:00, 14.87it/s]\n",
      "100%|██████████| 198/198 [00:03<00:00, 55.71it/s]\n"
     ]
    },
    {
     "name": "stdout",
     "output_type": "stream",
     "text": [
      "################ EAZY DONE ###################\n",
      "loss: 628.0666883188669, c: 0.4090909090909091\n"
     ]
    },
    {
     "name": "stderr",
     "output_type": "stream",
     "text": [
      "/tmp/ipykernel_5736/4063478249.py:78: UserWarning: Attempting to set identical bottom == top == 485.612174595566 results in singular transformations; automatically expanding.\n",
      "  axs.set_ylim([losses_train[-1], (max(np.array(lossByCFunc)[:,1])-min(np.array(lossByCFunc)[:,1]))*1.1+min(np.array(lossByCFunc)[:,1])])\n",
      "/tmp/ipykernel_5736/4063478249.py:79: UserWarning: Attempting to set identical left == right == 0.0 results in singular transformations; automatically expanding.\n",
      "  axs.set_xlim([min(np.array(lossByCFunc)[:,0])*1.1, max(np.array(lossByCFunc)[:,0])*1.1])\n"
     ]
    },
    {
     "name": "stdout",
     "output_type": "stream",
     "text": [
      "cMax\n",
      "test @ cCap: 0.5...\n",
      "updated template set\n"
     ]
    },
    {
     "name": "stderr",
     "output_type": "stream",
     "text": [
      "100%|██████████| 13/13 [00:07<00:00,  1.66it/s]\n",
      "256it [00:00, 6925.53it/s]\n",
      "100%|██████████| 256/256 [00:01<00:00, 190.57it/s]\n",
      "100%|██████████| 198/198 [00:04<00:00, 42.10it/s]\n",
      "100%|██████████| 198/198 [00:12<00:00, 15.25it/s]\n",
      "100%|██████████| 198/198 [00:03<00:00, 58.60it/s]\n"
     ]
    },
    {
     "name": "stdout",
     "output_type": "stream",
     "text": [
      "################ EAZY DONE ###################\n",
      "first c test done\n",
      "cMax/2\n",
      "test @ -cCap: 0.25...\n",
      "updated template set\n"
     ]
    },
    {
     "name": "stderr",
     "output_type": "stream",
     "text": [
      "100%|██████████| 13/13 [00:07<00:00,  1.68it/s]\n",
      "256it [00:00, 6967.19it/s]\n",
      "100%|██████████| 256/256 [00:01<00:00, 183.26it/s]\n",
      "100%|██████████| 198/198 [00:04<00:00, 44.58it/s]\n",
      "100%|██████████| 198/198 [00:13<00:00, 14.94it/s]\n",
      "100%|██████████| 198/198 [00:03<00:00, 58.19it/s]\n"
     ]
    },
    {
     "name": "stdout",
     "output_type": "stream",
     "text": [
      "################ EAZY DONE ###################\n",
      "test at -cCap done\n",
      "################### loop 0 #######################\n",
      "poly: [-368.14845197  276.36797953  485.6121746 ]\n",
      "537.4793355885248\n",
      "trying c: 0.14141414141414144\n",
      "updated template set\n"
     ]
    },
    {
     "name": "stderr",
     "output_type": "stream",
     "text": [
      "100%|██████████| 13/13 [00:07<00:00,  1.69it/s]\n",
      "256it [00:00, 7985.29it/s]\n",
      "100%|██████████| 256/256 [00:01<00:00, 190.43it/s]\n",
      "100%|██████████| 198/198 [00:04<00:00, 45.21it/s]\n",
      "100%|██████████| 198/198 [00:13<00:00, 14.95it/s]\n",
      "100%|██████████| 198/198 [00:03<00:00, 59.52it/s]\n"
     ]
    },
    {
     "name": "stdout",
     "output_type": "stream",
     "text": [
      "################ EAZY DONE ###################\n",
      "loss: 531.6959392836629, c: 0.14141414141414144\n",
      "################### loop 1 #######################\n",
      "poly: [-461.22549209  315.85867035  488.13942649]\n",
      "542.2163917467713\n",
      "trying c: 0.12121212121212122\n",
      "updated template set\n"
     ]
    },
    {
     "name": "stderr",
     "output_type": "stream",
     "text": [
      "100%|██████████| 13/13 [00:07<00:00,  1.71it/s]\n",
      "256it [00:00, 7186.21it/s]\n",
      "100%|██████████| 256/256 [00:01<00:00, 189.39it/s]\n",
      "100%|██████████| 198/198 [00:04<00:00, 44.47it/s]\n",
      "100%|██████████| 198/198 [00:13<00:00, 14.52it/s]\n",
      "100%|██████████| 198/198 [00:03<00:00, 54.72it/s]\n"
     ]
    },
    {
     "name": "stdout",
     "output_type": "stream",
     "text": [
      "################ EAZY DONE ###################\n",
      "loss: 531.6957803614225, c: 0.12121212121212122\n",
      "################### loop 2 #######################\n",
      "poly: [ 2859.13829706 -2509.32664978   632.05744568   485.67801238]\n",
      "519.991120251716\n",
      "trying c: 0.3535353535353536\n",
      "updated template set\n"
     ]
    },
    {
     "name": "stderr",
     "output_type": "stream",
     "text": [
      "100%|██████████| 13/13 [00:07<00:00,  1.68it/s]\n",
      "256it [00:00, 7300.19it/s]\n",
      "100%|██████████| 256/256 [00:01<00:00, 190.60it/s]\n",
      "100%|██████████| 198/198 [00:04<00:00, 44.37it/s]\n",
      "100%|██████████| 198/198 [00:13<00:00, 14.83it/s]\n",
      "100%|██████████| 198/198 [00:03<00:00, 59.82it/s]\n"
     ]
    },
    {
     "name": "stdout",
     "output_type": "stream",
     "text": [
      "################ EAZY DONE ###################\n",
      "loss: 531.6897325315748, c: 0.3535353535353536\n"
     ]
    },
    {
     "name": "stderr",
     "output_type": "stream",
     "text": [
      "/tmp/ipykernel_5736/4063478249.py:78: UserWarning: Attempting to set identical bottom == top == 485.612174595566 results in singular transformations; automatically expanding.\n",
      "  axs.set_ylim([losses_train[-1], (max(np.array(lossByCFunc)[:,1])-min(np.array(lossByCFunc)[:,1]))*1.1+min(np.array(lossByCFunc)[:,1])])\n",
      "/tmp/ipykernel_5736/4063478249.py:79: UserWarning: Attempting to set identical left == right == 0.0 results in singular transformations; automatically expanding.\n",
      "  axs.set_xlim([min(np.array(lossByCFunc)[:,0])*1.1, max(np.array(lossByCFunc)[:,0])*1.1])\n"
     ]
    },
    {
     "name": "stdout",
     "output_type": "stream",
     "text": [
      "cMax\n",
      "test @ cCap: 0.5...\n",
      "updated template set\n"
     ]
    },
    {
     "name": "stderr",
     "output_type": "stream",
     "text": [
      "100%|██████████| 13/13 [00:07<00:00,  1.73it/s]\n",
      "256it [00:00, 6350.80it/s]\n",
      "100%|██████████| 256/256 [00:01<00:00, 189.17it/s]\n",
      "100%|██████████| 198/198 [00:04<00:00, 44.67it/s]\n",
      "100%|██████████| 198/198 [00:13<00:00, 15.15it/s]\n",
      "100%|██████████| 198/198 [00:03<00:00, 60.94it/s]\n"
     ]
    },
    {
     "name": "stdout",
     "output_type": "stream",
     "text": [
      "################ EAZY DONE ###################\n",
      "first c test done\n",
      "cMax/2\n",
      "test @ -cCap: 0.25...\n",
      "updated template set\n"
     ]
    },
    {
     "name": "stderr",
     "output_type": "stream",
     "text": [
      "100%|██████████| 13/13 [00:07<00:00,  1.70it/s]\n",
      "256it [00:00, 7028.99it/s]\n",
      "100%|██████████| 256/256 [00:01<00:00, 190.03it/s]\n",
      "100%|██████████| 198/198 [00:04<00:00, 43.90it/s]\n",
      "100%|██████████| 198/198 [00:13<00:00, 14.51it/s]\n",
      "100%|██████████| 198/198 [00:03<00:00, 57.84it/s]\n"
     ]
    },
    {
     "name": "stdout",
     "output_type": "stream",
     "text": [
      "################ EAZY DONE ###################\n",
      "test at -cCap done\n",
      "################### loop 0 #######################\n",
      "poly: [-368.62566027  276.46922461  485.6121746 ]\n",
      "537.4501503472673\n",
      "trying c: 0.020202020202020204\n",
      "updated template set\n"
     ]
    },
    {
     "name": "stderr",
     "output_type": "stream",
     "text": [
      "100%|██████████| 13/13 [00:07<00:00,  1.69it/s]\n",
      "256it [00:00, 6684.36it/s]\n",
      "100%|██████████| 256/256 [00:01<00:00, 191.56it/s]\n",
      "100%|██████████| 198/198 [00:04<00:00, 42.60it/s]\n",
      "100%|██████████| 198/198 [00:12<00:00, 15.54it/s]\n",
      "100%|██████████| 198/198 [00:03<00:00, 54.65it/s]\n"
     ]
    },
    {
     "name": "stdout",
     "output_type": "stream",
     "text": [
      "################ EAZY DONE ###################\n",
      "loss: 531.6903820028936, c: 0.020202020202020204\n",
      "################### loop 1 #######################\n",
      "poly: [-272.21606626  186.83368764  505.49055993]\n",
      "537.548574833693\n",
      "trying c: 0.14141414141414144\n",
      "updated template set\n"
     ]
    },
    {
     "name": "stderr",
     "output_type": "stream",
     "text": [
      "100%|██████████| 13/13 [00:07<00:00,  1.67it/s]\n",
      "256it [00:00, 7504.59it/s]\n",
      "100%|██████████| 256/256 [00:01<00:00, 187.73it/s]\n",
      "100%|██████████| 198/198 [00:04<00:00, 41.87it/s]\n",
      "100%|██████████| 198/198 [00:13<00:00, 14.92it/s]\n",
      "100%|██████████| 198/198 [00:03<00:00, 57.23it/s]\n"
     ]
    },
    {
     "name": "stdout",
     "output_type": "stream",
     "text": [
      "################ EAZY DONE ###################\n",
      "loss: 531.6903791743435, c: 0.14141414141414144\n",
      "################### loop 2 #######################\n",
      "poly: [ 3721.33767257 -2983.63008261   624.293393     500.53172443]\n",
      "510.93769699618883\n",
      "trying c: 0.04040404040404041\n",
      "updated template set\n"
     ]
    },
    {
     "name": "stderr",
     "output_type": "stream",
     "text": [
      "100%|██████████| 13/13 [00:07<00:00,  1.69it/s]\n",
      "256it [00:00, 6524.77it/s]\n",
      "100%|██████████| 256/256 [00:01<00:00, 191.11it/s]\n",
      "100%|██████████| 198/198 [00:04<00:00, 43.28it/s]\n",
      "100%|██████████| 198/198 [00:13<00:00, 14.79it/s]\n",
      "100%|██████████| 198/198 [00:03<00:00, 54.92it/s]\n"
     ]
    },
    {
     "name": "stdout",
     "output_type": "stream",
     "text": [
      "################ EAZY DONE ###################\n",
      "loss: 531.6903815303951, c: 0.04040404040404041\n"
     ]
    },
    {
     "name": "stderr",
     "output_type": "stream",
     "text": [
      "/tmp/ipykernel_5736/4063478249.py:78: UserWarning: Attempting to set identical bottom == top == 485.612174595566 results in singular transformations; automatically expanding.\n",
      "  axs.set_ylim([losses_train[-1], (max(np.array(lossByCFunc)[:,1])-min(np.array(lossByCFunc)[:,1]))*1.1+min(np.array(lossByCFunc)[:,1])])\n",
      "/tmp/ipykernel_5736/4063478249.py:79: UserWarning: Attempting to set identical left == right == 0.0 results in singular transformations; automatically expanding.\n",
      "  axs.set_xlim([min(np.array(lossByCFunc)[:,0])*1.1, max(np.array(lossByCFunc)[:,0])*1.1])\n"
     ]
    },
    {
     "name": "stdout",
     "output_type": "stream",
     "text": [
      "cMax\n",
      "test @ cCap: 0.5...\n",
      "updated template set\n"
     ]
    },
    {
     "name": "stderr",
     "output_type": "stream",
     "text": [
      "100%|██████████| 13/13 [00:07<00:00,  1.70it/s]\n",
      "256it [00:00, 5612.58it/s]\n",
      "100%|██████████| 256/256 [00:01<00:00, 185.57it/s]\n",
      "100%|██████████| 198/198 [00:04<00:00, 41.50it/s]\n",
      "100%|██████████| 198/198 [00:12<00:00, 15.65it/s]\n",
      "100%|██████████| 198/198 [00:03<00:00, 57.09it/s]\n"
     ]
    },
    {
     "name": "stdout",
     "output_type": "stream",
     "text": [
      "################ EAZY DONE ###################\n",
      "first c test done\n",
      "cMax/2\n",
      "test @ -cCap: 0.25...\n",
      "updated template set\n"
     ]
    },
    {
     "name": "stderr",
     "output_type": "stream",
     "text": [
      "100%|██████████| 13/13 [00:07<00:00,  1.67it/s]\n",
      "256it [00:00, 6701.34it/s]\n",
      "100%|██████████| 256/256 [00:01<00:00, 187.51it/s]\n",
      "100%|██████████| 198/198 [00:04<00:00, 41.67it/s]\n",
      "100%|██████████| 198/198 [00:12<00:00, 15.67it/s]\n",
      "100%|██████████| 198/198 [00:03<00:00, 59.03it/s]\n"
     ]
    },
    {
     "name": "stdout",
     "output_type": "stream",
     "text": [
      "################ EAZY DONE ###################\n",
      "test at -cCap done\n",
      "################### loop 0 #######################\n",
      "poly: [-1507.23246379  1157.03174918   485.6121746 ]\n",
      "707.6619414314941\n",
      "trying c: 0.020202020202020204\n",
      "updated template set\n"
     ]
    },
    {
     "name": "stderr",
     "output_type": "stream",
     "text": [
      "100%|██████████| 13/13 [00:07<00:00,  1.69it/s]\n",
      "256it [00:00, 6696.32it/s]\n",
      "100%|██████████| 256/256 [00:01<00:00, 188.90it/s]\n",
      "100%|██████████| 198/198 [00:04<00:00, 41.65it/s]\n",
      "100%|██████████| 198/198 [00:13<00:00, 14.80it/s]\n",
      "100%|██████████| 198/198 [00:03<00:00, 53.81it/s]\n"
     ]
    },
    {
     "name": "stdout",
     "output_type": "stream",
     "text": [
      "################ EAZY DONE ###################\n",
      "loss: 531.7355320156564, c: 0.020202020202020204\n",
      "################### loop 1 #######################\n",
      "poly: [-1451.81082539  1105.50421846   497.03938467]\n",
      "707.4902842721932\n",
      "trying c: 0.05555555555555556\n",
      "updated template set\n"
     ]
    },
    {
     "name": "stderr",
     "output_type": "stream",
     "text": [
      "100%|██████████| 13/13 [00:07<00:00,  1.66it/s]\n",
      "256it [00:00, 7100.48it/s]\n",
      "100%|██████████| 256/256 [00:01<00:00, 188.39it/s]\n",
      "100%|██████████| 198/198 [00:04<00:00, 47.53it/s]\n",
      "100%|██████████| 198/198 [00:12<00:00, 15.53it/s]\n",
      "100%|██████████| 198/198 [00:03<00:00, 52.20it/s]\n"
     ]
    },
    {
     "name": "stdout",
     "output_type": "stream",
     "text": [
      "################ EAZY DONE ###################\n",
      "loss: 618.934589232062, c: 0.05555555555555556\n",
      "################### loop 2 #######################\n",
      "poly: [ 15221.06125238 -12958.13500213   3085.11332568    481.6434765 ]\n",
      "616.5061580861802\n",
      "trying c: 0.44949494949494956\n",
      "updated template set\n"
     ]
    },
    {
     "name": "stderr",
     "output_type": "stream",
     "text": [
      "100%|██████████| 13/13 [00:07<00:00,  1.71it/s]\n",
      "256it [00:00, 5888.61it/s]\n",
      "100%|██████████| 256/256 [00:01<00:00, 186.94it/s]\n",
      "100%|██████████| 198/198 [00:04<00:00, 44.67it/s]\n",
      "100%|██████████| 198/198 [00:13<00:00, 14.99it/s]\n",
      "100%|██████████| 198/198 [00:03<00:00, 56.34it/s]\n"
     ]
    },
    {
     "name": "stdout",
     "output_type": "stream",
     "text": [
      "################ EAZY DONE ###################\n",
      "loss: 687.2991599879743, c: 0.44949494949494956\n"
     ]
    },
    {
     "name": "stderr",
     "output_type": "stream",
     "text": [
      "/tmp/ipykernel_5736/4063478249.py:78: UserWarning: Attempting to set identical bottom == top == 485.612174595566 results in singular transformations; automatically expanding.\n",
      "  axs.set_ylim([losses_train[-1], (max(np.array(lossByCFunc)[:,1])-min(np.array(lossByCFunc)[:,1]))*1.1+min(np.array(lossByCFunc)[:,1])])\n",
      "/tmp/ipykernel_5736/4063478249.py:79: UserWarning: Attempting to set identical left == right == 0.0 results in singular transformations; automatically expanding.\n",
      "  axs.set_xlim([min(np.array(lossByCFunc)[:,0])*1.1, max(np.array(lossByCFunc)[:,0])*1.1])\n"
     ]
    },
    {
     "name": "stdout",
     "output_type": "stream",
     "text": [
      "cMax\n",
      "test @ cCap: 0.5...\n",
      "updated template set\n"
     ]
    },
    {
     "name": "stderr",
     "output_type": "stream",
     "text": [
      "100%|██████████| 13/13 [00:07<00:00,  1.71it/s]\n",
      "256it [00:00, 7183.81it/s]\n",
      "100%|██████████| 256/256 [00:01<00:00, 187.23it/s]\n",
      "100%|██████████| 198/198 [00:04<00:00, 43.76it/s]\n",
      "100%|██████████| 198/198 [00:12<00:00, 15.50it/s]\n",
      "100%|██████████| 198/198 [00:03<00:00, 57.32it/s]\n"
     ]
    },
    {
     "name": "stdout",
     "output_type": "stream",
     "text": [
      "################ EAZY DONE ###################\n",
      "first c test done\n",
      "cMax/2\n",
      "test @ -cCap: 0.25...\n",
      "updated template set\n"
     ]
    },
    {
     "name": "stderr",
     "output_type": "stream",
     "text": [
      "100%|██████████| 13/13 [00:07<00:00,  1.65it/s]\n",
      "256it [00:00, 7377.18it/s]\n",
      "100%|██████████| 256/256 [00:01<00:00, 188.83it/s]\n",
      "100%|██████████| 198/198 [00:04<00:00, 44.68it/s]\n",
      "100%|██████████| 198/198 [00:13<00:00, 14.67it/s]\n",
      "100%|██████████| 198/198 [00:03<00:00, 59.24it/s]\n"
     ]
    },
    {
     "name": "stdout",
     "output_type": "stream",
     "text": [
      "################ EAZY DONE ###################\n",
      "test at -cCap done\n",
      "################### loop 0 #######################\n",
      "poly: [-368.67405306  276.43968722  485.6121746 ]\n",
      "537.432271530833\n",
      "trying c: 0.0\n",
      "updated template set\n"
     ]
    },
    {
     "name": "stderr",
     "output_type": "stream",
     "text": [
      "100%|██████████| 13/13 [00:07<00:00,  1.68it/s]\n",
      "256it [00:00, 6154.91it/s]\n",
      "100%|██████████| 256/256 [00:01<00:00, 181.06it/s]\n",
      "100%|██████████| 198/198 [00:05<00:00, 39.45it/s]\n",
      "100%|██████████| 198/198 [00:12<00:00, 15.70it/s]\n",
      "100%|██████████| 198/198 [00:03<00:00, 57.29it/s]\n"
     ]
    },
    {
     "name": "stdout",
     "output_type": "stream",
     "text": [
      "################ EAZY DONE ###################\n",
      "loss: 531.6903824657846, c: 0.0\n",
      "################### loop 1 #######################\n",
      "poly: [-184.36122158  138.2050636   508.65127853]\n",
      "534.5523864788203\n",
      "trying c: 0.14141414141414144\n",
      "updated template set\n"
     ]
    },
    {
     "name": "stderr",
     "output_type": "stream",
     "text": [
      "100%|██████████| 13/13 [00:07<00:00,  1.67it/s]\n",
      "256it [00:00, 7121.86it/s]\n",
      "100%|██████████| 256/256 [00:01<00:00, 187.94it/s]\n",
      "100%|██████████| 198/198 [00:04<00:00, 40.25it/s]\n",
      "100%|██████████| 198/198 [00:13<00:00, 14.64it/s]\n",
      "100%|██████████| 198/198 [00:03<00:00, 53.98it/s]\n"
     ]
    },
    {
     "name": "stdout",
     "output_type": "stream",
     "text": [
      "################ EAZY DONE ###################\n",
      "loss: 531.6820538149137, c: 0.14141414141414144\n",
      "################### loop 2 #######################\n",
      "poly: [ 1302.77736625 -1161.44424626   301.05223439   508.65127853]\n",
      "526.6141232296661\n",
      "trying c: 0.03535353535353536\n",
      "updated template set\n"
     ]
    },
    {
     "name": "stderr",
     "output_type": "stream",
     "text": [
      "100%|██████████| 13/13 [00:07<00:00,  1.68it/s]\n",
      "256it [00:00, 8704.77it/s]\n",
      "100%|██████████| 256/256 [00:01<00:00, 187.71it/s]\n",
      "100%|██████████| 198/198 [00:04<00:00, 43.92it/s]\n",
      "100%|██████████| 198/198 [00:13<00:00, 14.44it/s]\n",
      "100%|██████████| 198/198 [00:03<00:00, 57.76it/s]\n"
     ]
    },
    {
     "name": "stdout",
     "output_type": "stream",
     "text": [
      "################ EAZY DONE ###################\n",
      "loss: 531.6870000782234, c: 0.03535353535353536\n"
     ]
    },
    {
     "name": "stderr",
     "output_type": "stream",
     "text": [
      "/tmp/ipykernel_5736/4063478249.py:78: UserWarning: Attempting to set identical bottom == top == 485.612174595566 results in singular transformations; automatically expanding.\n",
      "  axs.set_ylim([losses_train[-1], (max(np.array(lossByCFunc)[:,1])-min(np.array(lossByCFunc)[:,1]))*1.1+min(np.array(lossByCFunc)[:,1])])\n",
      "/tmp/ipykernel_5736/4063478249.py:79: UserWarning: Attempting to set identical left == right == 0.0 results in singular transformations; automatically expanding.\n",
      "  axs.set_xlim([min(np.array(lossByCFunc)[:,0])*1.1, max(np.array(lossByCFunc)[:,0])*1.1])\n"
     ]
    },
    {
     "name": "stdout",
     "output_type": "stream",
     "text": [
      "cMax\n",
      "test @ cCap: 0.5...\n",
      "updated template set\n"
     ]
    },
    {
     "name": "stderr",
     "output_type": "stream",
     "text": [
      "100%|██████████| 13/13 [00:07<00:00,  1.72it/s]\n",
      "256it [00:00, 7035.07it/s]\n",
      "100%|██████████| 256/256 [00:01<00:00, 189.27it/s]\n",
      "100%|██████████| 198/198 [00:04<00:00, 43.17it/s]\n",
      "100%|██████████| 198/198 [00:13<00:00, 15.07it/s]\n",
      "100%|██████████| 198/198 [00:03<00:00, 58.24it/s]\n"
     ]
    },
    {
     "name": "stdout",
     "output_type": "stream",
     "text": [
      "################ EAZY DONE ###################\n",
      "first c test done\n",
      "cMax/2\n",
      "test @ -cCap: 0.25...\n",
      "updated template set\n"
     ]
    },
    {
     "name": "stderr",
     "output_type": "stream",
     "text": [
      "100%|██████████| 13/13 [00:07<00:00,  1.67it/s]\n",
      "256it [00:00, 9209.00it/s]\n",
      "100%|██████████| 256/256 [00:01<00:00, 187.59it/s]\n",
      "100%|██████████| 198/198 [00:04<00:00, 44.52it/s]\n",
      "100%|██████████| 198/198 [00:13<00:00, 14.80it/s]\n",
      "100%|██████████| 198/198 [00:03<00:00, 58.20it/s]\n"
     ]
    },
    {
     "name": "stdout",
     "output_type": "stream",
     "text": [
      "################ EAZY DONE ###################\n",
      "test at -cCap done\n",
      "################### loop 0 #######################\n",
      "poly: [-372.73325347  279.55651962  485.6121746 ]\n",
      "538.0302557108947\n",
      "trying c: 0.05050505050505051\n",
      "updated template set\n"
     ]
    },
    {
     "name": "stderr",
     "output_type": "stream",
     "text": [
      "100%|██████████| 13/13 [00:07<00:00,  1.71it/s]\n",
      "256it [00:00, 6987.64it/s]\n",
      "100%|██████████| 256/256 [00:01<00:00, 186.17it/s]\n",
      "100%|██████████| 198/198 [00:04<00:00, 44.72it/s]\n",
      "100%|██████████| 198/198 [00:13<00:00, 14.60it/s]\n",
      "100%|██████████| 198/198 [00:03<00:00, 54.67it/s]\n"
     ]
    },
    {
     "name": "stdout",
     "output_type": "stream",
     "text": [
      "################ EAZY DONE ###################\n",
      "loss: 532.0840597536657, c: 0.05050505050505051\n",
      "################### loop 1 #######################\n",
      "poly: [-387.18803015  254.63066324  500.0648957 ]\n",
      "541.9287768248734\n",
      "trying c: 0.04040404040404041\n",
      "updated template set\n"
     ]
    },
    {
     "name": "stderr",
     "output_type": "stream",
     "text": [
      "100%|██████████| 13/13 [00:07<00:00,  1.69it/s]\n",
      "256it [00:00, 8068.09it/s]\n",
      "100%|██████████| 256/256 [00:01<00:00, 186.34it/s]\n",
      "100%|██████████| 198/198 [00:04<00:00, 42.47it/s]\n",
      "100%|██████████| 198/198 [00:13<00:00, 14.71it/s]\n",
      "100%|██████████| 198/198 [00:03<00:00, 64.60it/s]\n"
     ]
    },
    {
     "name": "stdout",
     "output_type": "stream",
     "text": [
      "################ EAZY DONE ###################\n",
      "loss: 531.7455875107938, c: 0.04040404040404041\n",
      "################### loop 2 #######################\n",
      "poly: [ 7998.70156459 -6366.00504363  1275.335048     486.20905824]\n",
      "489.6617334665121\n",
      "trying c: 0.020202020202020204\n",
      "updated template set\n"
     ]
    },
    {
     "name": "stderr",
     "output_type": "stream",
     "text": [
      "100%|██████████| 13/13 [00:07<00:00,  1.68it/s]\n",
      "256it [00:00, 7371.36it/s]\n",
      "100%|██████████| 256/256 [00:01<00:00, 186.31it/s]\n",
      "100%|██████████| 198/198 [00:04<00:00, 40.06it/s]\n",
      "100%|██████████| 198/198 [00:12<00:00, 15.30it/s]\n",
      "100%|██████████| 198/198 [00:03<00:00, 55.72it/s]\n"
     ]
    },
    {
     "name": "stdout",
     "output_type": "stream",
     "text": [
      "################ EAZY DONE ###################\n",
      "loss: 531.7132808587444, c: 0.020202020202020204\n"
     ]
    },
    {
     "name": "stderr",
     "output_type": "stream",
     "text": [
      "/tmp/ipykernel_5736/4063478249.py:78: UserWarning: Attempting to set identical bottom == top == 485.612174595566 results in singular transformations; automatically expanding.\n",
      "  axs.set_ylim([losses_train[-1], (max(np.array(lossByCFunc)[:,1])-min(np.array(lossByCFunc)[:,1]))*1.1+min(np.array(lossByCFunc)[:,1])])\n",
      "/tmp/ipykernel_5736/4063478249.py:79: UserWarning: Attempting to set identical left == right == 0.0 results in singular transformations; automatically expanding.\n",
      "  axs.set_xlim([min(np.array(lossByCFunc)[:,0])*1.1, max(np.array(lossByCFunc)[:,0])*1.1])\n"
     ]
    },
    {
     "name": "stdout",
     "output_type": "stream",
     "text": [
      "cMax\n",
      "test @ cCap: 0.5...\n",
      "updated template set\n"
     ]
    },
    {
     "name": "stderr",
     "output_type": "stream",
     "text": [
      "100%|██████████| 13/13 [00:07<00:00,  1.68it/s]\n",
      "256it [00:00, 7162.29it/s]\n",
      "100%|██████████| 256/256 [00:01<00:00, 179.28it/s]\n",
      "100%|██████████| 198/198 [00:04<00:00, 43.13it/s]\n",
      "100%|██████████| 198/198 [00:12<00:00, 15.30it/s]\n",
      "100%|██████████| 198/198 [00:03<00:00, 58.07it/s]\n"
     ]
    },
    {
     "name": "stdout",
     "output_type": "stream",
     "text": [
      "################ EAZY DONE ###################\n",
      "first c test done\n",
      "cMax/2\n",
      "test @ -cCap: 0.25...\n",
      "updated template set\n"
     ]
    },
    {
     "name": "stderr",
     "output_type": "stream",
     "text": [
      "100%|██████████| 13/13 [00:07<00:00,  1.70it/s]\n",
      "256it [00:00, 7461.57it/s]\n",
      "100%|██████████| 256/256 [00:01<00:00, 187.94it/s]\n",
      "100%|██████████| 198/198 [00:04<00:00, 40.74it/s]\n",
      "100%|██████████| 198/198 [00:13<00:00, 14.68it/s]\n",
      "100%|██████████| 198/198 [00:04<00:00, 48.24it/s]\n"
     ]
    },
    {
     "name": "stdout",
     "output_type": "stream",
     "text": [
      "################ EAZY DONE ###################\n",
      "test at -cCap done\n",
      "################### loop 0 #######################\n",
      "poly: [-368.09907876  278.65457747  485.6121746 ]\n",
      "538.3482299306372\n",
      "trying c: 0.11111111111111112\n",
      "updated template set\n"
     ]
    },
    {
     "name": "stderr",
     "output_type": "stream",
     "text": [
      "100%|██████████| 13/13 [00:07<00:00,  1.70it/s]\n",
      "256it [00:00, 6551.20it/s]\n",
      "100%|██████████| 256/256 [00:01<00:00, 185.72it/s]\n",
      "100%|██████████| 198/198 [00:04<00:00, 44.18it/s]\n",
      "100%|██████████| 198/198 [00:13<00:00, 14.68it/s]\n",
      "100%|██████████| 198/198 [00:03<00:00, 56.22it/s]\n"
     ]
    },
    {
     "name": "stdout",
     "output_type": "stream",
     "text": [
      "################ EAZY DONE ###################\n",
      "loss: 531.8529425185286, c: 0.11111111111111112\n",
      "################### loop 1 #######################\n",
      "poly: [-469.49394521  316.24060555  490.71105437]\n",
      "543.9642015225966\n",
      "trying c: 0.0\n",
      "updated template set\n"
     ]
    },
    {
     "name": "stderr",
     "output_type": "stream",
     "text": [
      "100%|██████████| 13/13 [00:07<00:00,  1.69it/s]\n",
      "256it [00:00, 5958.48it/s]\n",
      "100%|██████████| 256/256 [00:01<00:00, 190.85it/s]\n",
      "100%|██████████| 198/198 [00:04<00:00, 40.87it/s]\n",
      "100%|██████████| 198/198 [00:13<00:00, 14.49it/s]\n",
      "100%|██████████| 198/198 [00:03<00:00, 54.89it/s]\n"
     ]
    },
    {
     "name": "stdout",
     "output_type": "stream",
     "text": [
      "################ EAZY DONE ###################\n",
      "loss: 531.6903824657846, c: 0.0\n",
      "################### loop 2 #######################\n",
      "poly: [ 1644.35954516 -1417.05590615   345.964897     508.65127853]\n",
      "525.5461290444799\n",
      "trying c: 0.37878787878787884\n",
      "updated template set\n"
     ]
    },
    {
     "name": "stderr",
     "output_type": "stream",
     "text": [
      "100%|██████████| 13/13 [00:07<00:00,  1.70it/s]\n",
      "256it [00:00, 6851.99it/s]\n",
      "100%|██████████| 256/256 [00:01<00:00, 189.17it/s]\n",
      "100%|██████████| 198/198 [00:04<00:00, 42.13it/s]\n",
      "100%|██████████| 198/198 [00:13<00:00, 14.82it/s]\n",
      "100%|██████████| 198/198 [00:03<00:00, 61.08it/s]\n"
     ]
    },
    {
     "name": "stdout",
     "output_type": "stream",
     "text": [
      "################ EAZY DONE ###################\n",
      "loss: 532.8983802176475, c: 0.37878787878787884\n"
     ]
    },
    {
     "name": "stderr",
     "output_type": "stream",
     "text": [
      "/tmp/ipykernel_5736/4063478249.py:78: UserWarning: Attempting to set identical bottom == top == 485.612174595566 results in singular transformations; automatically expanding.\n",
      "  axs.set_ylim([losses_train[-1], (max(np.array(lossByCFunc)[:,1])-min(np.array(lossByCFunc)[:,1]))*1.1+min(np.array(lossByCFunc)[:,1])])\n",
      "/tmp/ipykernel_5736/4063478249.py:79: UserWarning: Attempting to set identical left == right == 0.0 results in singular transformations; automatically expanding.\n",
      "  axs.set_xlim([min(np.array(lossByCFunc)[:,0])*1.1, max(np.array(lossByCFunc)[:,0])*1.1])\n"
     ]
    },
    {
     "name": "stdout",
     "output_type": "stream",
     "text": [
      "cMax\n",
      "test @ cCap: 0.4763362319774662...\n",
      "updated template set\n"
     ]
    },
    {
     "name": "stderr",
     "output_type": "stream",
     "text": [
      "100%|██████████| 13/13 [00:07<00:00,  1.68it/s]\n",
      "256it [00:00, 6817.67it/s]\n",
      "100%|██████████| 256/256 [00:01<00:00, 184.23it/s]\n",
      "100%|██████████| 198/198 [00:05<00:00, 36.75it/s]\n",
      "100%|██████████| 198/198 [00:13<00:00, 14.80it/s]\n",
      "100%|██████████| 198/198 [00:03<00:00, 54.86it/s]\n"
     ]
    },
    {
     "name": "stdout",
     "output_type": "stream",
     "text": [
      "################ EAZY DONE ###################\n",
      "first c test done\n",
      "cMin\n",
      "test @ -cCap: -0.023663768022533782...\n",
      "updated template set\n"
     ]
    },
    {
     "name": "stderr",
     "output_type": "stream",
     "text": [
      "100%|██████████| 13/13 [00:07<00:00,  1.68it/s]\n",
      "256it [00:00, 7844.23it/s]\n",
      "100%|██████████| 256/256 [00:01<00:00, 188.66it/s]\n",
      "100%|██████████| 198/198 [00:04<00:00, 44.18it/s]\n",
      "100%|██████████| 198/198 [00:14<00:00, 14.11it/s]\n",
      "100%|██████████| 198/198 [00:03<00:00, 56.49it/s]\n"
     ]
    },
    {
     "name": "stdout",
     "output_type": "stream",
     "text": [
      "################ EAZY DONE ###################\n",
      "test at -cCap done\n",
      "################### loop 0 #######################\n",
      "poly: [ 4096.97856228 -1844.34487828   485.6121746 ]\n",
      "278.04408641088185\n",
      "trying c: 0.2250859810760772\n",
      "updated template set\n"
     ]
    },
    {
     "name": "stderr",
     "output_type": "stream",
     "text": [
      "100%|██████████| 13/13 [00:07<00:00,  1.67it/s]\n",
      "256it [00:00, 6960.82it/s]\n",
      "100%|██████████| 256/256 [00:01<00:00, 182.13it/s]\n",
      "100%|██████████| 198/198 [00:04<00:00, 42.96it/s]\n",
      "100%|██████████| 198/198 [00:13<00:00, 14.73it/s]\n",
      "100%|██████████| 198/198 [00:03<00:00, 51.89it/s]\n"
     ]
    },
    {
     "name": "stdout",
     "output_type": "stream",
     "text": [
      "################ EAZY DONE ###################\n",
      "loss: 536.7599132069471, c: 0.2250859810760772\n",
      "################### loop 1 #######################\n",
      "poly: [-139.91256931  121.06514463  511.86373293]\n",
      "538.0528904150666\n",
      "trying c: 0.0\n",
      "updated template set\n"
     ]
    },
    {
     "name": "stderr",
     "output_type": "stream",
     "text": [
      "100%|██████████| 13/13 [00:07<00:00,  1.67it/s]\n",
      "256it [00:00, 6815.46it/s]\n",
      "100%|██████████| 256/256 [00:01<00:00, 187.48it/s]\n",
      "100%|██████████| 198/198 [00:04<00:00, 44.24it/s]\n",
      "100%|██████████| 198/198 [00:12<00:00, 15.50it/s]\n",
      "100%|██████████| 198/198 [00:03<00:00, 58.51it/s]\n"
     ]
    },
    {
     "name": "stdout",
     "output_type": "stream",
     "text": [
      "################ EAZY DONE ###################\n",
      "loss: 531.6903824657846, c: 0.0\n",
      "################### loop 2 #######################\n",
      "poly: [-9310.2960146   6267.5535527   -814.16486262   508.65127853]\n",
      "478.85751949658834\n",
      "trying c: 0.07877954161281848\n",
      "updated template set\n"
     ]
    },
    {
     "name": "stderr",
     "output_type": "stream",
     "text": [
      "100%|██████████| 13/13 [00:07<00:00,  1.69it/s]\n",
      "256it [00:00, 7121.30it/s]\n",
      "100%|██████████| 256/256 [00:01<00:00, 188.06it/s]\n",
      "100%|██████████| 198/198 [00:04<00:00, 43.06it/s]\n",
      "100%|██████████| 198/198 [00:13<00:00, 14.53it/s]\n",
      "100%|██████████| 198/198 [00:03<00:00, 52.90it/s]\n"
     ]
    },
    {
     "name": "stdout",
     "output_type": "stream",
     "text": [
      "################ EAZY DONE ###################\n",
      "loss: 536.7341925510846, c: 0.07877954161281848\n"
     ]
    },
    {
     "name": "stderr",
     "output_type": "stream",
     "text": [
      "/tmp/ipykernel_5736/4063478249.py:78: UserWarning: Attempting to set identical bottom == top == 485.612174595566 results in singular transformations; automatically expanding.\n",
      "  axs.set_ylim([losses_train[-1], (max(np.array(lossByCFunc)[:,1])-min(np.array(lossByCFunc)[:,1]))*1.1+min(np.array(lossByCFunc)[:,1])])\n",
      "/tmp/ipykernel_5736/4063478249.py:79: UserWarning: Attempting to set identical left == right == 0.0 results in singular transformations; automatically expanding.\n",
      "  axs.set_xlim([min(np.array(lossByCFunc)[:,0])*1.1, max(np.array(lossByCFunc)[:,0])*1.1])\n"
     ]
    },
    {
     "name": "stdout",
     "output_type": "stream",
     "text": [
      "cMax\n",
      "test @ cCap: 0.5...\n",
      "updated template set\n"
     ]
    },
    {
     "name": "stderr",
     "output_type": "stream",
     "text": [
      "100%|██████████| 13/13 [00:07<00:00,  1.69it/s]\n",
      "256it [00:00, 7146.51it/s]\n",
      "100%|██████████| 256/256 [00:01<00:00, 186.72it/s]\n",
      "100%|██████████| 198/198 [00:04<00:00, 41.53it/s]\n",
      "100%|██████████| 198/198 [00:13<00:00, 14.74it/s]\n",
      "100%|██████████| 198/198 [00:03<00:00, 56.12it/s]\n"
     ]
    },
    {
     "name": "stdout",
     "output_type": "stream",
     "text": [
      "################ EAZY DONE ###################\n",
      "first c test done\n",
      "cMax/2\n",
      "test @ -cCap: 0.25...\n",
      "updated template set\n"
     ]
    },
    {
     "name": "stderr",
     "output_type": "stream",
     "text": [
      "100%|██████████| 13/13 [00:07<00:00,  1.68it/s]\n",
      "256it [00:00, 7207.09it/s]\n",
      "100%|██████████| 256/256 [00:01<00:00, 187.91it/s]\n",
      "100%|██████████| 198/198 [00:04<00:00, 47.86it/s]\n",
      "100%|██████████| 198/198 [00:13<00:00, 14.88it/s]\n",
      "100%|██████████| 198/198 [00:03<00:00, 58.67it/s]\n"
     ]
    },
    {
     "name": "stdout",
     "output_type": "stream",
     "text": [
      "################ EAZY DONE ###################\n",
      "test at -cCap done\n",
      "################### loop 0 #######################\n",
      "poly: [-372.80572273  279.56903738  485.6121746 ]\n",
      "538.024759687594\n",
      "trying c: 0.05050505050505051\n",
      "updated template set\n"
     ]
    },
    {
     "name": "stderr",
     "output_type": "stream",
     "text": [
      "100%|██████████| 13/13 [00:07<00:00,  1.72it/s]\n",
      "256it [00:00, 6780.43it/s]\n",
      "100%|██████████| 256/256 [00:01<00:00, 186.90it/s]\n",
      "100%|██████████| 198/198 [00:04<00:00, 42.07it/s]\n",
      "100%|██████████| 198/198 [00:13<00:00, 15.21it/s]\n",
      "100%|██████████| 198/198 [00:03<00:00, 53.25it/s]\n"
     ]
    },
    {
     "name": "stdout",
     "output_type": "stream",
     "text": [
      "################ EAZY DONE ###################\n",
      "loss: 530.7865647390184, c: 0.05050505050505051\n",
      "################### loop 1 #######################\n",
      "poly: [-386.69715327  255.61461664  499.50162967]\n",
      "541.7432337831071\n",
      "trying c: 0.015151515151515152\n",
      "updated template set\n"
     ]
    },
    {
     "name": "stderr",
     "output_type": "stream",
     "text": [
      "100%|██████████| 13/13 [00:07<00:00,  1.69it/s]\n",
      "256it [00:00, 7032.95it/s]\n",
      "100%|██████████| 256/256 [00:01<00:00, 187.54it/s]\n",
      "100%|██████████| 198/198 [00:04<00:00, 42.71it/s]\n",
      "100%|██████████| 198/198 [00:12<00:00, 15.41it/s]\n",
      "100%|██████████| 198/198 [00:03<00:00, 57.25it/s]\n"
     ]
    },
    {
     "name": "stdout",
     "output_type": "stream",
     "text": [
      "################ EAZY DONE ###################\n",
      "loss: 531.7004205814319, c: 0.015151515151515152\n",
      "################### loop 2 #######################\n",
      "poly: [ 6776.10548816 -5350.39470214  1049.98298251   497.83216815]\n",
      "495.38822282910337\n",
      "trying c: 0.020202020202020204\n",
      "updated template set\n"
     ]
    },
    {
     "name": "stderr",
     "output_type": "stream",
     "text": [
      "100%|██████████| 13/13 [00:07<00:00,  1.69it/s]\n",
      "256it [00:00, 5733.32it/s]\n",
      "100%|██████████| 256/256 [00:01<00:00, 187.64it/s]\n",
      "100%|██████████| 198/198 [00:04<00:00, 40.60it/s]\n",
      "100%|██████████| 198/198 [00:13<00:00, 14.50it/s]\n",
      "100%|██████████| 198/198 [00:03<00:00, 63.10it/s]\n"
     ]
    },
    {
     "name": "stdout",
     "output_type": "stream",
     "text": [
      "################ EAZY DONE ###################\n",
      "loss: 531.7052422947884, c: 0.020202020202020204\n"
     ]
    },
    {
     "name": "stderr",
     "output_type": "stream",
     "text": [
      "/tmp/ipykernel_5736/4063478249.py:78: UserWarning: Attempting to set identical bottom == top == 485.612174595566 results in singular transformations; automatically expanding.\n",
      "  axs.set_ylim([losses_train[-1], (max(np.array(lossByCFunc)[:,1])-min(np.array(lossByCFunc)[:,1]))*1.1+min(np.array(lossByCFunc)[:,1])])\n",
      "/tmp/ipykernel_5736/4063478249.py:79: UserWarning: Attempting to set identical left == right == 0.0 results in singular transformations; automatically expanding.\n",
      "  axs.set_xlim([min(np.array(lossByCFunc)[:,0])*1.1, max(np.array(lossByCFunc)[:,0])*1.1])\n"
     ]
    },
    {
     "name": "stdout",
     "output_type": "stream",
     "text": [
      "cMax\n",
      "test @ cCap: 0.5...\n",
      "updated template set\n"
     ]
    },
    {
     "name": "stderr",
     "output_type": "stream",
     "text": [
      "100%|██████████| 13/13 [00:07<00:00,  1.67it/s]\n",
      "256it [00:00, 7628.45it/s]\n",
      "100%|██████████| 256/256 [00:01<00:00, 190.48it/s]\n",
      "100%|██████████| 198/198 [00:04<00:00, 39.63it/s]\n",
      "100%|██████████| 198/198 [00:13<00:00, 14.80it/s]\n",
      "100%|██████████| 198/198 [00:03<00:00, 56.93it/s]\n"
     ]
    },
    {
     "name": "stdout",
     "output_type": "stream",
     "text": [
      "################ EAZY DONE ###################\n",
      "first c test done\n",
      "cMax/2\n",
      "test @ -cCap: 0.25...\n",
      "updated template set\n"
     ]
    },
    {
     "name": "stderr",
     "output_type": "stream",
     "text": [
      "100%|██████████| 13/13 [00:07<00:00,  1.70it/s]\n",
      "256it [00:00, 7501.24it/s]\n",
      "100%|██████████| 256/256 [00:01<00:00, 189.13it/s]\n",
      "100%|██████████| 198/198 [00:05<00:00, 38.79it/s]\n",
      "100%|██████████| 198/198 [00:13<00:00, 15.08it/s]\n",
      "100%|██████████| 198/198 [00:03<00:00, 55.73it/s]\n"
     ]
    },
    {
     "name": "stdout",
     "output_type": "stream",
     "text": [
      "################ EAZY DONE ###################\n",
      "test at -cCap done\n",
      "################### loop 0 #######################\n",
      "poly: [-1556.49979776  1167.36003673   485.6121746 ]\n",
      "704.4894043440179\n",
      "trying c: 0.045454545454545456\n",
      "updated template set\n"
     ]
    },
    {
     "name": "stderr",
     "output_type": "stream",
     "text": [
      "100%|██████████| 13/13 [00:07<00:00,  1.70it/s]\n",
      "256it [00:00, 6677.62it/s]\n",
      "100%|██████████| 256/256 [00:01<00:00, 184.41it/s]\n",
      "100%|██████████| 198/198 [00:04<00:00, 41.22it/s]\n",
      "100%|██████████| 198/198 [00:13<00:00, 15.04it/s]\n",
      "100%|██████████| 198/198 [00:03<00:00, 59.76it/s]\n"
     ]
    },
    {
     "name": "stdout",
     "output_type": "stream",
     "text": [
      "################ EAZY DONE ###################\n",
      "loss: 577.2812481766491, c: 0.045454545454545456\n",
      "################### loop 1 #######################\n",
      "poly: [-1554.84207844  1125.50262393   504.26151693]\n",
      "707.9407480958566\n",
      "trying c: 0.020202020202020204\n",
      "updated template set\n"
     ]
    },
    {
     "name": "stderr",
     "output_type": "stream",
     "text": [
      "100%|██████████| 13/13 [00:07<00:00,  1.70it/s]\n",
      "256it [00:00, 7360.55it/s]\n",
      "100%|██████████| 256/256 [00:01<00:00, 182.35it/s]\n",
      "100%|██████████| 198/198 [00:04<00:00, 44.20it/s]\n",
      "100%|██████████| 198/198 [00:13<00:00, 14.65it/s]\n",
      "100%|██████████| 198/198 [00:03<00:00, 51.32it/s]\n"
     ]
    },
    {
     "name": "stdout",
     "output_type": "stream",
     "text": [
      "################ EAZY DONE ###################\n",
      "loss: 531.6959681674052, c: 0.020202020202020204\n",
      "################### loop 2 #######################\n",
      "poly: [ 9925.08492721 -8997.25908306  2405.76591685   485.96492522]\n",
      "643.8490463008432\n",
      "trying c: 0.005050505050505051\n",
      "updated template set\n"
     ]
    },
    {
     "name": "stderr",
     "output_type": "stream",
     "text": [
      "100%|██████████| 13/13 [00:07<00:00,  1.68it/s]\n",
      "256it [00:00, 5702.23it/s]\n",
      "100%|██████████| 256/256 [00:01<00:00, 184.99it/s]\n",
      "100%|██████████| 198/198 [00:04<00:00, 40.45it/s]\n",
      "100%|██████████| 198/198 [00:13<00:00, 14.99it/s]\n",
      "100%|██████████| 198/198 [00:03<00:00, 51.27it/s]\n"
     ]
    },
    {
     "name": "stdout",
     "output_type": "stream",
     "text": [
      "################ EAZY DONE ###################\n",
      "loss: 531.6916819810962, c: 0.005050505050505051\n"
     ]
    },
    {
     "name": "stderr",
     "output_type": "stream",
     "text": [
      "/tmp/ipykernel_5736/4063478249.py:78: UserWarning: Attempting to set identical bottom == top == 485.612174595566 results in singular transformations; automatically expanding.\n",
      "  axs.set_ylim([losses_train[-1], (max(np.array(lossByCFunc)[:,1])-min(np.array(lossByCFunc)[:,1]))*1.1+min(np.array(lossByCFunc)[:,1])])\n",
      "/tmp/ipykernel_5736/4063478249.py:79: UserWarning: Attempting to set identical left == right == 0.0 results in singular transformations; automatically expanding.\n",
      "  axs.set_xlim([min(np.array(lossByCFunc)[:,0])*1.1, max(np.array(lossByCFunc)[:,0])*1.1])\n"
     ]
    },
    {
     "name": "stdout",
     "output_type": "stream",
     "text": [
      "cMax\n",
      "test @ cCap: 0.5...\n",
      "updated template set\n"
     ]
    },
    {
     "name": "stderr",
     "output_type": "stream",
     "text": [
      "100%|██████████| 13/13 [00:07<00:00,  1.69it/s]\n",
      "256it [00:00, 7500.34it/s]\n",
      "100%|██████████| 256/256 [00:01<00:00, 185.08it/s]\n",
      "100%|██████████| 198/198 [00:05<00:00, 37.71it/s]\n",
      "100%|██████████| 198/198 [00:13<00:00, 15.12it/s]\n",
      "100%|██████████| 198/198 [00:03<00:00, 56.96it/s]\n"
     ]
    },
    {
     "name": "stdout",
     "output_type": "stream",
     "text": [
      "################ EAZY DONE ###################\n",
      "first c test done\n",
      "cMax/2\n",
      "test @ -cCap: 0.25...\n",
      "updated template set\n"
     ]
    },
    {
     "name": "stderr",
     "output_type": "stream",
     "text": [
      "100%|██████████| 13/13 [00:07<00:00,  1.69it/s]\n",
      "256it [00:00, 7593.22it/s]\n",
      "100%|██████████| 256/256 [00:01<00:00, 185.35it/s]\n",
      "100%|██████████| 198/198 [00:04<00:00, 42.62it/s]\n",
      "100%|██████████| 198/198 [00:14<00:00, 14.06it/s]\n",
      "100%|██████████| 198/198 [00:03<00:00, 53.00it/s]\n"
     ]
    },
    {
     "name": "stdout",
     "output_type": "stream",
     "text": [
      "################ EAZY DONE ###################\n",
      "test at -cCap done\n",
      "################### loop 0 #######################\n",
      "poly: [-372.67070935  279.51472635  485.6121746 ]\n",
      "538.0233785679507\n",
      "trying c: 0.010101010101010102\n",
      "updated template set\n"
     ]
    },
    {
     "name": "stderr",
     "output_type": "stream",
     "text": [
      "100%|██████████| 13/13 [00:07<00:00,  1.70it/s]\n",
      "256it [00:00, 6915.10it/s]\n",
      "100%|██████████| 256/256 [00:01<00:00, 185.59it/s]\n",
      "100%|██████████| 198/198 [00:04<00:00, 41.97it/s]\n",
      "100%|██████████| 198/198 [00:12<00:00, 15.26it/s]\n",
      "100%|██████████| 198/198 [00:04<00:00, 48.00it/s]\n"
     ]
    },
    {
     "name": "stdout",
     "output_type": "stream",
     "text": [
      "################ EAZY DONE ###################\n",
      "loss: 531.7366211586409, c: 0.010101010101010102\n",
      "################### loop 1 #######################\n",
      "poly: [-232.84547007  165.60851728  507.16458962]\n",
      "536.6113520899307\n",
      "trying c: 0.020202020202020204\n",
      "updated template set\n"
     ]
    },
    {
     "name": "stderr",
     "output_type": "stream",
     "text": [
      "100%|██████████| 13/13 [00:07<00:00,  1.71it/s]\n",
      "256it [00:00, 6815.76it/s]\n",
      "100%|██████████| 256/256 [00:01<00:00, 185.99it/s]\n",
      "100%|██████████| 198/198 [00:04<00:00, 39.72it/s]\n",
      "100%|██████████| 198/198 [00:13<00:00, 14.75it/s]\n",
      "100%|██████████| 198/198 [00:03<00:00, 60.04it/s]\n"
     ]
    },
    {
     "name": "stdout",
     "output_type": "stream",
     "text": [
      "################ EAZY DONE ###################\n",
      "loss: 533.0803974769574, c: 0.020202020202020204\n",
      "################### loop 2 #######################\n",
      "poly: [ 19587.61488276 -15010.16455425   2688.2702898     492.1616797 ]\n",
      "419.24972589849347\n",
      "trying c: 0.3950784346631967\n",
      "updated template set\n"
     ]
    },
    {
     "name": "stderr",
     "output_type": "stream",
     "text": [
      "100%|██████████| 13/13 [00:07<00:00,  1.66it/s]\n",
      "256it [00:00, 7622.92it/s]\n",
      "100%|██████████| 256/256 [00:01<00:00, 187.74it/s]\n",
      "100%|██████████| 198/198 [00:04<00:00, 40.56it/s]\n",
      "100%|██████████| 198/198 [00:14<00:00, 13.98it/s]\n",
      "100%|██████████| 198/198 [00:03<00:00, 54.28it/s]\n"
     ]
    },
    {
     "name": "stdout",
     "output_type": "stream",
     "text": [
      "################ EAZY DONE ###################\n",
      "loss: 532.1974148308891, c: 0.3950784346631967\n"
     ]
    },
    {
     "name": "stderr",
     "output_type": "stream",
     "text": [
      "/tmp/ipykernel_5736/4063478249.py:78: UserWarning: Attempting to set identical bottom == top == 485.612174595566 results in singular transformations; automatically expanding.\n",
      "  axs.set_ylim([losses_train[-1], (max(np.array(lossByCFunc)[:,1])-min(np.array(lossByCFunc)[:,1]))*1.1+min(np.array(lossByCFunc)[:,1])])\n",
      "/tmp/ipykernel_5736/4063478249.py:79: UserWarning: Attempting to set identical left == right == 0.0 results in singular transformations; automatically expanding.\n",
      "  axs.set_xlim([min(np.array(lossByCFunc)[:,0])*1.1, max(np.array(lossByCFunc)[:,0])*1.1])\n"
     ]
    },
    {
     "name": "stdout",
     "output_type": "stream",
     "text": [
      "cMax\n",
      "test @ cCap: 0.47746873760676806...\n",
      "updated template set\n"
     ]
    },
    {
     "name": "stderr",
     "output_type": "stream",
     "text": [
      "100%|██████████| 13/13 [00:07<00:00,  1.67it/s]\n",
      "256it [00:00, 6730.19it/s]\n",
      "100%|██████████| 256/256 [00:01<00:00, 185.23it/s]\n",
      "100%|██████████| 198/198 [00:04<00:00, 43.22it/s]\n",
      "100%|██████████| 198/198 [00:13<00:00, 14.19it/s]\n",
      "100%|██████████| 198/198 [00:03<00:00, 54.05it/s]\n"
     ]
    },
    {
     "name": "stdout",
     "output_type": "stream",
     "text": [
      "################ EAZY DONE ###################\n",
      "first c test done\n",
      "cMin\n",
      "test @ -cCap: -0.02253126239323194...\n",
      "updated template set\n"
     ]
    },
    {
     "name": "stderr",
     "output_type": "stream",
     "text": [
      "100%|██████████| 13/13 [00:07<00:00,  1.66it/s]\n",
      "256it [00:00, 5933.03it/s]\n",
      "100%|██████████| 256/256 [00:01<00:00, 180.77it/s]\n",
      "100%|██████████| 198/198 [00:04<00:00, 45.37it/s]\n",
      "100%|██████████| 198/198 [00:13<00:00, 14.60it/s]\n",
      "100%|██████████| 198/198 [00:03<00:00, 55.36it/s]\n"
     ]
    },
    {
     "name": "stdout",
     "output_type": "stream",
     "text": [
      "################ EAZY DONE ###################\n",
      "test at -cCap done\n",
      "################### loop 0 #######################\n",
      "poly: [ 4279.07189459 -1946.9625574    485.6121746 ]\n",
      "264.1469075174513\n",
      "trying c: 0.2274982292146445\n",
      "updated template set\n"
     ]
    },
    {
     "name": "stderr",
     "output_type": "stream",
     "text": [
      "100%|██████████| 13/13 [00:07<00:00,  1.67it/s]\n",
      "256it [00:00, 7727.99it/s]\n",
      "100%|██████████| 256/256 [00:01<00:00, 189.09it/s]\n",
      "100%|██████████| 198/198 [00:04<00:00, 44.04it/s]\n",
      "100%|██████████| 198/198 [00:13<00:00, 14.26it/s]\n",
      "100%|██████████| 198/198 [00:03<00:00, 57.94it/s]\n"
     ]
    },
    {
     "name": "stdout",
     "output_type": "stream",
     "text": [
      "################ EAZY DONE ###################\n",
      "loss: 531.6706977729054, c: 0.2274982292146445\n",
      "################### loop 1 #######################\n",
      "poly: [-101.02401806   92.61959192  511.39117132]\n",
      "532.6197587660757\n",
      "trying c: 0.06565656565656566\n",
      "updated template set\n"
     ]
    },
    {
     "name": "stderr",
     "output_type": "stream",
     "text": [
      "100%|██████████| 13/13 [00:07<00:00,  1.67it/s]\n",
      "256it [00:00, 6688.36it/s]\n",
      "100%|██████████| 256/256 [00:01<00:00, 185.79it/s]\n",
      "100%|██████████| 198/198 [00:04<00:00, 44.81it/s]\n",
      "100%|██████████| 198/198 [00:13<00:00, 14.67it/s]\n",
      "100%|██████████| 198/198 [00:03<00:00, 54.50it/s]\n"
     ]
    },
    {
     "name": "stdout",
     "output_type": "stream",
     "text": [
      "################ EAZY DONE ###################\n",
      "loss: 531.747974928556, c: 0.06565656565656566\n",
      "################### loop 2 #######################\n",
      "poly: [-542.01657506  185.5128132    70.31893097  514.46886309]\n",
      "509.63487430032245\n",
      "trying c: 0.2575757575757576\n",
      "updated template set\n"
     ]
    },
    {
     "name": "stderr",
     "output_type": "stream",
     "text": [
      "100%|██████████| 13/13 [00:07<00:00,  1.73it/s]\n",
      "256it [00:00, 6441.59it/s]\n",
      "100%|██████████| 256/256 [00:01<00:00, 186.94it/s]\n",
      "100%|██████████| 198/198 [00:05<00:00, 39.39it/s]\n",
      "100%|██████████| 198/198 [00:13<00:00, 14.47it/s]\n",
      "100%|██████████| 198/198 [00:03<00:00, 54.00it/s]\n"
     ]
    },
    {
     "name": "stdout",
     "output_type": "stream",
     "text": [
      "################ EAZY DONE ###################\n",
      "loss: 531.6702168703503, c: 0.2575757575757576\n"
     ]
    },
    {
     "name": "stderr",
     "output_type": "stream",
     "text": [
      "/tmp/ipykernel_5736/4063478249.py:78: UserWarning: Attempting to set identical bottom == top == 485.612174595566 results in singular transformations; automatically expanding.\n",
      "  axs.set_ylim([losses_train[-1], (max(np.array(lossByCFunc)[:,1])-min(np.array(lossByCFunc)[:,1]))*1.1+min(np.array(lossByCFunc)[:,1])])\n",
      "/tmp/ipykernel_5736/4063478249.py:79: UserWarning: Attempting to set identical left == right == 0.0 results in singular transformations; automatically expanding.\n",
      "  axs.set_xlim([min(np.array(lossByCFunc)[:,0])*1.1, max(np.array(lossByCFunc)[:,0])*1.1])\n"
     ]
    },
    {
     "name": "stdout",
     "output_type": "stream",
     "text": [
      "cMax\n",
      "test @ cCap: 0.5...\n",
      "updated template set\n"
     ]
    },
    {
     "name": "stderr",
     "output_type": "stream",
     "text": [
      "100%|██████████| 13/13 [00:07<00:00,  1.72it/s]\n",
      "256it [00:00, 6659.24it/s]\n",
      "100%|██████████| 256/256 [00:01<00:00, 183.90it/s]\n",
      "100%|██████████| 198/198 [00:04<00:00, 41.18it/s]\n",
      "100%|██████████| 198/198 [00:13<00:00, 14.74it/s]\n",
      "100%|██████████| 198/198 [00:03<00:00, 58.01it/s]\n"
     ]
    },
    {
     "name": "stdout",
     "output_type": "stream",
     "text": [
      "################ EAZY DONE ###################\n",
      "first c test done\n",
      "cMax/2\n",
      "test @ -cCap: 0.25...\n",
      "updated template set\n"
     ]
    },
    {
     "name": "stderr",
     "output_type": "stream",
     "text": [
      "100%|██████████| 13/13 [00:07<00:00,  1.66it/s]\n",
      "256it [00:00, 7099.40it/s]\n",
      "100%|██████████| 256/256 [00:01<00:00, 187.07it/s]\n",
      "100%|██████████| 198/198 [00:04<00:00, 43.76it/s]\n",
      "100%|██████████| 198/198 [00:14<00:00, 14.13it/s]\n",
      "100%|██████████| 198/198 [00:03<00:00, 62.00it/s]\n"
     ]
    },
    {
     "name": "stdout",
     "output_type": "stream",
     "text": [
      "################ EAZY DONE ###################\n",
      "test at -cCap done\n",
      "################### loop 0 #######################\n",
      "poly: [-372.65638114  279.49249172  485.6121746 ]\n",
      "538.0170553913634\n",
      "trying c: 0.19191919191919193\n",
      "updated template set\n"
     ]
    },
    {
     "name": "stderr",
     "output_type": "stream",
     "text": [
      "100%|██████████| 13/13 [00:07<00:00,  1.70it/s]\n",
      "256it [00:00, 6835.98it/s]\n",
      "100%|██████████| 256/256 [00:01<00:00, 184.91it/s]\n",
      "100%|██████████| 198/198 [00:04<00:00, 40.48it/s]\n",
      "100%|██████████| 198/198 [00:13<00:00, 14.85it/s]\n",
      "100%|██████████| 198/198 [00:03<00:00, 57.21it/s]\n"
     ]
    },
    {
     "name": "stdout",
     "output_type": "stream",
     "text": [
      "################ EAZY DONE ###################\n",
      "loss: 532.1938044663167, c: 0.19191919191919193\n",
      "################### loop 1 #######################\n",
      "poly: [-423.63151408  303.3693119   486.10841461]\n",
      "540.4203203277789\n",
      "trying c: 0.19191919191919193\n",
      "updated template set\n"
     ]
    },
    {
     "name": "stderr",
     "output_type": "stream",
     "text": [
      "100%|██████████| 13/13 [00:07<00:00,  1.70it/s]\n",
      "256it [00:00, 6619.46it/s]\n",
      "100%|██████████| 256/256 [00:01<00:00, 183.66it/s]\n",
      "100%|██████████| 198/198 [00:05<00:00, 38.25it/s]\n",
      "100%|██████████| 198/198 [00:13<00:00, 14.29it/s]\n",
      "100%|██████████| 198/198 [00:04<00:00, 49.35it/s]\n"
     ]
    },
    {
     "name": "stdout",
     "output_type": "stream",
     "text": [
      "################ EAZY DONE ###################\n",
      "loss: 532.1938044663167, c: 0.19191919191919193\n",
      "################### loop 2 #######################\n",
      "poly: [ 1941.60272273 -1828.85842319   522.19283206   485.6121746 ]\n",
      "526.0960690950812\n",
      "trying c: 0.37878787878787884\n",
      "updated template set\n"
     ]
    },
    {
     "name": "stderr",
     "output_type": "stream",
     "text": [
      "100%|██████████| 13/13 [00:07<00:00,  1.74it/s]\n",
      "256it [00:00, 7535.72it/s]\n",
      "100%|██████████| 256/256 [00:01<00:00, 184.64it/s]\n",
      "100%|██████████| 198/198 [00:04<00:00, 40.76it/s]\n",
      "100%|██████████| 198/198 [00:13<00:00, 14.68it/s]\n",
      "100%|██████████| 198/198 [00:03<00:00, 53.74it/s]\n"
     ]
    },
    {
     "name": "stdout",
     "output_type": "stream",
     "text": [
      "################ EAZY DONE ###################\n",
      "loss: 532.1942820987538, c: 0.37878787878787884\n"
     ]
    },
    {
     "name": "stderr",
     "output_type": "stream",
     "text": [
      "/tmp/ipykernel_5736/4063478249.py:78: UserWarning: Attempting to set identical bottom == top == 485.612174595566 results in singular transformations; automatically expanding.\n",
      "  axs.set_ylim([losses_train[-1], (max(np.array(lossByCFunc)[:,1])-min(np.array(lossByCFunc)[:,1]))*1.1+min(np.array(lossByCFunc)[:,1])])\n",
      "/tmp/ipykernel_5736/4063478249.py:79: UserWarning: Attempting to set identical left == right == 0.0 results in singular transformations; automatically expanding.\n",
      "  axs.set_xlim([min(np.array(lossByCFunc)[:,0])*1.1, max(np.array(lossByCFunc)[:,0])*1.1])\n"
     ]
    },
    {
     "name": "stdout",
     "output_type": "stream",
     "text": [
      "cMax\n",
      "test @ cCap: 0.2874828510744736...\n",
      "updated template set\n"
     ]
    },
    {
     "name": "stderr",
     "output_type": "stream",
     "text": [
      "100%|██████████| 13/13 [00:07<00:00,  1.67it/s]\n",
      "256it [00:00, 6482.93it/s]\n",
      "100%|██████████| 256/256 [00:01<00:00, 183.58it/s]\n",
      "100%|██████████| 198/198 [00:04<00:00, 40.26it/s]\n",
      "100%|██████████| 198/198 [00:13<00:00, 14.70it/s]\n",
      "100%|██████████| 198/198 [00:03<00:00, 56.44it/s]\n"
     ]
    },
    {
     "name": "stdout",
     "output_type": "stream",
     "text": [
      "################ EAZY DONE ###################\n",
      "first c test done\n",
      "cMin\n",
      "test @ -cCap: -0.21251714892552645...\n",
      "updated template set\n"
     ]
    },
    {
     "name": "stderr",
     "output_type": "stream",
     "text": [
      "100%|██████████| 13/13 [00:07<00:00,  1.69it/s]\n",
      "256it [00:00, 6303.15it/s]\n",
      "100%|██████████| 256/256 [00:01<00:00, 187.04it/s]\n",
      "100%|██████████| 198/198 [00:04<00:00, 42.81it/s]\n",
      "100%|██████████| 198/198 [00:13<00:00, 15.00it/s]\n",
      "100%|██████████| 198/198 [00:04<00:00, 47.11it/s]\n"
     ]
    },
    {
     "name": "stdout",
     "output_type": "stream",
     "text": [
      "################ EAZY DONE ###################\n",
      "test at -cCap done\n",
      "################### loop 0 #######################\n",
      "poly: [748.73449269 -58.27613859 485.6121746 ]\n",
      "484.47822512417684\n",
      "trying c: 0.03891642441842189\n",
      "updated template set\n"
     ]
    },
    {
     "name": "stderr",
     "output_type": "stream",
     "text": [
      "100%|██████████| 13/13 [00:07<00:00,  1.66it/s]\n",
      "256it [00:00, 7366.10it/s]\n",
      "100%|██████████| 256/256 [00:01<00:00, 184.00it/s]\n",
      "100%|██████████| 198/198 [00:04<00:00, 41.73it/s]\n",
      "100%|██████████| 198/198 [00:13<00:00, 14.65it/s]\n",
      "100%|██████████| 198/198 [00:03<00:00, 56.33it/s]\n"
     ]
    },
    {
     "name": "stdout",
     "output_type": "stream",
     "text": [
      "################ EAZY DONE ###################\n",
      "loss: 531.6109274525124, c: 0.03891642441842189\n",
      "################### loop 1 #######################\n",
      "poly: [356.75154285 -21.60785754 509.02462627]\n",
      "508.6974381237982\n",
      "trying c: 0.12626262626262627\n",
      "updated template set\n"
     ]
    },
    {
     "name": "stderr",
     "output_type": "stream",
     "text": [
      "100%|██████████| 13/13 [00:07<00:00,  1.66it/s]\n",
      "256it [00:00, 7007.71it/s]\n",
      "100%|██████████| 256/256 [00:01<00:00, 187.95it/s]\n",
      "100%|██████████| 198/198 [00:04<00:00, 40.41it/s]\n",
      "100%|██████████| 198/198 [00:13<00:00, 14.80it/s]\n",
      "100%|██████████| 198/198 [00:03<00:00, 53.23it/s]\n"
     ]
    },
    {
     "name": "stdout",
     "output_type": "stream",
     "text": [
      "################ EAZY DONE ###################\n",
      "loss: 531.5633514677481, c: 0.12626262626262627\n",
      "################### loop 2 #######################\n",
      "poly: [-5206.21219404   897.81630595   277.34336274   499.76523211]\n",
      "485.85930343231166\n",
      "trying c: 0.44949494949494956\n",
      "updated template set\n"
     ]
    },
    {
     "name": "stderr",
     "output_type": "stream",
     "text": [
      "100%|██████████| 13/13 [00:07<00:00,  1.70it/s]\n",
      "256it [00:00, 7132.08it/s]\n",
      "100%|██████████| 256/256 [00:01<00:00, 182.25it/s]\n",
      "100%|██████████| 198/198 [00:04<00:00, 40.00it/s]\n",
      "100%|██████████| 198/198 [00:13<00:00, 14.53it/s]\n",
      "100%|██████████| 198/198 [00:03<00:00, 53.83it/s]\n"
     ]
    },
    {
     "name": "stdout",
     "output_type": "stream",
     "text": [
      "################ EAZY DONE ###################\n",
      "loss: 530.661867974749, c: 0.44949494949494956\n"
     ]
    },
    {
     "name": "stderr",
     "output_type": "stream",
     "text": [
      "/tmp/ipykernel_5736/4063478249.py:78: UserWarning: Attempting to set identical bottom == top == 485.612174595566 results in singular transformations; automatically expanding.\n",
      "  axs.set_ylim([losses_train[-1], (max(np.array(lossByCFunc)[:,1])-min(np.array(lossByCFunc)[:,1]))*1.1+min(np.array(lossByCFunc)[:,1])])\n",
      "/tmp/ipykernel_5736/4063478249.py:79: UserWarning: Attempting to set identical left == right == 0.0 results in singular transformations; automatically expanding.\n",
      "  axs.set_xlim([min(np.array(lossByCFunc)[:,0])*1.1, max(np.array(lossByCFunc)[:,0])*1.1])\n"
     ]
    },
    {
     "name": "stdout",
     "output_type": "stream",
     "text": [
      "cMax\n",
      "test @ cCap: 0.5...\n",
      "updated template set\n"
     ]
    },
    {
     "name": "stderr",
     "output_type": "stream",
     "text": [
      "100%|██████████| 13/13 [00:07<00:00,  1.69it/s]\n",
      "256it [00:00, 8308.96it/s]\n",
      "100%|██████████| 256/256 [00:01<00:00, 173.90it/s]\n",
      "100%|██████████| 198/198 [00:04<00:00, 43.57it/s]\n",
      "100%|██████████| 198/198 [00:13<00:00, 14.63it/s]\n",
      "100%|██████████| 198/198 [00:03<00:00, 56.84it/s]\n"
     ]
    },
    {
     "name": "stdout",
     "output_type": "stream",
     "text": [
      "################ EAZY DONE ###################\n",
      "first c test done\n",
      "cMax/2\n",
      "test @ -cCap: 0.25...\n",
      "updated template set\n"
     ]
    },
    {
     "name": "stderr",
     "output_type": "stream",
     "text": [
      "100%|██████████| 13/13 [00:07<00:00,  1.69it/s]\n",
      "256it [00:00, 7136.87it/s]\n",
      "100%|██████████| 256/256 [00:01<00:00, 186.22it/s]\n",
      "100%|██████████| 198/198 [00:04<00:00, 42.20it/s]\n",
      "100%|██████████| 198/198 [00:13<00:00, 15.01it/s]\n",
      "100%|██████████| 198/198 [00:03<00:00, 53.19it/s]\n"
     ]
    },
    {
     "name": "stdout",
     "output_type": "stream",
     "text": [
      "################ EAZY DONE ###################\n",
      "test at -cCap done\n",
      "################### loop 0 #######################\n",
      "poly: [-368.5656338   276.45201911  485.6121746 ]\n",
      "537.4521400349599\n",
      "trying c: 0.14141414141414144\n",
      "updated template set\n"
     ]
    },
    {
     "name": "stderr",
     "output_type": "stream",
     "text": [
      "100%|██████████| 13/13 [00:07<00:00,  1.65it/s]\n",
      "256it [00:00, 7286.47it/s]\n",
      "100%|██████████| 256/256 [00:01<00:00, 181.77it/s]\n",
      "100%|██████████| 198/198 [00:04<00:00, 41.61it/s]\n",
      "100%|██████████| 198/198 [00:13<00:00, 14.81it/s]\n",
      "100%|██████████| 198/198 [00:03<00:00, 51.77it/s]\n"
     ]
    },
    {
     "name": "stdout",
     "output_type": "stream",
     "text": [
      "################ EAZY DONE ###################\n",
      "loss: 531.6903986875863, c: 0.14141414141414144\n",
      "################### loop 1 #######################\n",
      "poly: [-461.58382088  315.91773979  488.1378285 ]\n",
      "542.1930259545622\n",
      "trying c: 0.14141414141414144\n",
      "updated template set\n"
     ]
    },
    {
     "name": "stderr",
     "output_type": "stream",
     "text": [
      "100%|██████████| 13/13 [00:07<00:00,  1.70it/s]\n",
      "256it [00:00, 7671.50it/s]\n",
      "100%|██████████| 256/256 [00:01<00:00, 186.32it/s]\n",
      "100%|██████████| 198/198 [00:04<00:00, 45.76it/s]\n",
      "100%|██████████| 198/198 [00:13<00:00, 14.40it/s]\n",
      "100%|██████████| 198/198 [00:04<00:00, 48.36it/s]\n"
     ]
    },
    {
     "name": "stdout",
     "output_type": "stream",
     "text": [
      "################ EAZY DONE ###################\n",
      "loss: 531.6903986875863, c: 0.14141414141414144\n",
      "################### loop 2 #######################\n",
      "poly: [ 2606.93743216 -2323.76870792   602.31919813   485.6121746 ]\n",
      "521.5720041402761\n",
      "trying c: 0.36363636363636365\n",
      "updated template set\n"
     ]
    },
    {
     "name": "stderr",
     "output_type": "stream",
     "text": [
      "100%|██████████| 13/13 [00:07<00:00,  1.70it/s]\n",
      "256it [00:00, 7860.14it/s]\n",
      "100%|██████████| 256/256 [00:01<00:00, 184.21it/s]\n",
      "100%|██████████| 198/198 [00:04<00:00, 41.17it/s]\n",
      "100%|██████████| 198/198 [00:13<00:00, 14.17it/s]\n",
      "100%|██████████| 198/198 [00:03<00:00, 51.36it/s]\n"
     ]
    },
    {
     "name": "stdout",
     "output_type": "stream",
     "text": [
      "################ EAZY DONE ###################\n",
      "loss: 531.6936922759993, c: 0.36363636363636365\n"
     ]
    },
    {
     "name": "stderr",
     "output_type": "stream",
     "text": [
      "/tmp/ipykernel_5736/4063478249.py:78: UserWarning: Attempting to set identical bottom == top == 485.612174595566 results in singular transformations; automatically expanding.\n",
      "  axs.set_ylim([losses_train[-1], (max(np.array(lossByCFunc)[:,1])-min(np.array(lossByCFunc)[:,1]))*1.1+min(np.array(lossByCFunc)[:,1])])\n",
      "/tmp/ipykernel_5736/4063478249.py:79: UserWarning: Attempting to set identical left == right == 0.0 results in singular transformations; automatically expanding.\n",
      "  axs.set_xlim([min(np.array(lossByCFunc)[:,0])*1.1, max(np.array(lossByCFunc)[:,0])*1.1])\n"
     ]
    },
    {
     "name": "stdout",
     "output_type": "stream",
     "text": [
      "cMax\n",
      "test @ cCap: 0.5...\n",
      "updated template set\n"
     ]
    },
    {
     "name": "stderr",
     "output_type": "stream",
     "text": [
      "100%|██████████| 13/13 [00:07<00:00,  1.69it/s]\n",
      "256it [00:00, 8517.97it/s]\n",
      "100%|██████████| 256/256 [00:01<00:00, 185.85it/s]\n",
      "100%|██████████| 198/198 [00:05<00:00, 38.71it/s]\n",
      "100%|██████████| 198/198 [00:13<00:00, 14.19it/s]\n",
      "100%|██████████| 198/198 [00:03<00:00, 58.38it/s]\n"
     ]
    },
    {
     "name": "stdout",
     "output_type": "stream",
     "text": [
      "################ EAZY DONE ###################\n",
      "first c test done\n",
      "cMax/2\n",
      "test @ -cCap: 0.25...\n",
      "updated template set\n"
     ]
    },
    {
     "name": "stderr",
     "output_type": "stream",
     "text": [
      "100%|██████████| 13/13 [00:07<00:00,  1.71it/s]\n",
      "256it [00:00, 5542.15it/s]\n",
      "100%|██████████| 256/256 [00:01<00:00, 184.36it/s]\n",
      "100%|██████████| 198/198 [00:04<00:00, 43.26it/s]\n",
      "100%|██████████| 198/198 [00:13<00:00, 14.42it/s]\n",
      "100%|██████████| 198/198 [00:03<00:00, 57.87it/s]\n"
     ]
    },
    {
     "name": "stdout",
     "output_type": "stream",
     "text": [
      "################ EAZY DONE ###################\n",
      "test at -cCap done\n",
      "################### loop 0 #######################\n",
      "poly: [-369.44796114  277.21325702  485.6121746 ]\n",
      "537.6135374063533\n",
      "trying c: 0.05555555555555556\n",
      "updated template set\n"
     ]
    },
    {
     "name": "stderr",
     "output_type": "stream",
     "text": [
      "100%|██████████| 13/13 [00:07<00:00,  1.72it/s]\n",
      "256it [00:00, 7158.42it/s]\n",
      "100%|██████████| 256/256 [00:01<00:00, 183.37it/s]\n",
      "100%|██████████| 198/198 [00:04<00:00, 41.45it/s]\n",
      "100%|██████████| 198/198 [00:13<00:00, 14.48it/s]\n",
      "100%|██████████| 198/198 [00:03<00:00, 59.02it/s]\n"
     ]
    },
    {
     "name": "stdout",
     "output_type": "stream",
     "text": [
      "################ EAZY DONE ###################\n",
      "loss: 531.6172044010266, c: 0.05555555555555556\n",
      "################### loop 1 #######################\n",
      "poly: [-398.09765193  261.45592709  498.9820303 ]\n",
      "541.9106945809926\n",
      "trying c: 0.0\n",
      "updated template set\n"
     ]
    },
    {
     "name": "stderr",
     "output_type": "stream",
     "text": [
      "100%|██████████| 13/13 [00:07<00:00,  1.70it/s]\n",
      "256it [00:00, 7919.56it/s]\n",
      "100%|██████████| 256/256 [00:01<00:00, 182.55it/s]\n",
      "100%|██████████| 198/198 [00:04<00:00, 41.68it/s]\n",
      "100%|██████████| 198/198 [00:13<00:00, 14.30it/s]\n",
      "100%|██████████| 198/198 [00:03<00:00, 51.33it/s]\n"
     ]
    },
    {
     "name": "stdout",
     "output_type": "stream",
     "text": [
      "################ EAZY DONE ###################\n",
      "loss: 531.6903824657846, c: 0.0\n",
      "################### loop 2 #######################\n",
      "poly: [ 3294.30838516 -2655.86641854   550.76718156   508.65127853]\n",
      "514.8447968711365\n",
      "trying c: 0.4090909090909091\n",
      "updated template set\n"
     ]
    },
    {
     "name": "stderr",
     "output_type": "stream",
     "text": [
      "100%|██████████| 13/13 [00:07<00:00,  1.67it/s]\n",
      "256it [00:00, 6775.29it/s]\n",
      "100%|██████████| 256/256 [00:01<00:00, 183.50it/s]\n",
      "100%|██████████| 198/198 [00:04<00:00, 40.36it/s]\n",
      "100%|██████████| 198/198 [00:13<00:00, 14.17it/s]\n",
      "100%|██████████| 198/198 [00:03<00:00, 55.50it/s]\n"
     ]
    },
    {
     "name": "stdout",
     "output_type": "stream",
     "text": [
      "################ EAZY DONE ###################\n",
      "loss: 531.8249882409721, c: 0.4090909090909091\n"
     ]
    },
    {
     "name": "stderr",
     "output_type": "stream",
     "text": [
      "/tmp/ipykernel_5736/4063478249.py:78: UserWarning: Attempting to set identical bottom == top == 485.612174595566 results in singular transformations; automatically expanding.\n",
      "  axs.set_ylim([losses_train[-1], (max(np.array(lossByCFunc)[:,1])-min(np.array(lossByCFunc)[:,1]))*1.1+min(np.array(lossByCFunc)[:,1])])\n",
      "/tmp/ipykernel_5736/4063478249.py:79: UserWarning: Attempting to set identical left == right == 0.0 results in singular transformations; automatically expanding.\n",
      "  axs.set_xlim([min(np.array(lossByCFunc)[:,0])*1.1, max(np.array(lossByCFunc)[:,0])*1.1])\n"
     ]
    },
    {
     "name": "stdout",
     "output_type": "stream",
     "text": [
      "cMax\n",
      "test @ cCap: 0.5...\n",
      "updated template set\n"
     ]
    },
    {
     "name": "stderr",
     "output_type": "stream",
     "text": [
      "100%|██████████| 13/13 [00:07<00:00,  1.72it/s]\n",
      "256it [00:00, 6520.13it/s]\n",
      "100%|██████████| 256/256 [00:01<00:00, 184.82it/s]\n",
      "100%|██████████| 198/198 [00:04<00:00, 41.09it/s]\n",
      "100%|██████████| 198/198 [00:13<00:00, 14.79it/s]\n",
      "100%|██████████| 198/198 [00:03<00:00, 55.99it/s]\n"
     ]
    },
    {
     "name": "stdout",
     "output_type": "stream",
     "text": [
      "################ EAZY DONE ###################\n",
      "first c test done\n",
      "cMax/2\n",
      "test @ -cCap: 0.25...\n",
      "updated template set\n"
     ]
    },
    {
     "name": "stderr",
     "output_type": "stream",
     "text": [
      "100%|██████████| 13/13 [00:07<00:00,  1.67it/s]\n",
      "256it [00:00, 7758.98it/s]\n",
      "100%|██████████| 256/256 [00:01<00:00, 185.26it/s]\n",
      "100%|██████████| 198/198 [00:04<00:00, 39.60it/s]\n",
      "100%|██████████| 198/198 [00:13<00:00, 14.21it/s]\n",
      "100%|██████████| 198/198 [00:03<00:00, 49.68it/s]\n"
     ]
    },
    {
     "name": "stdout",
     "output_type": "stream",
     "text": [
      "################ EAZY DONE ###################\n",
      "test at -cCap done\n",
      "################### loop 0 #######################\n",
      "poly: [-366.51548779  276.06658208  485.6121746 ]\n",
      "537.5968521047151\n",
      "trying c: 0.0\n",
      "updated template set\n"
     ]
    },
    {
     "name": "stderr",
     "output_type": "stream",
     "text": [
      "100%|██████████| 13/13 [00:07<00:00,  1.69it/s]\n",
      "256it [00:00, 6850.25it/s]\n",
      "100%|██████████| 256/256 [00:01<00:00, 188.35it/s]\n",
      "100%|██████████| 198/198 [00:04<00:00, 40.45it/s]\n",
      "100%|██████████| 198/198 [00:13<00:00, 14.32it/s]\n",
      "100%|██████████| 198/198 [00:03<00:00, 54.92it/s]\n"
     ]
    },
    {
     "name": "stdout",
     "output_type": "stream",
     "text": [
      "################ EAZY DONE ###################\n",
      "loss: 531.6903824657846, c: 0.0\n",
      "################### loop 1 #######################\n",
      "poly: [-182.20265631  137.83195846  508.65127853]\n",
      "534.7179248126358\n",
      "trying c: 0.14141414141414144\n",
      "updated template set\n"
     ]
    },
    {
     "name": "stderr",
     "output_type": "stream",
     "text": [
      "100%|██████████| 13/13 [00:07<00:00,  1.66it/s]\n",
      "256it [00:00, 8001.06it/s]\n",
      "100%|██████████| 256/256 [00:01<00:00, 187.22it/s]\n",
      "100%|██████████| 198/198 [00:04<00:00, 42.55it/s]\n",
      "100%|██████████| 198/198 [00:13<00:00, 14.89it/s]\n",
      "100%|██████████| 198/198 [00:03<00:00, 53.34it/s]\n"
     ]
    },
    {
     "name": "stdout",
     "output_type": "stream",
     "text": [
      "################ EAZY DONE ###################\n",
      "loss: 531.8013097839575, c: 0.14141414141414144\n",
      "################### loop 2 #######################\n",
      "poly: [ 1326.17812347 -1176.83624891   303.6042239    508.65127853]\n",
      "526.6735552378394\n",
      "trying c: 0.05050505050505051\n",
      "updated template set\n"
     ]
    },
    {
     "name": "stderr",
     "output_type": "stream",
     "text": [
      "100%|██████████| 13/13 [00:07<00:00,  1.72it/s]\n",
      "256it [00:00, 7751.25it/s]\n",
      "100%|██████████| 256/256 [00:01<00:00, 185.37it/s]\n",
      "100%|██████████| 198/198 [00:04<00:00, 39.77it/s]\n",
      "100%|██████████| 198/198 [00:13<00:00, 14.33it/s]\n",
      "100%|██████████| 198/198 [00:03<00:00, 56.43it/s]\n"
     ]
    },
    {
     "name": "stdout",
     "output_type": "stream",
     "text": [
      "################ EAZY DONE ###################\n",
      "loss: 531.6163663912394, c: 0.05050505050505051\n"
     ]
    },
    {
     "name": "stderr",
     "output_type": "stream",
     "text": [
      "/tmp/ipykernel_5736/4063478249.py:78: UserWarning: Attempting to set identical bottom == top == 485.612174595566 results in singular transformations; automatically expanding.\n",
      "  axs.set_ylim([losses_train[-1], (max(np.array(lossByCFunc)[:,1])-min(np.array(lossByCFunc)[:,1]))*1.1+min(np.array(lossByCFunc)[:,1])])\n",
      "/tmp/ipykernel_5736/4063478249.py:79: UserWarning: Attempting to set identical left == right == 0.0 results in singular transformations; automatically expanding.\n",
      "  axs.set_xlim([min(np.array(lossByCFunc)[:,0])*1.1, max(np.array(lossByCFunc)[:,0])*1.1])\n"
     ]
    },
    {
     "name": "stdout",
     "output_type": "stream",
     "text": [
      "cMax\n",
      "test @ cCap: 0.5...\n",
      "updated template set\n"
     ]
    },
    {
     "name": "stderr",
     "output_type": "stream",
     "text": [
      "100%|██████████| 13/13 [00:07<00:00,  1.69it/s]\n",
      "256it [00:00, 6654.74it/s]\n",
      "100%|██████████| 256/256 [00:01<00:00, 183.98it/s]\n",
      "100%|██████████| 198/198 [00:05<00:00, 39.49it/s]\n",
      "100%|██████████| 198/198 [00:13<00:00, 14.34it/s]\n",
      "100%|██████████| 198/198 [00:03<00:00, 52.94it/s]\n"
     ]
    },
    {
     "name": "stdout",
     "output_type": "stream",
     "text": [
      "################ EAZY DONE ###################\n",
      "first c test done\n",
      "cMax/2\n",
      "test @ -cCap: 0.25...\n",
      "updated template set\n"
     ]
    },
    {
     "name": "stderr",
     "output_type": "stream",
     "text": [
      "100%|██████████| 13/13 [00:07<00:00,  1.69it/s]\n",
      "256it [00:00, 6814.73it/s]\n",
      "100%|██████████| 256/256 [00:01<00:00, 183.95it/s]\n",
      "100%|██████████| 198/198 [00:05<00:00, 38.88it/s]\n",
      "100%|██████████| 198/198 [00:13<00:00, 14.53it/s]\n",
      "100%|██████████| 198/198 [00:03<00:00, 51.95it/s]\n"
     ]
    },
    {
     "name": "stdout",
     "output_type": "stream",
     "text": [
      "################ EAZY DONE ###################\n",
      "test at -cCap done\n",
      "################### loop 0 #######################\n",
      "poly: [-372.61011563  279.46896807  485.6121746 ]\n",
      "538.014740196763\n",
      "trying c: 0.030303030303030304\n",
      "updated template set\n"
     ]
    },
    {
     "name": "stderr",
     "output_type": "stream",
     "text": [
      "100%|██████████| 13/13 [00:07<00:00,  1.67it/s]\n",
      "256it [00:00, 8271.39it/s]\n",
      "100%|██████████| 256/256 [00:01<00:00, 185.35it/s]\n",
      "100%|██████████| 198/198 [00:05<00:00, 39.17it/s]\n",
      "100%|██████████| 198/198 [00:14<00:00, 13.69it/s]\n",
      "100%|██████████| 198/198 [00:03<00:00, 53.96it/s]\n"
     ]
    },
    {
     "name": "stdout",
     "output_type": "stream",
     "text": [
      "################ EAZY DONE ###################\n",
      "loss: 531.7180166285336, c: 0.030303030303030304\n",
      "################### loop 1 #######################\n",
      "poly: [-317.16937364  213.30164773  503.67059019]\n",
      "539.5328113811886\n",
      "trying c: 0.015151515151515152\n",
      "updated template set\n"
     ]
    },
    {
     "name": "stderr",
     "output_type": "stream",
     "text": [
      "100%|██████████| 13/13 [00:07<00:00,  1.71it/s]\n",
      "256it [00:00, 6346.55it/s]\n",
      "100%|██████████| 256/256 [00:01<00:00, 186.96it/s]\n",
      "100%|██████████| 198/198 [00:04<00:00, 41.36it/s]\n",
      "100%|██████████| 198/198 [00:12<00:00, 15.40it/s]\n",
      "100%|██████████| 198/198 [00:03<00:00, 50.30it/s]\n"
     ]
    },
    {
     "name": "stdout",
     "output_type": "stream",
     "text": [
      "################ EAZY DONE ###################\n",
      "loss: 531.7032960938151, c: 0.015151515151515152\n",
      "################### loop 2 #######################\n",
      "poly: [ 12934.10898766 -10020.70783316   1857.37067785    491.934873  ]\n",
      "459.2417617244628\n",
      "trying c: 0.39545676192199714\n",
      "updated template set\n"
     ]
    },
    {
     "name": "stderr",
     "output_type": "stream",
     "text": [
      "100%|██████████| 13/13 [00:07<00:00,  1.67it/s]\n",
      "256it [00:00, 8829.10it/s]\n",
      "100%|██████████| 256/256 [00:01<00:00, 184.85it/s]\n",
      "100%|██████████| 198/198 [00:04<00:00, 40.80it/s]\n",
      "100%|██████████| 198/198 [00:14<00:00, 14.02it/s]\n",
      "100%|██████████| 198/198 [00:03<00:00, 54.56it/s]\n"
     ]
    },
    {
     "name": "stdout",
     "output_type": "stream",
     "text": [
      "################ EAZY DONE ###################\n",
      "loss: 532.1940541230136, c: 0.39545676192199714\n"
     ]
    },
    {
     "name": "stderr",
     "output_type": "stream",
     "text": [
      "/tmp/ipykernel_5736/4063478249.py:78: UserWarning: Attempting to set identical bottom == top == 485.612174595566 results in singular transformations; automatically expanding.\n",
      "  axs.set_ylim([losses_train[-1], (max(np.array(lossByCFunc)[:,1])-min(np.array(lossByCFunc)[:,1]))*1.1+min(np.array(lossByCFunc)[:,1])])\n",
      "/tmp/ipykernel_5736/4063478249.py:79: UserWarning: Attempting to set identical left == right == 0.0 results in singular transformations; automatically expanding.\n",
      "  axs.set_xlim([min(np.array(lossByCFunc)[:,0])*1.1, max(np.array(lossByCFunc)[:,0])*1.1])\n"
     ]
    },
    {
     "name": "stdout",
     "output_type": "stream",
     "text": [
      "cMax\n",
      "test @ cCap: 0.5...\n",
      "updated template set\n"
     ]
    },
    {
     "name": "stderr",
     "output_type": "stream",
     "text": [
      "100%|██████████| 13/13 [00:07<00:00,  1.69it/s]\n",
      "256it [00:00, 7561.35it/s]\n",
      "100%|██████████| 256/256 [00:01<00:00, 181.34it/s]\n",
      "100%|██████████| 198/198 [00:04<00:00, 45.46it/s]\n",
      "100%|██████████| 198/198 [00:14<00:00, 13.83it/s]\n",
      "100%|██████████| 198/198 [00:03<00:00, 56.32it/s]\n"
     ]
    },
    {
     "name": "stdout",
     "output_type": "stream",
     "text": [
      "################ EAZY DONE ###################\n",
      "first c test done\n",
      "cMax/2\n",
      "test @ -cCap: 0.25...\n",
      "updated template set\n"
     ]
    },
    {
     "name": "stderr",
     "output_type": "stream",
     "text": [
      "100%|██████████| 13/13 [00:07<00:00,  1.68it/s]\n",
      "256it [00:00, 6089.25it/s]\n",
      "100%|██████████| 256/256 [00:01<00:00, 181.15it/s]\n",
      "100%|██████████| 198/198 [00:04<00:00, 42.66it/s]\n",
      "100%|██████████| 198/198 [00:13<00:00, 14.54it/s]\n",
      "100%|██████████| 198/198 [00:03<00:00, 55.17it/s]\n"
     ]
    },
    {
     "name": "stdout",
     "output_type": "stream",
     "text": [
      "################ EAZY DONE ###################\n",
      "test at -cCap done\n",
      "################### loop 0 #######################\n",
      "poly: [-369.02031909  276.74798998  485.6121746 ]\n",
      "537.4991886675655\n",
      "trying c: 0.07070707070707072\n",
      "updated template set\n"
     ]
    },
    {
     "name": "stderr",
     "output_type": "stream",
     "text": [
      "100%|██████████| 13/13 [00:07<00:00,  1.72it/s]\n",
      "256it [00:00, 6961.73it/s]\n",
      "100%|██████████| 256/256 [00:01<00:00, 184.27it/s]\n",
      "100%|██████████| 198/198 [00:04<00:00, 40.21it/s]\n",
      "100%|██████████| 198/198 [00:13<00:00, 14.21it/s]\n",
      "100%|██████████| 198/198 [00:03<00:00, 51.20it/s]\n"
     ]
    },
    {
     "name": "stdout",
     "output_type": "stream",
     "text": [
      "################ EAZY DONE ###################\n",
      "loss: 531.7213931331531, c: 0.07070707070707072\n",
      "################### loop 1 #######################\n",
      "poly: [-432.87173456  283.62281586  496.36634105]\n",
      "542.8246191322858\n",
      "trying c: 0.4444444444444445\n",
      "updated template set\n"
     ]
    },
    {
     "name": "stderr",
     "output_type": "stream",
     "text": [
      "100%|██████████| 13/13 [00:07<00:00,  1.69it/s]\n",
      "256it [00:00, 7340.17it/s]\n",
      "100%|██████████| 256/256 [00:01<00:00, 185.62it/s]\n",
      "100%|██████████| 198/198 [00:04<00:00, 40.22it/s]\n",
      "100%|██████████| 198/198 [00:13<00:00, 14.70it/s]\n",
      "100%|██████████| 198/198 [00:03<00:00, 50.73it/s]\n"
     ]
    },
    {
     "name": "stdout",
     "output_type": "stream",
     "text": [
      "################ EAZY DONE ###################\n",
      "loss: 531.7316885642489, c: 0.4444444444444445\n",
      "################### loop 2 #######################\n",
      "poly: [ 3295.90160513 -2873.68166734   707.12157209   488.78914289]\n",
      "522.7645424468361\n",
      "trying c: 0.43939393939393945\n",
      "updated template set\n"
     ]
    },
    {
     "name": "stderr",
     "output_type": "stream",
     "text": [
      "100%|██████████| 13/13 [00:07<00:00,  1.68it/s]\n",
      "256it [00:00, 7228.54it/s]\n",
      "100%|██████████| 256/256 [00:01<00:00, 186.09it/s]\n",
      "100%|██████████| 198/198 [00:04<00:00, 40.59it/s]\n",
      "100%|██████████| 198/198 [00:13<00:00, 14.81it/s]\n",
      "100%|██████████| 198/198 [00:03<00:00, 56.75it/s]\n"
     ]
    },
    {
     "name": "stdout",
     "output_type": "stream",
     "text": [
      "################ EAZY DONE ###################\n",
      "loss: 531.7317092660512, c: 0.43939393939393945\n"
     ]
    },
    {
     "name": "stderr",
     "output_type": "stream",
     "text": [
      "/tmp/ipykernel_5736/4063478249.py:78: UserWarning: Attempting to set identical bottom == top == 485.612174595566 results in singular transformations; automatically expanding.\n",
      "  axs.set_ylim([losses_train[-1], (max(np.array(lossByCFunc)[:,1])-min(np.array(lossByCFunc)[:,1]))*1.1+min(np.array(lossByCFunc)[:,1])])\n",
      "/tmp/ipykernel_5736/4063478249.py:79: UserWarning: Attempting to set identical left == right == 0.0 results in singular transformations; automatically expanding.\n",
      "  axs.set_xlim([min(np.array(lossByCFunc)[:,0])*1.1, max(np.array(lossByCFunc)[:,0])*1.1])\n"
     ]
    },
    {
     "name": "stdout",
     "output_type": "stream",
     "text": [
      "cMax\n",
      "test @ cCap: 0.33634469017215474...\n",
      "updated template set\n"
     ]
    },
    {
     "name": "stderr",
     "output_type": "stream",
     "text": [
      "100%|██████████| 13/13 [00:07<00:00,  1.71it/s]\n",
      "256it [00:00, 8079.81it/s]\n",
      "100%|██████████| 256/256 [00:01<00:00, 181.80it/s]\n",
      "100%|██████████| 198/198 [00:04<00:00, 40.10it/s]\n",
      "100%|██████████| 198/198 [00:14<00:00, 13.98it/s]\n",
      "100%|██████████| 198/198 [00:03<00:00, 54.37it/s]\n"
     ]
    },
    {
     "name": "stdout",
     "output_type": "stream",
     "text": [
      "################ EAZY DONE ###################\n",
      "first c test done\n",
      "cMin\n",
      "test @ -cCap: -0.1636553098278453...\n",
      "updated template set\n"
     ]
    },
    {
     "name": "stderr",
     "output_type": "stream",
     "text": [
      "100%|██████████| 13/13 [00:07<00:00,  1.65it/s]\n",
      "256it [00:00, 7274.28it/s]\n",
      "100%|██████████| 256/256 [00:01<00:00, 181.62it/s]\n",
      "100%|██████████| 198/198 [00:04<00:00, 39.91it/s]\n",
      "100%|██████████| 198/198 [00:14<00:00, 13.65it/s]\n",
      "100%|██████████| 198/198 [00:03<00:00, 55.09it/s]\n"
     ]
    },
    {
     "name": "stdout",
     "output_type": "stream",
     "text": [
      "################ EAZY DONE ###################\n",
      "test at -cCap done\n",
      "################### loop 0 #######################\n",
      "poly: [ 781.06206064 -149.3466919   485.6121746 ]\n",
      "478.4730381861268\n",
      "trying c: 0.09560488175177653\n",
      "updated template set\n"
     ]
    },
    {
     "name": "stderr",
     "output_type": "stream",
     "text": [
      "100%|██████████| 13/13 [00:07<00:00,  1.69it/s]\n",
      "256it [00:00, 7775.50it/s]\n",
      "100%|██████████| 256/256 [00:01<00:00, 186.90it/s]\n",
      "100%|██████████| 198/198 [00:05<00:00, 39.08it/s]\n",
      "100%|██████████| 198/198 [00:13<00:00, 14.90it/s]\n",
      "100%|██████████| 198/198 [00:03<00:00, 49.73it/s]\n"
     ]
    },
    {
     "name": "stdout",
     "output_type": "stream",
     "text": [
      "################ EAZY DONE ###################\n",
      "loss: 531.7765419948807, c: 0.09560488175177653\n",
      "################### loop 1 #######################\n",
      "poly: [263.77254017 -40.86791255 510.93763562]\n",
      "509.3546559491656\n",
      "trying c: 0.2777777777777778\n",
      "updated template set\n"
     ]
    },
    {
     "name": "stderr",
     "output_type": "stream",
     "text": [
      "100%|██████████| 13/13 [00:07<00:00,  1.65it/s]\n",
      "256it [00:00, 7947.99it/s]\n",
      "100%|██████████| 256/256 [00:01<00:00, 184.36it/s]\n",
      "100%|██████████| 198/198 [00:04<00:00, 41.98it/s]\n",
      "100%|██████████| 198/198 [00:13<00:00, 14.17it/s]\n",
      "100%|██████████| 198/198 [00:03<00:00, 51.97it/s]\n"
     ]
    },
    {
     "name": "stdout",
     "output_type": "stream",
     "text": [
      "################ EAZY DONE ###################\n",
      "loss: 523.7223104069357, c: 0.2777777777777778\n",
      "################### loop 2 #######################\n",
      "poly: [-4358.03341292  1267.13045073   126.22692318   496.83840409]\n",
      "494.0934900814086\n",
      "trying c: 0.03535353535353536\n",
      "updated template set\n"
     ]
    },
    {
     "name": "stderr",
     "output_type": "stream",
     "text": [
      "100%|██████████| 13/13 [00:07<00:00,  1.71it/s]\n",
      "256it [00:00, 7018.01it/s]\n",
      "100%|██████████| 256/256 [00:01<00:00, 182.19it/s]\n",
      "100%|██████████| 198/198 [00:04<00:00, 45.81it/s]\n",
      "100%|██████████| 198/198 [00:14<00:00, 13.77it/s]\n",
      "100%|██████████| 198/198 [00:03<00:00, 51.74it/s]\n"
     ]
    },
    {
     "name": "stdout",
     "output_type": "stream",
     "text": [
      "################ EAZY DONE ###################\n",
      "loss: 531.7485147725533, c: 0.03535353535353536\n"
     ]
    },
    {
     "name": "stderr",
     "output_type": "stream",
     "text": [
      "/tmp/ipykernel_5736/4063478249.py:78: UserWarning: Attempting to set identical bottom == top == 485.612174595566 results in singular transformations; automatically expanding.\n",
      "  axs.set_ylim([losses_train[-1], (max(np.array(lossByCFunc)[:,1])-min(np.array(lossByCFunc)[:,1]))*1.1+min(np.array(lossByCFunc)[:,1])])\n",
      "/tmp/ipykernel_5736/4063478249.py:79: UserWarning: Attempting to set identical left == right == 0.0 results in singular transformations; automatically expanding.\n",
      "  axs.set_xlim([min(np.array(lossByCFunc)[:,0])*1.1, max(np.array(lossByCFunc)[:,0])*1.1])\n"
     ]
    },
    {
     "name": "stdout",
     "output_type": "stream",
     "text": [
      "cMax\n",
      "test @ cCap: 0.4559400163030425...\n",
      "updated template set\n"
     ]
    },
    {
     "name": "stderr",
     "output_type": "stream",
     "text": [
      "100%|██████████| 13/13 [00:07<00:00,  1.67it/s]\n",
      "256it [00:00, 7766.39it/s]\n",
      "100%|██████████| 256/256 [00:01<00:00, 185.30it/s]\n",
      "100%|██████████| 198/198 [00:04<00:00, 42.95it/s]\n",
      "100%|██████████| 198/198 [00:14<00:00, 14.00it/s]\n",
      "100%|██████████| 198/198 [00:04<00:00, 49.48it/s]\n"
     ]
    },
    {
     "name": "stdout",
     "output_type": "stream",
     "text": [
      "################ EAZY DONE ###################\n",
      "first c test done\n",
      "cMin\n",
      "test @ -cCap: -0.0440599836969575...\n",
      "updated template set\n"
     ]
    },
    {
     "name": "stderr",
     "output_type": "stream",
     "text": [
      "100%|██████████| 13/13 [00:07<00:00,  1.71it/s]\n",
      "256it [00:00, 8017.73it/s]\n",
      "100%|██████████| 256/256 [00:01<00:00, 183.89it/s]\n",
      "100%|██████████| 198/198 [00:04<00:00, 40.44it/s]\n",
      "100%|██████████| 198/198 [00:13<00:00, 14.23it/s]\n",
      "100%|██████████| 198/198 [00:04<00:00, 48.65it/s]\n"
     ]
    },
    {
     "name": "stdout",
     "output_type": "stream",
     "text": [
      "################ EAZY DONE ###################\n",
      "test at -cCap done\n",
      "################### loop 0 #######################\n",
      "poly: [2289.44860777 -944.67854326  485.6121746 ]\n",
      "388.16321384270634\n",
      "trying c: 0.20631136686249782\n",
      "updated template set\n"
     ]
    },
    {
     "name": "stderr",
     "output_type": "stream",
     "text": [
      "100%|██████████| 13/13 [00:07<00:00,  1.71it/s]\n",
      "256it [00:00, 6699.20it/s]\n",
      "100%|██████████| 256/256 [00:01<00:00, 183.92it/s]\n",
      "100%|██████████| 198/198 [00:04<00:00, 41.69it/s]\n",
      "100%|██████████| 198/198 [00:13<00:00, 14.84it/s]\n",
      "100%|██████████| 198/198 [00:03<00:00, 55.53it/s]\n"
     ]
    },
    {
     "name": "stdout",
     "output_type": "stream",
     "text": [
      "################ EAZY DONE ###################\n",
      "loss: 530.8055766307987, c: 0.20631136686249782\n",
      "################### loop 1 #######################\n",
      "poly: [-4.00309944e-01  4.36343116e+01  5.13013141e+02]\n",
      "1702.0625094499649\n",
      "trying c: 0.06565656565656566\n",
      "updated template set\n"
     ]
    },
    {
     "name": "stderr",
     "output_type": "stream",
     "text": [
      "100%|██████████| 13/13 [00:07<00:00,  1.70it/s]\n",
      "256it [00:00, 6526.71it/s]\n",
      "100%|██████████| 256/256 [00:01<00:00, 182.22it/s]\n",
      "100%|██████████| 198/198 [00:04<00:00, 43.60it/s]\n",
      "100%|██████████| 198/198 [00:13<00:00, 14.57it/s]\n",
      "100%|██████████| 198/198 [00:03<00:00, 55.29it/s]\n"
     ]
    },
    {
     "name": "stdout",
     "output_type": "stream",
     "text": [
      "################ EAZY DONE ###################\n",
      "loss: 530.7554321164357, c: 0.06565656565656566\n",
      "################### loop 2 #######################\n",
      "poly: [-2722.21693592  1526.65893908   -90.54062833   512.43315968]\n",
      "511.00967329062513\n",
      "trying c: 0.03535353535353536\n",
      "updated template set\n"
     ]
    },
    {
     "name": "stderr",
     "output_type": "stream",
     "text": [
      "100%|██████████| 13/13 [00:07<00:00,  1.70it/s]\n",
      "256it [00:00, 7595.90it/s]\n",
      "100%|██████████| 256/256 [00:01<00:00, 184.46it/s]\n",
      "100%|██████████| 198/198 [00:04<00:00, 40.84it/s]\n",
      "100%|██████████| 198/198 [00:13<00:00, 15.14it/s]\n",
      "100%|██████████| 198/198 [00:03<00:00, 54.24it/s]\n"
     ]
    },
    {
     "name": "stdout",
     "output_type": "stream",
     "text": [
      "################ EAZY DONE ###################\n",
      "loss: 531.7053685742192, c: 0.03535353535353536\n"
     ]
    },
    {
     "name": "stderr",
     "output_type": "stream",
     "text": [
      "/tmp/ipykernel_5736/4063478249.py:78: UserWarning: Attempting to set identical bottom == top == 485.612174595566 results in singular transformations; automatically expanding.\n",
      "  axs.set_ylim([losses_train[-1], (max(np.array(lossByCFunc)[:,1])-min(np.array(lossByCFunc)[:,1]))*1.1+min(np.array(lossByCFunc)[:,1])])\n",
      "/tmp/ipykernel_5736/4063478249.py:79: UserWarning: Attempting to set identical left == right == 0.0 results in singular transformations; automatically expanding.\n",
      "  axs.set_xlim([min(np.array(lossByCFunc)[:,0])*1.1, max(np.array(lossByCFunc)[:,0])*1.1])\n"
     ]
    },
    {
     "name": "stdout",
     "output_type": "stream",
     "text": [
      "cMax\n",
      "test @ cCap: 0.5...\n",
      "updated template set\n"
     ]
    },
    {
     "name": "stderr",
     "output_type": "stream",
     "text": [
      "100%|██████████| 13/13 [00:07<00:00,  1.66it/s]\n",
      "256it [00:00, 7881.43it/s]\n",
      "100%|██████████| 256/256 [00:01<00:00, 181.43it/s]\n",
      "100%|██████████| 198/198 [00:04<00:00, 41.67it/s]\n",
      "100%|██████████| 198/198 [00:13<00:00, 14.50it/s]\n",
      "100%|██████████| 198/198 [00:03<00:00, 58.22it/s]\n"
     ]
    },
    {
     "name": "stdout",
     "output_type": "stream",
     "text": [
      "################ EAZY DONE ###################\n",
      "first c test done\n",
      "cMax/2\n",
      "test @ -cCap: 0.25...\n",
      "updated template set\n"
     ]
    },
    {
     "name": "stderr",
     "output_type": "stream",
     "text": [
      "100%|██████████| 13/13 [00:07<00:00,  1.69it/s]\n",
      "256it [00:00, 5817.91it/s]\n",
      "100%|██████████| 256/256 [00:01<00:00, 183.04it/s]\n",
      "100%|██████████| 198/198 [00:05<00:00, 37.35it/s]\n",
      "100%|██████████| 198/198 [00:13<00:00, 14.23it/s]\n",
      "100%|██████████| 198/198 [00:03<00:00, 58.74it/s]\n"
     ]
    },
    {
     "name": "stdout",
     "output_type": "stream",
     "text": [
      "################ EAZY DONE ###################\n",
      "test at -cCap done\n",
      "################### loop 0 #######################\n",
      "poly: [-250.13342926  187.57580697  485.6121746 ]\n",
      "520.7780893099084\n",
      "trying c: 0.08080808080808081\n",
      "updated template set\n"
     ]
    },
    {
     "name": "stderr",
     "output_type": "stream",
     "text": [
      "100%|██████████| 13/13 [00:07<00:00,  1.70it/s]\n",
      "256it [00:00, 6242.14it/s]\n",
      "100%|██████████| 256/256 [00:01<00:00, 181.47it/s]\n",
      "100%|██████████| 198/198 [00:04<00:00, 39.95it/s]\n",
      "100%|██████████| 198/198 [00:13<00:00, 14.68it/s]\n",
      "100%|██████████| 198/198 [00:03<00:00, 50.76it/s]\n"
     ]
    },
    {
     "name": "stdout",
     "output_type": "stream",
     "text": [
      "################ EAZY DONE ###################\n",
      "loss: 531.6886828728572, c: 0.08080808080808081\n",
      "################### loop 1 #######################\n",
      "poly: [-350.28444916  210.58115739  496.95976672]\n",
      "528.608633775848\n",
      "trying c: 0.18686868686868688\n",
      "updated template set\n"
     ]
    },
    {
     "name": "stderr",
     "output_type": "stream",
     "text": [
      "100%|██████████| 13/13 [00:07<00:00,  1.69it/s]\n",
      "256it [00:00, 7997.48it/s]\n",
      "100%|██████████| 256/256 [00:01<00:00, 181.51it/s]\n",
      "100%|██████████| 198/198 [00:05<00:00, 38.17it/s]\n",
      "100%|██████████| 198/198 [00:13<00:00, 14.32it/s]\n",
      "100%|██████████| 198/198 [00:03<00:00, 52.30it/s]\n"
     ]
    },
    {
     "name": "stdout",
     "output_type": "stream",
     "text": [
      "################ EAZY DONE ###################\n",
      "loss: 516.8791242881903, c: 0.18686868686868688\n",
      "################### loop 2 #######################\n",
      "poly: [ 4994.82698181 -3896.32223101   758.69774292   487.45729893]\n",
      "487.0067342992786\n",
      "trying c: 0.3484848484848485\n",
      "updated template set\n"
     ]
    },
    {
     "name": "stderr",
     "output_type": "stream",
     "text": [
      "100%|██████████| 13/13 [00:07<00:00,  1.68it/s]\n",
      "256it [00:00, 6640.37it/s]\n",
      "100%|██████████| 256/256 [00:01<00:00, 180.71it/s]\n",
      "100%|██████████| 198/198 [00:05<00:00, 34.55it/s]\n",
      "100%|██████████| 198/198 [00:14<00:00, 14.11it/s]\n",
      "100%|██████████| 198/198 [00:03<00:00, 56.18it/s]\n"
     ]
    },
    {
     "name": "stdout",
     "output_type": "stream",
     "text": [
      "################ EAZY DONE ###################\n",
      "loss: 516.8696607759528, c: 0.3484848484848485\n"
     ]
    },
    {
     "name": "stderr",
     "output_type": "stream",
     "text": [
      "/tmp/ipykernel_5736/4063478249.py:78: UserWarning: Attempting to set identical bottom == top == 485.612174595566 results in singular transformations; automatically expanding.\n",
      "  axs.set_ylim([losses_train[-1], (max(np.array(lossByCFunc)[:,1])-min(np.array(lossByCFunc)[:,1]))*1.1+min(np.array(lossByCFunc)[:,1])])\n",
      "/tmp/ipykernel_5736/4063478249.py:79: UserWarning: Attempting to set identical left == right == 0.0 results in singular transformations; automatically expanding.\n",
      "  axs.set_xlim([min(np.array(lossByCFunc)[:,0])*1.1, max(np.array(lossByCFunc)[:,0])*1.1])\n"
     ]
    },
    {
     "name": "stdout",
     "output_type": "stream",
     "text": [
      "cMax\n",
      "test @ cCap: 0.5...\n",
      "updated template set\n"
     ]
    },
    {
     "name": "stderr",
     "output_type": "stream",
     "text": [
      "100%|██████████| 13/13 [00:07<00:00,  1.67it/s]\n",
      "256it [00:00, 8201.14it/s]\n",
      "100%|██████████| 256/256 [00:01<00:00, 183.17it/s]\n",
      "100%|██████████| 198/198 [00:04<00:00, 41.43it/s]\n",
      "100%|██████████| 198/198 [00:14<00:00, 14.10it/s]\n",
      "100%|██████████| 198/198 [00:03<00:00, 52.75it/s]\n"
     ]
    },
    {
     "name": "stdout",
     "output_type": "stream",
     "text": [
      "################ EAZY DONE ###################\n",
      "first c test done\n",
      "cMax/2\n",
      "test @ -cCap: 0.25...\n",
      "updated template set\n"
     ]
    },
    {
     "name": "stderr",
     "output_type": "stream",
     "text": [
      "100%|██████████| 13/13 [00:07<00:00,  1.71it/s]\n",
      "256it [00:00, 6659.03it/s]\n",
      "100%|██████████| 256/256 [00:01<00:00, 182.20it/s]\n",
      "100%|██████████| 198/198 [00:04<00:00, 42.74it/s]\n",
      "100%|██████████| 198/198 [00:14<00:00, 13.80it/s]\n",
      "100%|██████████| 198/198 [00:03<00:00, 54.23it/s]\n"
     ]
    },
    {
     "name": "stdout",
     "output_type": "stream",
     "text": [
      "################ EAZY DONE ###################\n",
      "test at -cCap done\n",
      "################### loop 0 #######################\n",
      "poly: [-358.53285664  273.93963205  485.6121746 ]\n",
      "537.9385657616361\n",
      "trying c: 0.020202020202020204\n",
      "updated template set\n"
     ]
    },
    {
     "name": "stderr",
     "output_type": "stream",
     "text": [
      "100%|██████████| 13/13 [00:07<00:00,  1.71it/s]\n",
      "256it [00:00, 7241.90it/s]\n",
      "100%|██████████| 256/256 [00:01<00:00, 183.54it/s]\n",
      "100%|██████████| 198/198 [00:04<00:00, 39.79it/s]\n",
      "100%|██████████| 198/198 [00:13<00:00, 15.21it/s]\n",
      "100%|██████████| 198/198 [00:03<00:00, 53.85it/s]\n"
     ]
    },
    {
     "name": "stdout",
     "output_type": "stream",
     "text": [
      "################ EAZY DONE ###################\n",
      "loss: 531.6872229728637, c: 0.020202020202020204\n",
      "################### loop 1 #######################\n",
      "poly: [-262.01930662  184.20744338  505.51199428]\n",
      "537.8878358140308\n",
      "trying c: 0.05555555555555556\n",
      "updated template set\n"
     ]
    },
    {
     "name": "stderr",
     "output_type": "stream",
     "text": [
      "100%|██████████| 13/13 [00:07<00:00,  1.67it/s]\n",
      "256it [00:00, 6813.69it/s]\n",
      "100%|██████████| 256/256 [00:01<00:00, 167.63it/s]\n",
      "100%|██████████| 198/198 [00:04<00:00, 39.98it/s]\n",
      "100%|██████████| 198/198 [00:13<00:00, 14.60it/s]\n",
      "100%|██████████| 198/198 [00:03<00:00, 53.50it/s]\n"
     ]
    },
    {
     "name": "stdout",
     "output_type": "stream",
     "text": [
      "################ EAZY DONE ###################\n",
      "loss: 531.6879885845972, c: 0.05555555555555556\n",
      "################### loop 2 #######################\n",
      "poly: [ 6964.52530616 -5498.07099514  1083.71784664   495.09183159]\n",
      "494.5466756678904\n",
      "trying c: 0.07575757575757576\n",
      "updated template set\n"
     ]
    },
    {
     "name": "stderr",
     "output_type": "stream",
     "text": [
      "100%|██████████| 13/13 [00:07<00:00,  1.68it/s]\n",
      "256it [00:00, 6731.25it/s]\n",
      "100%|██████████| 256/256 [00:01<00:00, 182.78it/s]\n",
      "100%|██████████| 198/198 [00:04<00:00, 42.09it/s]\n",
      "100%|██████████| 198/198 [00:14<00:00, 13.99it/s]\n",
      "100%|██████████| 198/198 [00:03<00:00, 52.55it/s]\n"
     ]
    },
    {
     "name": "stdout",
     "output_type": "stream",
     "text": [
      "################ EAZY DONE ###################\n",
      "loss: 531.6906065233063, c: 0.07575757575757576\n"
     ]
    },
    {
     "name": "stderr",
     "output_type": "stream",
     "text": [
      "/tmp/ipykernel_5736/4063478249.py:78: UserWarning: Attempting to set identical bottom == top == 485.612174595566 results in singular transformations; automatically expanding.\n",
      "  axs.set_ylim([losses_train[-1], (max(np.array(lossByCFunc)[:,1])-min(np.array(lossByCFunc)[:,1]))*1.1+min(np.array(lossByCFunc)[:,1])])\n",
      "/tmp/ipykernel_5736/4063478249.py:79: UserWarning: Attempting to set identical left == right == 0.0 results in singular transformations; automatically expanding.\n",
      "  axs.set_xlim([min(np.array(lossByCFunc)[:,0])*1.1, max(np.array(lossByCFunc)[:,0])*1.1])\n"
     ]
    },
    {
     "name": "stdout",
     "output_type": "stream",
     "text": [
      "cMax\n",
      "test @ cCap: 0.446658011777043...\n",
      "updated template set\n"
     ]
    },
    {
     "name": "stderr",
     "output_type": "stream",
     "text": [
      "100%|██████████| 13/13 [00:07<00:00,  1.68it/s]\n",
      "256it [00:00, 6948.98it/s]\n",
      "100%|██████████| 256/256 [00:01<00:00, 184.00it/s]\n",
      "100%|██████████| 198/198 [00:05<00:00, 38.83it/s]\n",
      "100%|██████████| 198/198 [00:14<00:00, 13.98it/s]\n",
      "100%|██████████| 198/198 [00:03<00:00, 55.18it/s]\n"
     ]
    },
    {
     "name": "stdout",
     "output_type": "stream",
     "text": [
      "################ EAZY DONE ###################\n",
      "first c test done\n",
      "cMin\n",
      "test @ -cCap: -0.05334198822295702...\n",
      "updated template set\n"
     ]
    },
    {
     "name": "stderr",
     "output_type": "stream",
     "text": [
      "100%|██████████| 13/13 [00:07<00:00,  1.67it/s]\n",
      "256it [00:00, 6156.78it/s]\n",
      "100%|██████████| 256/256 [00:01<00:00, 182.34it/s]\n",
      "100%|██████████| 198/198 [00:04<00:00, 42.17it/s]\n",
      "100%|██████████| 198/198 [00:14<00:00, 14.14it/s]\n",
      "100%|██████████| 198/198 [00:03<00:00, 51.83it/s]\n"
     ]
    },
    {
     "name": "stdout",
     "output_type": "stream",
     "text": [
      "################ EAZY DONE ###################\n",
      "test at -cCap done\n",
      "################### loop 0 #######################\n",
      "poly: [1937.20450123 -759.75230292  485.6121746 ]\n",
      "411.1203538529759\n",
      "trying c: 0.19609501795888046\n",
      "updated template set\n"
     ]
    },
    {
     "name": "stderr",
     "output_type": "stream",
     "text": [
      "100%|██████████| 13/13 [00:07<00:00,  1.70it/s]\n",
      "256it [00:00, 7376.32it/s]\n",
      "100%|██████████| 256/256 [00:01<00:00, 182.34it/s]\n",
      "100%|██████████| 198/198 [00:04<00:00, 40.94it/s]\n",
      "100%|██████████| 198/198 [00:14<00:00, 14.13it/s]\n",
      "100%|██████████| 198/198 [00:04<00:00, 47.86it/s]\n"
     ]
    },
    {
     "name": "stdout",
     "output_type": "stream",
     "text": [
      "################ EAZY DONE ###################\n",
      "loss: 530.8415970436955, c: 0.19609501795888046\n",
      "################### loop 1 #######################\n",
      "poly: [ 53.13335598  24.87131329 513.3480562 ]\n",
      "510.4375388205672\n",
      "trying c: 0.03535353535353536\n",
      "updated template set\n"
     ]
    },
    {
     "name": "stderr",
     "output_type": "stream",
     "text": [
      "100%|██████████| 13/13 [00:07<00:00,  1.70it/s]\n",
      "256it [00:00, 7418.88it/s]\n",
      "100%|██████████| 256/256 [00:01<00:00, 181.45it/s]\n",
      "100%|██████████| 198/198 [00:04<00:00, 40.59it/s]\n",
      "100%|██████████| 198/198 [00:13<00:00, 14.45it/s]\n",
      "100%|██████████| 198/198 [00:03<00:00, 57.01it/s]\n"
     ]
    },
    {
     "name": "stdout",
     "output_type": "stream",
     "text": [
      "################ EAZY DONE ###################\n",
      "loss: 531.7152384808301, c: 0.03535353535353536\n",
      "################### loop 2 #######################\n",
      "poly: [-3082.23460479  1740.58485093  -117.52910197   512.4489807 ]\n",
      "510.3267970798078\n",
      "trying c: 0.16161616161616163\n",
      "updated template set\n"
     ]
    },
    {
     "name": "stderr",
     "output_type": "stream",
     "text": [
      "100%|██████████| 13/13 [00:07<00:00,  1.70it/s]\n",
      "256it [00:00, 8019.04it/s]\n",
      "100%|██████████| 256/256 [00:01<00:00, 185.61it/s]\n",
      "100%|██████████| 198/198 [00:05<00:00, 39.27it/s]\n",
      "100%|██████████| 198/198 [00:14<00:00, 13.83it/s]\n",
      "100%|██████████| 198/198 [00:03<00:00, 58.72it/s]\n"
     ]
    },
    {
     "name": "stdout",
     "output_type": "stream",
     "text": [
      "################ EAZY DONE ###################\n",
      "loss: 530.8310106373095, c: 0.16161616161616163\n"
     ]
    },
    {
     "name": "stderr",
     "output_type": "stream",
     "text": [
      "/tmp/ipykernel_5736/4063478249.py:78: UserWarning: Attempting to set identical bottom == top == 485.612174595566 results in singular transformations; automatically expanding.\n",
      "  axs.set_ylim([losses_train[-1], (max(np.array(lossByCFunc)[:,1])-min(np.array(lossByCFunc)[:,1]))*1.1+min(np.array(lossByCFunc)[:,1])])\n",
      "/tmp/ipykernel_5736/4063478249.py:79: UserWarning: Attempting to set identical left == right == 0.0 results in singular transformations; automatically expanding.\n",
      "  axs.set_xlim([min(np.array(lossByCFunc)[:,0])*1.1, max(np.array(lossByCFunc)[:,0])*1.1])\n"
     ]
    },
    {
     "name": "stdout",
     "output_type": "stream",
     "text": [
      "cMax\n",
      "test @ cCap: 0.5...\n",
      "updated template set\n"
     ]
    },
    {
     "name": "stderr",
     "output_type": "stream",
     "text": [
      "100%|██████████| 13/13 [00:07<00:00,  1.71it/s]\n",
      "256it [00:00, 6832.29it/s]\n",
      "100%|██████████| 256/256 [00:01<00:00, 181.64it/s]\n",
      "100%|██████████| 198/198 [00:05<00:00, 39.48it/s]\n",
      "100%|██████████| 198/198 [00:13<00:00, 14.37it/s]\n",
      "100%|██████████| 198/198 [00:03<00:00, 57.01it/s]\n"
     ]
    },
    {
     "name": "stdout",
     "output_type": "stream",
     "text": [
      "################ EAZY DONE ###################\n",
      "first c test done\n",
      "cMax/2\n",
      "test @ -cCap: 0.25...\n",
      "updated template set\n"
     ]
    },
    {
     "name": "stderr",
     "output_type": "stream",
     "text": [
      "100%|██████████| 13/13 [00:07<00:00,  1.66it/s]\n",
      "256it [00:00, 7252.12it/s]\n",
      "100%|██████████| 256/256 [00:01<00:00, 182.61it/s]\n",
      "100%|██████████| 198/198 [00:05<00:00, 38.67it/s]\n",
      "100%|██████████| 198/198 [00:14<00:00, 13.25it/s]\n",
      "100%|██████████| 198/198 [00:03<00:00, 53.43it/s]\n"
     ]
    },
    {
     "name": "stdout",
     "output_type": "stream",
     "text": [
      "################ EAZY DONE ###################\n",
      "test at -cCap done\n",
      "################### loop 0 #######################\n",
      "poly: [-350.98944798  268.61828567  485.6121746 ]\n",
      "537.0067277738308\n",
      "trying c: 0.04040404040404041\n",
      "updated template set\n"
     ]
    },
    {
     "name": "stderr",
     "output_type": "stream",
     "text": [
      "100%|██████████| 13/13 [00:07<00:00,  1.66it/s]\n",
      "256it [00:00, 6917.15it/s]\n",
      "100%|██████████| 256/256 [00:01<00:00, 181.32it/s]\n",
      "100%|██████████| 198/198 [00:05<00:00, 37.41it/s]\n",
      "100%|██████████| 198/198 [00:14<00:00, 13.55it/s]\n",
      "100%|██████████| 198/198 [00:03<00:00, 53.63it/s]\n"
     ]
    },
    {
     "name": "stdout",
     "output_type": "stream",
     "text": [
      "################ EAZY DONE ###################\n",
      "loss: 530.7483421657266, c: 0.04040404040404041\n",
      "################### loop 1 #######################\n",
      "poly: [-333.0257418   224.98672046  501.53704229]\n",
      "539.5363753953876\n",
      "trying c: 0.08080808080808081\n",
      "updated template set\n"
     ]
    },
    {
     "name": "stderr",
     "output_type": "stream",
     "text": [
      "100%|██████████| 13/13 [00:07<00:00,  1.70it/s]\n",
      "256it [00:00, 7776.06it/s]\n",
      "100%|██████████| 256/256 [00:01<00:00, 182.13it/s]\n",
      "100%|██████████| 198/198 [00:05<00:00, 38.16it/s]\n",
      "100%|██████████| 198/198 [00:14<00:00, 13.97it/s]\n",
      "100%|██████████| 198/198 [00:03<00:00, 49.53it/s]\n"
     ]
    },
    {
     "name": "stdout",
     "output_type": "stream",
     "text": [
      "################ EAZY DONE ###################\n",
      "loss: 530.7727383991464, c: 0.08080808080808081\n",
      "################### loop 2 #######################\n",
      "poly: [ 5430.13581979 -4377.65334858   916.26608424   489.75752384]\n",
      "503.3178386448466\n",
      "trying c: 0.030303030303030304\n",
      "updated template set\n"
     ]
    },
    {
     "name": "stderr",
     "output_type": "stream",
     "text": [
      "100%|██████████| 13/13 [00:07<00:00,  1.67it/s]\n",
      "256it [00:00, 7796.33it/s]\n",
      "100%|██████████| 256/256 [00:01<00:00, 182.84it/s]\n",
      "100%|██████████| 198/198 [00:04<00:00, 42.10it/s]\n",
      "100%|██████████| 198/198 [00:13<00:00, 14.42it/s]\n",
      "100%|██████████| 198/198 [00:03<00:00, 56.27it/s]\n"
     ]
    },
    {
     "name": "stdout",
     "output_type": "stream",
     "text": [
      "################ EAZY DONE ###################\n",
      "loss: 531.7062365978459, c: 0.030303030303030304\n"
     ]
    },
    {
     "name": "stderr",
     "output_type": "stream",
     "text": [
      "/tmp/ipykernel_5736/4063478249.py:78: UserWarning: Attempting to set identical bottom == top == 485.612174595566 results in singular transformations; automatically expanding.\n",
      "  axs.set_ylim([losses_train[-1], (max(np.array(lossByCFunc)[:,1])-min(np.array(lossByCFunc)[:,1]))*1.1+min(np.array(lossByCFunc)[:,1])])\n",
      "/tmp/ipykernel_5736/4063478249.py:79: UserWarning: Attempting to set identical left == right == 0.0 results in singular transformations; automatically expanding.\n",
      "  axs.set_xlim([min(np.array(lossByCFunc)[:,0])*1.1, max(np.array(lossByCFunc)[:,0])*1.1])\n"
     ]
    },
    {
     "name": "stdout",
     "output_type": "stream",
     "text": [
      "cMax\n",
      "test @ cCap: 0.5...\n",
      "updated template set\n"
     ]
    },
    {
     "name": "stderr",
     "output_type": "stream",
     "text": [
      "100%|██████████| 13/13 [00:07<00:00,  1.68it/s]\n",
      "256it [00:00, 8198.82it/s]\n",
      "100%|██████████| 256/256 [00:01<00:00, 181.26it/s]\n",
      "100%|██████████| 198/198 [00:05<00:00, 39.31it/s]\n",
      "100%|██████████| 198/198 [00:13<00:00, 14.86it/s]\n",
      "100%|██████████| 198/198 [00:04<00:00, 49.50it/s]\n"
     ]
    },
    {
     "name": "stdout",
     "output_type": "stream",
     "text": [
      "################ EAZY DONE ###################\n",
      "first c test done\n",
      "cMax/2\n",
      "test @ -cCap: 0.25...\n",
      "updated template set\n"
     ]
    },
    {
     "name": "stderr",
     "output_type": "stream",
     "text": [
      "100%|██████████| 13/13 [00:07<00:00,  1.70it/s]\n",
      "256it [00:00, 7812.84it/s]\n",
      "100%|██████████| 256/256 [00:01<00:00, 182.08it/s]\n",
      "100%|██████████| 198/198 [00:04<00:00, 40.15it/s]\n",
      "100%|██████████| 198/198 [00:14<00:00, 13.96it/s]\n",
      "100%|██████████| 198/198 [00:03<00:00, 56.28it/s]\n"
     ]
    },
    {
     "name": "stdout",
     "output_type": "stream",
     "text": [
      "################ EAZY DONE ###################\n",
      "test at -cCap done\n",
      "################### loop 0 #######################\n",
      "poly: [-379.13941449  284.21256948  485.6121746 ]\n",
      "538.8754212808719\n",
      "trying c: 0.015151515151515152\n",
      "updated template set\n"
     ]
    },
    {
     "name": "stderr",
     "output_type": "stream",
     "text": [
      "100%|██████████| 13/13 [00:07<00:00,  1.68it/s]\n",
      "256it [00:00, 6669.62it/s]\n",
      "100%|██████████| 256/256 [00:01<00:00, 181.39it/s]\n",
      "100%|██████████| 198/198 [00:04<00:00, 40.76it/s]\n",
      "100%|██████████| 198/198 [00:14<00:00, 13.68it/s]\n",
      "100%|██████████| 198/198 [00:03<00:00, 50.87it/s]\n"
     ]
    },
    {
     "name": "stdout",
     "output_type": "stream",
     "text": [
      "################ EAZY DONE ###################\n",
      "loss: 531.6878580746564, c: 0.015151515151515152\n",
      "################### loop 1 #######################\n",
      "poly: [-261.60764299  182.81015811  506.28442944]\n",
      "538.2211434504095\n",
      "trying c: 0.005050505050505051\n",
      "updated template set\n"
     ]
    },
    {
     "name": "stderr",
     "output_type": "stream",
     "text": [
      "100%|██████████| 13/13 [00:07<00:00,  1.68it/s]\n",
      "256it [00:00, 7702.98it/s]\n",
      "100%|██████████| 256/256 [00:01<00:00, 182.96it/s]\n",
      "100%|██████████| 198/198 [00:04<00:00, 39.91it/s]\n",
      "100%|██████████| 198/198 [00:13<00:00, 14.16it/s]\n",
      "100%|██████████| 198/198 [00:04<00:00, 49.41it/s]\n"
     ]
    },
    {
     "name": "stdout",
     "output_type": "stream",
     "text": [
      "################ EAZY DONE ###################\n",
      "loss: 531.6888963807105, c: 0.005050505050505051\n",
      "################### loop 2 #######################\n",
      "poly: [ 21645.21299675 -16512.66708289   2914.72633207    498.08956456]\n",
      "407.00930904190045\n",
      "trying c: 0.3949287100335609\n",
      "updated template set\n"
     ]
    },
    {
     "name": "stderr",
     "output_type": "stream",
     "text": [
      "100%|██████████| 13/13 [00:07<00:00,  1.68it/s]\n",
      "256it [00:00, 7366.35it/s]\n",
      "100%|██████████| 256/256 [00:01<00:00, 181.65it/s]\n",
      "100%|██████████| 198/198 [00:05<00:00, 39.46it/s]\n",
      "100%|██████████| 198/198 [00:13<00:00, 14.33it/s]\n",
      "100%|██████████| 198/198 [00:04<00:00, 44.43it/s]\n"
     ]
    },
    {
     "name": "stdout",
     "output_type": "stream",
     "text": [
      "################ EAZY DONE ###################\n",
      "loss: 532.9437117502654, c: 0.3949287100335609\n"
     ]
    },
    {
     "name": "stderr",
     "output_type": "stream",
     "text": [
      "/tmp/ipykernel_5736/4063478249.py:78: UserWarning: Attempting to set identical bottom == top == 485.612174595566 results in singular transformations; automatically expanding.\n",
      "  axs.set_ylim([losses_train[-1], (max(np.array(lossByCFunc)[:,1])-min(np.array(lossByCFunc)[:,1]))*1.1+min(np.array(lossByCFunc)[:,1])])\n",
      "/tmp/ipykernel_5736/4063478249.py:79: UserWarning: Attempting to set identical left == right == 0.0 results in singular transformations; automatically expanding.\n",
      "  axs.set_xlim([min(np.array(lossByCFunc)[:,0])*1.1, max(np.array(lossByCFunc)[:,0])*1.1])\n"
     ]
    },
    {
     "name": "stdout",
     "output_type": "stream",
     "text": [
      "cMax\n",
      "test @ cCap: 0.5...\n",
      "updated template set\n"
     ]
    },
    {
     "name": "stderr",
     "output_type": "stream",
     "text": [
      "100%|██████████| 13/13 [00:07<00:00,  1.66it/s]\n",
      "256it [00:00, 6824.99it/s]\n",
      "100%|██████████| 256/256 [00:01<00:00, 179.82it/s]\n",
      "100%|██████████| 198/198 [00:04<00:00, 47.32it/s]\n",
      "100%|██████████| 198/198 [00:13<00:00, 14.21it/s]\n",
      "100%|██████████| 198/198 [00:04<00:00, 48.69it/s]\n"
     ]
    },
    {
     "name": "stdout",
     "output_type": "stream",
     "text": [
      "################ EAZY DONE ###################\n",
      "first c test done\n",
      "cMax/2\n",
      "test @ -cCap: 0.25...\n",
      "updated template set\n"
     ]
    },
    {
     "name": "stderr",
     "output_type": "stream",
     "text": [
      "100%|██████████| 13/13 [00:07<00:00,  1.69it/s]\n",
      "256it [00:00, 6121.71it/s]\n",
      "100%|██████████| 256/256 [00:01<00:00, 180.25it/s]\n",
      "100%|██████████| 198/198 [00:05<00:00, 36.72it/s]\n",
      "100%|██████████| 198/198 [00:13<00:00, 14.32it/s]\n",
      "100%|██████████| 198/198 [00:04<00:00, 47.05it/s]\n"
     ]
    },
    {
     "name": "stdout",
     "output_type": "stream",
     "text": [
      "################ EAZY DONE ###################\n",
      "test at -cCap done\n",
      "################### loop 0 #######################\n",
      "poly: [-369.47068207  277.09507247  485.6121746 ]\n",
      "537.566012150462\n",
      "trying c: 0.05555555555555556\n",
      "updated template set\n"
     ]
    },
    {
     "name": "stderr",
     "output_type": "stream",
     "text": [
      "100%|██████████| 13/13 [00:07<00:00,  1.70it/s]\n",
      "256it [00:00, 6720.80it/s]\n",
      "100%|██████████| 256/256 [00:01<00:00, 182.45it/s]\n",
      "100%|██████████| 198/198 [00:04<00:00, 40.05it/s]\n",
      "100%|██████████| 198/198 [00:14<00:00, 13.85it/s]\n",
      "100%|██████████| 198/198 [00:03<00:00, 52.98it/s]\n"
     ]
    },
    {
     "name": "stdout",
     "output_type": "stream",
     "text": [
      "################ EAZY DONE ###################\n",
      "loss: 531.6838169139273, c: 0.05555555555555556\n",
      "################### loop 1 #######################\n",
      "poly: [-398.18648008  261.30138356  499.01288034]\n",
      "541.8812450783064\n",
      "trying c: 0.08080808080808081\n",
      "updated template set\n"
     ]
    },
    {
     "name": "stderr",
     "output_type": "stream",
     "text": [
      "100%|██████████| 13/13 [00:07<00:00,  1.68it/s]\n",
      "256it [00:00, 7451.42it/s]\n",
      "100%|██████████| 256/256 [00:01<00:00, 182.48it/s]\n",
      "100%|██████████| 198/198 [00:05<00:00, 39.27it/s]\n",
      "100%|██████████| 198/198 [00:14<00:00, 13.52it/s]\n",
      "100%|██████████| 198/198 [00:03<00:00, 54.74it/s]\n"
     ]
    },
    {
     "name": "stdout",
     "output_type": "stream",
     "text": [
      "################ EAZY DONE ###################\n",
      "loss: 531.6819438471357, c: 0.08080808080808081\n",
      "################### loop 2 #######################\n",
      "poly: [ 5294.14181003 -4324.64863423   928.7509487    486.84059886]\n",
      "505.2093127403804\n",
      "trying c: 0.03535353535353536\n",
      "updated template set\n"
     ]
    },
    {
     "name": "stderr",
     "output_type": "stream",
     "text": [
      "100%|██████████| 13/13 [00:07<00:00,  1.67it/s]\n",
      "256it [00:00, 7523.84it/s]\n",
      "100%|██████████| 256/256 [00:01<00:00, 182.98it/s]\n",
      "100%|██████████| 198/198 [00:04<00:00, 40.41it/s]\n",
      "100%|██████████| 198/198 [00:13<00:00, 14.19it/s]\n",
      "100%|██████████| 198/198 [00:03<00:00, 52.69it/s]\n"
     ]
    },
    {
     "name": "stdout",
     "output_type": "stream",
     "text": [
      "################ EAZY DONE ###################\n",
      "loss: 531.6855297400047, c: 0.03535353535353536\n"
     ]
    },
    {
     "name": "stderr",
     "output_type": "stream",
     "text": [
      "/tmp/ipykernel_5736/4063478249.py:78: UserWarning: Attempting to set identical bottom == top == 485.612174595566 results in singular transformations; automatically expanding.\n",
      "  axs.set_ylim([losses_train[-1], (max(np.array(lossByCFunc)[:,1])-min(np.array(lossByCFunc)[:,1]))*1.1+min(np.array(lossByCFunc)[:,1])])\n",
      "/tmp/ipykernel_5736/4063478249.py:79: UserWarning: Attempting to set identical left == right == 0.0 results in singular transformations; automatically expanding.\n",
      "  axs.set_xlim([min(np.array(lossByCFunc)[:,0])*1.1, max(np.array(lossByCFunc)[:,0])*1.1])\n"
     ]
    },
    {
     "name": "stdout",
     "output_type": "stream",
     "text": [
      "cMax\n",
      "test @ cCap: 0.5...\n",
      "updated template set\n"
     ]
    },
    {
     "name": "stderr",
     "output_type": "stream",
     "text": [
      "100%|██████████| 13/13 [00:07<00:00,  1.69it/s]\n",
      "256it [00:00, 7812.21it/s]\n",
      "100%|██████████| 256/256 [00:01<00:00, 182.14it/s]\n",
      "100%|██████████| 198/198 [00:05<00:00, 38.16it/s]\n",
      "100%|██████████| 198/198 [00:13<00:00, 14.49it/s]\n",
      "100%|██████████| 198/198 [00:03<00:00, 50.95it/s]\n"
     ]
    },
    {
     "name": "stdout",
     "output_type": "stream",
     "text": [
      "################ EAZY DONE ###################\n",
      "first c test done\n",
      "cMax/2\n",
      "test @ -cCap: 0.25...\n",
      "updated template set\n"
     ]
    },
    {
     "name": "stderr",
     "output_type": "stream",
     "text": [
      "100%|██████████| 13/13 [00:07<00:00,  1.66it/s]\n",
      "256it [00:00, 7113.42it/s]\n",
      "100%|██████████| 256/256 [00:01<00:00, 180.67it/s]\n",
      "100%|██████████| 198/198 [00:04<00:00, 40.02it/s]\n",
      "100%|██████████| 198/198 [00:14<00:00, 13.35it/s]\n",
      "100%|██████████| 198/198 [00:04<00:00, 42.99it/s]\n"
     ]
    },
    {
     "name": "stdout",
     "output_type": "stream",
     "text": [
      "################ EAZY DONE ###################\n",
      "test at -cCap done\n",
      "################### loop 0 #######################\n",
      "poly: [-407.92381593  306.03501295  485.6121746 ]\n",
      "543.0110230399845\n",
      "trying c: 0.04040404040404041\n",
      "updated template set\n"
     ]
    },
    {
     "name": "stderr",
     "output_type": "stream",
     "text": [
      "100%|██████████| 13/13 [00:07<00:00,  1.65it/s]\n",
      "256it [00:00, 6217.45it/s]\n",
      "100%|██████████| 256/256 [00:01<00:00, 184.22it/s]\n",
      "100%|██████████| 198/198 [00:05<00:00, 38.90it/s]\n",
      "100%|██████████| 198/198 [00:13<00:00, 14.39it/s]\n",
      "100%|██████████| 198/198 [00:03<00:00, 52.00it/s]\n"
     ]
    },
    {
     "name": "stdout",
     "output_type": "stream",
     "text": [
      "################ EAZY DONE ###################\n",
      "loss: 531.6263604559715, c: 0.04040404040404041\n",
      "################### loop 1 #######################\n",
      "poly: [-390.23883468  263.08043524  501.28995199]\n",
      "545.6290267170708\n",
      "trying c: 0.04040404040404041\n",
      "updated template set\n"
     ]
    },
    {
     "name": "stderr",
     "output_type": "stream",
     "text": [
      "100%|██████████| 13/13 [00:07<00:00,  1.68it/s]\n",
      "256it [00:00, 7919.97it/s]\n",
      "100%|██████████| 256/256 [00:01<00:00, 181.70it/s]\n",
      "100%|██████████| 198/198 [00:05<00:00, 39.20it/s]\n",
      "100%|██████████| 198/198 [00:14<00:00, 13.61it/s]\n",
      "100%|██████████| 198/198 [00:03<00:00, 50.59it/s]\n"
     ]
    },
    {
     "name": "stdout",
     "output_type": "stream",
     "text": [
      "################ EAZY DONE ###################\n",
      "loss: 531.6263604559715, c: 0.04040404040404041\n",
      "################### loop 2 #######################\n",
      "poly: [ 8816.59557871 -7020.37049996  1408.10946029   485.6121746 ]\n",
      "489.8187481263212\n",
      "trying c: 0.2828282828282829\n",
      "updated template set\n"
     ]
    },
    {
     "name": "stderr",
     "output_type": "stream",
     "text": [
      "100%|██████████| 13/13 [00:07<00:00,  1.67it/s]\n",
      "256it [00:00, 7221.15it/s]\n",
      "100%|██████████| 256/256 [00:01<00:00, 180.95it/s]\n",
      "100%|██████████| 198/198 [00:04<00:00, 41.10it/s]\n",
      "100%|██████████| 198/198 [00:14<00:00, 14.08it/s]\n",
      "100%|██████████| 198/198 [00:03<00:00, 53.30it/s]\n"
     ]
    },
    {
     "name": "stdout",
     "output_type": "stream",
     "text": [
      "################ EAZY DONE ###################\n",
      "loss: 536.6534937400601, c: 0.2828282828282829\n"
     ]
    },
    {
     "data": {
      "image/png": "[encoded data removed]",
      "text/plain": [
       "<Figure size 432x288 with 2 Axes>"
      ]
     },
     "metadata": {
      "needs_background": "light"
     },
     "output_type": "display_data"
    },
    {
     "name": "stdout",
     "output_type": "stream",
     "text": [
      "################### loop done #######################\n",
      "loop 1\n"
     ]
    },
    {
     "name": "stderr",
     "output_type": "stream",
     "text": [
      "/tmp/ipykernel_5736/4063478249.py:78: UserWarning: Attempting to set identical bottom == top == 536.6534937400601 results in singular transformations; automatically expanding.\n",
      "  axs.set_ylim([losses_train[-1], (max(np.array(lossByCFunc)[:,1])-min(np.array(lossByCFunc)[:,1]))*1.1+min(np.array(lossByCFunc)[:,1])])\n",
      "/tmp/ipykernel_5736/4063478249.py:79: UserWarning: Attempting to set identical left == right == 0.0 results in singular transformations; automatically expanding.\n",
      "  axs.set_xlim([min(np.array(lossByCFunc)[:,0])*1.1, max(np.array(lossByCFunc)[:,0])*1.1])\n"
     ]
    },
    {
     "name": "stdout",
     "output_type": "stream",
     "text": [
      "cMax\n",
      "test @ cCap: 0.5...\n",
      "updated template set\n"
     ]
    },
    {
     "name": "stderr",
     "output_type": "stream",
     "text": [
      "100%|██████████| 13/13 [00:08<00:00,  1.57it/s]\n",
      "256it [00:00, 6501.62it/s]\n",
      "100%|██████████| 256/256 [00:01<00:00, 181.09it/s]\n",
      "100%|██████████| 198/198 [00:04<00:00, 42.71it/s]\n",
      "100%|██████████| 198/198 [00:13<00:00, 14.81it/s]\n",
      "100%|██████████| 198/198 [00:03<00:00, 56.47it/s]\n"
     ]
    },
    {
     "name": "stdout",
     "output_type": "stream",
     "text": [
      "################ EAZY DONE ###################\n",
      "first c test done\n",
      "IMPROVEMENT FOUND!!!\n",
      "$\\Delta$ loss: -3.5856367643640397\n"
     ]
    },
    {
     "name": "stderr",
     "output_type": "stream",
     "text": [
      "/tmp/ipykernel_5736/4063478249.py:78: UserWarning: Attempting to set identical bottom == top == 533.067856975696 results in singular transformations; automatically expanding.\n",
      "  axs.set_ylim([losses_train[-1], (max(np.array(lossByCFunc)[:,1])-min(np.array(lossByCFunc)[:,1]))*1.1+min(np.array(lossByCFunc)[:,1])])\n",
      "/tmp/ipykernel_5736/4063478249.py:79: UserWarning: Attempting to set identical left == right == 0.0 results in singular transformations; automatically expanding.\n",
      "  axs.set_xlim([min(np.array(lossByCFunc)[:,0])*1.1, max(np.array(lossByCFunc)[:,0])*1.1])\n"
     ]
    },
    {
     "name": "stdout",
     "output_type": "stream",
     "text": [
      "cMax\n",
      "test @ cCap: 0.5...\n",
      "updated template set\n"
     ]
    },
    {
     "name": "stderr",
     "output_type": "stream",
     "text": [
      "100%|██████████| 13/13 [00:08<00:00,  1.60it/s]\n",
      "256it [00:00, 6307.45it/s]\n",
      "100%|██████████| 256/256 [00:01<00:00, 183.44it/s]\n",
      "100%|██████████| 198/198 [00:04<00:00, 43.57it/s]\n",
      "100%|██████████| 198/198 [00:13<00:00, 14.49it/s]\n",
      "100%|██████████| 198/198 [00:03<00:00, 58.05it/s]\n"
     ]
    },
    {
     "name": "stdout",
     "output_type": "stream",
     "text": [
      "################ EAZY DONE ###################\n",
      "first c test done\n",
      "cMax/2\n",
      "test @ -cCap: 0.25...\n",
      "updated template set\n"
     ]
    },
    {
     "name": "stderr",
     "output_type": "stream",
     "text": [
      "100%|██████████| 13/13 [00:07<00:00,  1.63it/s]\n",
      "256it [00:00, 7630.02it/s]\n",
      "100%|██████████| 256/256 [00:01<00:00, 183.05it/s]\n",
      "100%|██████████| 198/198 [00:04<00:00, 39.95it/s]\n",
      "100%|██████████| 198/198 [00:13<00:00, 14.47it/s]\n",
      "100%|██████████| 198/198 [00:03<00:00, 55.65it/s]\n"
     ]
    },
    {
     "name": "stdout",
     "output_type": "stream",
     "text": [
      "################ EAZY DONE ###################\n",
      "test at -cCap done\n",
      "################### loop 0 #######################\n",
      "poly: [-28.66151591  21.65056087 533.06785698]\n",
      "537.1564996323638\n",
      "trying c: 0.04040404040404041\n",
      "updated template set\n"
     ]
    },
    {
     "name": "stderr",
     "output_type": "stream",
     "text": [
      "100%|██████████| 13/13 [00:08<00:00,  1.59it/s]\n",
      "256it [00:00, 6433.64it/s]\n",
      "100%|██████████| 256/256 [00:01<00:00, 181.42it/s]\n",
      "100%|██████████| 198/198 [00:05<00:00, 39.21it/s]\n",
      "100%|██████████| 198/198 [00:13<00:00, 14.54it/s]\n",
      "100%|██████████| 198/198 [00:03<00:00, 55.30it/s]\n"
     ]
    },
    {
     "name": "stdout",
     "output_type": "stream",
     "text": [
      "################ EAZY DONE ###################\n",
      "loss: 536.6073113157356, c: 0.04040404040404041\n",
      "################### loop 1 #######################\n",
      "poly: [-27.26410161  18.25641869 534.30666803]\n",
      "537.3628555023918\n",
      "trying c: 0.05555555555555556\n",
      "updated template set\n"
     ]
    },
    {
     "name": "stderr",
     "output_type": "stream",
     "text": [
      "100%|██████████| 13/13 [00:07<00:00,  1.63it/s]\n",
      "256it [00:00, 6380.53it/s]\n",
      "100%|██████████| 256/256 [00:01<00:00, 182.80it/s]\n",
      "100%|██████████| 198/198 [00:05<00:00, 39.33it/s]\n",
      "100%|██████████| 198/198 [00:13<00:00, 14.69it/s]\n",
      "100%|██████████| 198/198 [00:03<00:00, 52.44it/s]\n"
     ]
    },
    {
     "name": "stdout",
     "output_type": "stream",
     "text": [
      "################ EAZY DONE ###################\n",
      "loss: 536.5600110869606, c: 0.05555555555555556\n",
      "################### loop 2 #######################\n",
      "poly: [ 559.98957201 -447.70016057   90.98101435  533.16465866]\n",
      "533.7614341862993\n",
      "trying c: 0.020202020202020204\n",
      "updated template set\n"
     ]
    },
    {
     "name": "stderr",
     "output_type": "stream",
     "text": [
      "100%|██████████| 13/13 [00:08<00:00,  1.58it/s]\n",
      "256it [00:00, 8016.71it/s]\n",
      "100%|██████████| 256/256 [00:01<00:00, 183.13it/s]\n",
      "100%|██████████| 198/198 [00:04<00:00, 43.65it/s]\n",
      "100%|██████████| 198/198 [00:13<00:00, 14.70it/s]\n",
      "100%|██████████| 198/198 [00:03<00:00, 57.91it/s]\n"
     ]
    },
    {
     "name": "stdout",
     "output_type": "stream",
     "text": [
      "################ EAZY DONE ###################\n",
      "loss: 536.6131401639695, c: 0.020202020202020204\n"
     ]
    },
    {
     "name": "stderr",
     "output_type": "stream",
     "text": [
      "/tmp/ipykernel_5736/4063478249.py:78: UserWarning: Attempting to set identical bottom == top == 533.067856975696 results in singular transformations; automatically expanding.\n",
      "  axs.set_ylim([losses_train[-1], (max(np.array(lossByCFunc)[:,1])-min(np.array(lossByCFunc)[:,1]))*1.1+min(np.array(lossByCFunc)[:,1])])\n",
      "/tmp/ipykernel_5736/4063478249.py:79: UserWarning: Attempting to set identical left == right == 0.0 results in singular transformations; automatically expanding.\n",
      "  axs.set_xlim([min(np.array(lossByCFunc)[:,0])*1.1, max(np.array(lossByCFunc)[:,0])*1.1])\n"
     ]
    },
    {
     "name": "stdout",
     "output_type": "stream",
     "text": [
      "cMax\n",
      "test @ cCap: 0.4430204534644046...\n",
      "updated template set\n"
     ]
    },
    {
     "name": "stderr",
     "output_type": "stream",
     "text": [
      "100%|██████████| 13/13 [00:08<00:00,  1.61it/s]\n",
      "256it [00:00, 6297.42it/s]\n",
      "100%|██████████| 256/256 [00:01<00:00, 180.54it/s]\n",
      "100%|██████████| 198/198 [00:05<00:00, 37.42it/s]\n",
      "100%|██████████| 198/198 [00:13<00:00, 15.13it/s]\n",
      "100%|██████████| 198/198 [00:03<00:00, 55.19it/s]\n"
     ]
    },
    {
     "name": "stdout",
     "output_type": "stream",
     "text": [
      "################ EAZY DONE ###################\n",
      "first c test done\n",
      "cMin\n",
      "test @ -cCap: -0.05697954653559537...\n",
      "updated template set\n"
     ]
    },
    {
     "name": "stderr",
     "output_type": "stream",
     "text": [
      "100%|██████████| 13/13 [00:08<00:00,  1.59it/s]\n",
      "256it [00:00, 7488.52it/s]\n",
      "100%|██████████| 256/256 [00:01<00:00, 182.26it/s]\n",
      "100%|██████████| 198/198 [00:04<00:00, 42.30it/s]\n",
      "100%|██████████| 198/198 [00:12<00:00, 15.28it/s]\n",
      "100%|██████████| 198/198 [00:03<00:00, 55.57it/s]\n"
     ]
    },
    {
     "name": "stdout",
     "output_type": "stream",
     "text": [
      "################ EAZY DONE ###################\n",
      "test at -cCap done\n",
      "################### loop 0 #######################\n",
      "poly: [143.41452349 -54.73742551 533.06785698]\n",
      "527.844910095872\n",
      "trying c: 0.19083640966735418\n",
      "updated template set\n"
     ]
    },
    {
     "name": "stderr",
     "output_type": "stream",
     "text": [
      "100%|██████████| 13/13 [00:08<00:00,  1.61it/s]\n",
      "256it [00:00, 7452.40it/s]\n",
      "100%|██████████| 256/256 [00:01<00:00, 182.17it/s]\n",
      "100%|██████████| 198/198 [00:04<00:00, 41.42it/s]\n",
      "100%|██████████| 198/198 [00:13<00:00, 14.61it/s]\n",
      "100%|██████████| 198/198 [00:03<00:00, 50.11it/s]\n"
     ]
    },
    {
     "name": "stdout",
     "output_type": "stream",
     "text": [
      "################ EAZY DONE ###################\n",
      "loss: 536.8157873292812, c: 0.19083640966735418\n",
      "################### loop 1 #######################\n",
      "poly: [  3.50270817   2.6784434  535.2825282 ]\n",
      "534.7704916048382\n",
      "trying c: 0.04040404040404041\n",
      "updated template set\n"
     ]
    },
    {
     "name": "stderr",
     "output_type": "stream",
     "text": [
      "100%|██████████| 13/13 [00:07<00:00,  1.66it/s]\n",
      "256it [00:00, 7784.35it/s]\n",
      "100%|██████████| 256/256 [00:01<00:00, 182.20it/s]\n",
      "100%|██████████| 198/198 [00:04<00:00, 41.94it/s]\n",
      "100%|██████████| 198/198 [00:13<00:00, 14.40it/s]\n",
      "100%|██████████| 198/198 [00:03<00:00, 58.17it/s]\n"
     ]
    },
    {
     "name": "stdout",
     "output_type": "stream",
     "text": [
      "################ EAZY DONE ###################\n",
      "loss: 536.6584606205921, c: 0.04040404040404041\n",
      "################### loop 2 #######################\n",
      "poly: [-267.6880219   145.98315092   -7.96351326  535.09990142]\n",
      "534.9851424397398\n",
      "trying c: 0.13636363636363638\n",
      "updated template set\n"
     ]
    },
    {
     "name": "stderr",
     "output_type": "stream",
     "text": [
      "100%|██████████| 13/13 [00:07<00:00,  1.66it/s]\n",
      "256it [00:00, 7229.27it/s]\n",
      "100%|██████████| 256/256 [00:01<00:00, 180.50it/s]\n",
      "100%|██████████| 198/198 [00:04<00:00, 39.70it/s]\n",
      "100%|██████████| 198/198 [00:12<00:00, 15.80it/s]\n",
      "100%|██████████| 198/198 [00:03<00:00, 50.90it/s]\n"
     ]
    },
    {
     "name": "stdout",
     "output_type": "stream",
     "text": [
      "################ EAZY DONE ###################\n",
      "loss: 536.6952234002952, c: 0.13636363636363638\n"
     ]
    },
    {
     "name": "stderr",
     "output_type": "stream",
     "text": [
      "/tmp/ipykernel_5736/4063478249.py:78: UserWarning: Attempting to set identical bottom == top == 533.067856975696 results in singular transformations; automatically expanding.\n",
      "  axs.set_ylim([losses_train[-1], (max(np.array(lossByCFunc)[:,1])-min(np.array(lossByCFunc)[:,1]))*1.1+min(np.array(lossByCFunc)[:,1])])\n",
      "/tmp/ipykernel_5736/4063478249.py:79: UserWarning: Attempting to set identical left == right == 0.0 results in singular transformations; automatically expanding.\n",
      "  axs.set_xlim([min(np.array(lossByCFunc)[:,0])*1.1, max(np.array(lossByCFunc)[:,0])*1.1])\n"
     ]
    },
    {
     "name": "stdout",
     "output_type": "stream",
     "text": [
      "cMax\n",
      "test @ cCap: 0.5...\n",
      "updated template set\n"
     ]
    },
    {
     "name": "stderr",
     "output_type": "stream",
     "text": [
      "100%|██████████| 13/13 [00:07<00:00,  1.69it/s]\n",
      "256it [00:00, 6082.73it/s]\n",
      "100%|██████████| 256/256 [00:01<00:00, 181.90it/s]\n",
      "100%|██████████| 198/198 [00:04<00:00, 42.52it/s]\n",
      "100%|██████████| 198/198 [00:12<00:00, 15.26it/s]\n",
      "100%|██████████| 198/198 [00:03<00:00, 49.91it/s]\n"
     ]
    },
    {
     "name": "stdout",
     "output_type": "stream",
     "text": [
      "################ EAZY DONE ###################\n",
      "first c test done\n",
      "cMax/2\n",
      "test @ -cCap: 0.25...\n",
      "updated template set\n"
     ]
    },
    {
     "name": "stderr",
     "output_type": "stream",
     "text": [
      "100%|██████████| 13/13 [00:07<00:00,  1.66it/s]\n",
      "256it [00:00, 7537.09it/s]\n",
      "100%|██████████| 256/256 [00:01<00:00, 182.49it/s]\n",
      "100%|██████████| 198/198 [00:04<00:00, 41.72it/s]\n",
      "100%|██████████| 198/198 [00:13<00:00, 14.55it/s]\n",
      "100%|██████████| 198/198 [00:03<00:00, 54.71it/s]\n"
     ]
    },
    {
     "name": "stdout",
     "output_type": "stream",
     "text": [
      "################ EAZY DONE ###################\n",
      "test at -cCap done\n",
      "################### loop 0 #######################\n",
      "poly: [-1002.1759285    804.13651259   533.06785698]\n",
      "694.3757452645832\n",
      "trying c: 0.18181818181818182\n",
      "updated template set\n"
     ]
    },
    {
     "name": "stderr",
     "output_type": "stream",
     "text": [
      "100%|██████████| 13/13 [00:07<00:00,  1.69it/s]\n",
      "256it [00:00, 6646.75it/s]\n",
      "100%|██████████| 256/256 [00:01<00:00, 182.72it/s]\n",
      "100%|██████████| 198/198 [00:04<00:00, 45.42it/s]\n",
      "100%|██████████| 198/198 [00:13<00:00, 14.26it/s]\n",
      "100%|██████████| 198/198 [00:03<00:00, 53.83it/s]\n"
     ]
    },
    {
     "name": "stdout",
     "output_type": "stream",
     "text": [
      "################ EAZY DONE ###################\n",
      "loss: 671.4933646702096, c: 0.18181818181818182\n",
      "################### loop 1 #######################\n",
      "poly: [-1192.14933192   891.83353719   535.38729969]\n",
      "702.1799649993336\n",
      "trying c: 0.05555555555555556\n",
      "updated template set\n"
     ]
    },
    {
     "name": "stderr",
     "output_type": "stream",
     "text": [
      "100%|██████████| 13/13 [00:07<00:00,  1.71it/s]\n",
      "256it [00:00, 6170.93it/s]\n",
      "100%|██████████| 256/256 [00:01<00:00, 182.40it/s]\n",
      "100%|██████████| 198/198 [00:04<00:00, 41.06it/s]\n",
      "100%|██████████| 198/198 [00:13<00:00, 14.75it/s]\n",
      "100%|██████████| 198/198 [00:03<00:00, 49.66it/s]\n"
     ]
    },
    {
     "name": "stdout",
     "output_type": "stream",
     "text": [
      "################ EAZY DONE ###################\n",
      "loss: 559.208551785197, c: 0.05555555555555556\n",
      "################### loop 2 #######################\n",
      "poly: [ -129.14748195 -1130.78008692   913.4322918    526.22571801]\n",
      "-17825.12324929195\n",
      "trying c: 0.010101010101010102\n",
      "updated template set\n"
     ]
    },
    {
     "name": "stderr",
     "output_type": "stream",
     "text": [
      "100%|██████████| 13/13 [00:07<00:00,  1.67it/s]\n",
      "256it [00:00, 5983.45it/s]\n",
      "100%|██████████| 256/256 [00:01<00:00, 183.33it/s]\n",
      "100%|██████████| 198/198 [00:04<00:00, 42.85it/s]\n",
      "100%|██████████| 198/198 [00:13<00:00, 14.23it/s]\n",
      "100%|██████████| 198/198 [00:03<00:00, 51.81it/s]\n"
     ]
    },
    {
     "name": "stdout",
     "output_type": "stream",
     "text": [
      "################ EAZY DONE ###################\n",
      "loss: 536.6551754405745, c: 0.010101010101010102\n"
     ]
    },
    {
     "name": "stderr",
     "output_type": "stream",
     "text": [
      "/tmp/ipykernel_5736/4063478249.py:78: UserWarning: Attempting to set identical bottom == top == 533.067856975696 results in singular transformations; automatically expanding.\n",
      "  axs.set_ylim([losses_train[-1], (max(np.array(lossByCFunc)[:,1])-min(np.array(lossByCFunc)[:,1]))*1.1+min(np.array(lossByCFunc)[:,1])])\n",
      "/tmp/ipykernel_5736/4063478249.py:79: UserWarning: Attempting to set identical left == right == 0.0 results in singular transformations; automatically expanding.\n",
      "  axs.set_xlim([min(np.array(lossByCFunc)[:,0])*1.1, max(np.array(lossByCFunc)[:,0])*1.1])\n"
     ]
    },
    {
     "name": "stdout",
     "output_type": "stream",
     "text": [
      "cMax\n",
      "test @ cCap: 0.5...\n",
      "updated template set\n"
     ]
    },
    {
     "name": "stderr",
     "output_type": "stream",
     "text": [
      "100%|██████████| 13/13 [00:07<00:00,  1.66it/s]\n",
      "256it [00:00, 6241.56it/s]\n",
      "100%|██████████| 256/256 [00:01<00:00, 184.20it/s]\n",
      "100%|██████████| 198/198 [00:04<00:00, 47.74it/s]\n",
      "100%|██████████| 198/198 [00:12<00:00, 15.52it/s]\n",
      "100%|██████████| 198/198 [00:03<00:00, 52.91it/s]\n"
     ]
    },
    {
     "name": "stdout",
     "output_type": "stream",
     "text": [
      "################ EAZY DONE ###################\n",
      "first c test done\n",
      "cMax/2\n",
      "test @ -cCap: 0.25...\n",
      "updated template set\n"
     ]
    },
    {
     "name": "stderr",
     "output_type": "stream",
     "text": [
      "100%|██████████| 13/13 [00:07<00:00,  1.67it/s]\n",
      "256it [00:00, 5816.02it/s]\n",
      "100%|██████████| 256/256 [00:01<00:00, 182.85it/s]\n",
      "100%|██████████| 198/198 [00:04<00:00, 45.94it/s]\n",
      "100%|██████████| 198/198 [00:13<00:00, 14.33it/s]\n",
      "100%|██████████| 198/198 [00:03<00:00, 53.38it/s]\n"
     ]
    },
    {
     "name": "stdout",
     "output_type": "stream",
     "text": [
      "################ EAZY DONE ###################\n",
      "test at -cCap done\n",
      "################### loop 0 #######################\n",
      "poly: [-1212.49004547   909.20021812   533.06785698]\n",
      "703.511531899044\n",
      "trying c: 0.030303030303030304\n",
      "updated template set\n"
     ]
    },
    {
     "name": "stderr",
     "output_type": "stream",
     "text": [
      "100%|██████████| 13/13 [00:07<00:00,  1.67it/s]\n",
      "256it [00:00, 8524.40it/s]\n",
      "100%|██████████| 256/256 [00:01<00:00, 183.75it/s]\n",
      "100%|██████████| 198/198 [00:04<00:00, 40.04it/s]\n",
      "100%|██████████| 198/198 [00:13<00:00, 14.79it/s]\n",
      "100%|██████████| 198/198 [00:03<00:00, 54.06it/s]\n"
     ]
    },
    {
     "name": "stdout",
     "output_type": "stream",
     "text": [
      "################ EAZY DONE ###################\n",
      "loss: 559.1854733799502, c: 0.030303030303030304\n",
      "################### loop 1 #######################\n",
      "poly: [-1212.95791116   909.75860565   532.91546159]\n",
      "703.5027327883179\n",
      "trying c: 0.005050505050505051\n",
      "updated template set\n"
     ]
    },
    {
     "name": "stderr",
     "output_type": "stream",
     "text": [
      "100%|██████████| 13/13 [00:07<00:00,  1.63it/s]\n",
      "256it [00:00, 6591.90it/s]\n",
      "100%|██████████| 256/256 [00:01<00:00, 184.13it/s]\n",
      "100%|██████████| 198/198 [00:04<00:00, 43.02it/s]\n",
      "100%|██████████| 198/198 [00:14<00:00, 13.89it/s]\n",
      "100%|██████████| 198/198 [00:03<00:00, 58.69it/s]\n"
     ]
    },
    {
     "name": "stdout",
     "output_type": "stream",
     "text": [
      "################ EAZY DONE ###################\n",
      "loss: 536.6551737573216, c: 0.005050505050505051\n",
      "################### loop 2 #######################\n",
      "poly: [  -21.5015904  -1199.88758663   909.14427157   532.63262782]\n",
      "-587036.7268041945\n",
      "trying c: 0.14141414141414144\n",
      "updated template set\n"
     ]
    },
    {
     "name": "stderr",
     "output_type": "stream",
     "text": [
      "100%|██████████| 13/13 [00:07<00:00,  1.67it/s]\n",
      "256it [00:00, 7749.57it/s]\n",
      "100%|██████████| 256/256 [00:01<00:00, 182.63it/s]\n",
      "100%|██████████| 198/198 [00:04<00:00, 41.66it/s]\n",
      "100%|██████████| 198/198 [00:13<00:00, 14.49it/s]\n",
      "100%|██████████| 198/198 [00:04<00:00, 48.18it/s]\n"
     ]
    },
    {
     "name": "stdout",
     "output_type": "stream",
     "text": [
      "################ EAZY DONE ###################\n",
      "loss: 684.5786206629814, c: 0.14141414141414144\n"
     ]
    },
    {
     "name": "stderr",
     "output_type": "stream",
     "text": [
      "/tmp/ipykernel_5736/4063478249.py:78: UserWarning: Attempting to set identical bottom == top == 533.067856975696 results in singular transformations; automatically expanding.\n",
      "  axs.set_ylim([losses_train[-1], (max(np.array(lossByCFunc)[:,1])-min(np.array(lossByCFunc)[:,1]))*1.1+min(np.array(lossByCFunc)[:,1])])\n",
      "/tmp/ipykernel_5736/4063478249.py:79: UserWarning: Attempting to set identical left == right == 0.0 results in singular transformations; automatically expanding.\n",
      "  axs.set_xlim([min(np.array(lossByCFunc)[:,0])*1.1, max(np.array(lossByCFunc)[:,0])*1.1])\n"
     ]
    },
    {
     "name": "stdout",
     "output_type": "stream",
     "text": [
      "cMax\n",
      "test @ cCap: 0.5...\n",
      "updated template set\n"
     ]
    },
    {
     "name": "stderr",
     "output_type": "stream",
     "text": [
      "100%|██████████| 13/13 [00:07<00:00,  1.66it/s]\n",
      "256it [00:00, 6209.97it/s]\n",
      "100%|██████████| 256/256 [00:01<00:00, 182.90it/s]\n",
      "100%|██████████| 198/198 [00:04<00:00, 47.23it/s]\n",
      "100%|██████████| 198/198 [00:13<00:00, 15.10it/s]\n",
      "100%|██████████| 198/198 [00:03<00:00, 49.92it/s]\n"
     ]
    },
    {
     "name": "stdout",
     "output_type": "stream",
     "text": [
      "################ EAZY DONE ###################\n",
      "first c test done\n",
      "cMax/2\n",
      "test @ -cCap: 0.25...\n",
      "updated template set\n"
     ]
    },
    {
     "name": "stderr",
     "output_type": "stream",
     "text": [
      "100%|██████████| 13/13 [00:07<00:00,  1.70it/s]\n",
      "256it [00:00, 9135.97it/s]\n",
      "100%|██████████| 256/256 [00:01<00:00, 207.16it/s]\n",
      "100%|██████████| 198/198 [00:04<00:00, 46.78it/s]\n",
      "100%|██████████| 198/198 [00:11<00:00, 16.53it/s]\n",
      "100%|██████████| 198/198 [00:03<00:00, 63.79it/s]\n"
     ]
    },
    {
     "name": "stdout",
     "output_type": "stream",
     "text": [
      "################ EAZY DONE ###################\n",
      "test at -cCap done\n",
      "################### loop 0 #######################\n",
      "poly: [-28.5827423   21.48790788 533.06785698]\n",
      "537.1063969125078\n",
      "trying c: 0.08080808080808081\n",
      "updated template set\n"
     ]
    },
    {
     "name": "stderr",
     "output_type": "stream",
     "text": [
      "100%|██████████| 13/13 [00:07<00:00,  1.78it/s]\n",
      "256it [00:00, 9639.74it/s]\n",
      "100%|██████████| 256/256 [00:01<00:00, 205.79it/s]\n",
      "100%|██████████| 198/198 [00:04<00:00, 48.56it/s]\n",
      "100%|██████████| 198/198 [00:11<00:00, 17.58it/s]\n",
      "100%|██████████| 198/198 [00:03<00:00, 65.10it/s]\n"
     ]
    },
    {
     "name": "stdout",
     "output_type": "stream",
     "text": [
      "################ EAZY DONE ###################\n",
      "loss: 536.6535089254669, c: 0.08080808080808081\n",
      "################### loop 1 #######################\n",
      "poly: [-34.84644231  22.92672112 533.77756431]\n",
      "537.5486418296812\n",
      "trying c: 0.08080808080808081\n",
      "updated template set\n"
     ]
    },
    {
     "name": "stderr",
     "output_type": "stream",
     "text": [
      "100%|██████████| 13/13 [00:07<00:00,  1.82it/s]\n",
      "256it [00:00, 8148.48it/s]\n",
      "100%|██████████| 256/256 [00:01<00:00, 207.85it/s]\n",
      "100%|██████████| 198/198 [00:03<00:00, 51.16it/s]\n",
      "100%|██████████| 198/198 [00:11<00:00, 16.57it/s]\n",
      "100%|██████████| 198/198 [00:02<00:00, 75.03it/s]\n"
     ]
    },
    {
     "name": "stdout",
     "output_type": "stream",
     "text": [
      "################ EAZY DONE ###################\n",
      "loss: 536.6535089254669, c: 0.08080808080808081\n",
      "################### loop 2 #######################\n",
      "poly: [ 355.22943272 -295.00481683   65.89158697  533.06785698]\n",
      "534.9581020518392\n",
      "trying c: 0.33333333333333337\n",
      "updated template set\n"
     ]
    },
    {
     "name": "stderr",
     "output_type": "stream",
     "text": [
      "100%|██████████| 13/13 [00:07<00:00,  1.79it/s]\n",
      "256it [00:00, 8656.63it/s]\n",
      "100%|██████████| 256/256 [00:01<00:00, 207.49it/s]\n",
      "100%|██████████| 198/198 [00:03<00:00, 52.34it/s]\n",
      "100%|██████████| 198/198 [00:11<00:00, 16.91it/s]\n",
      "100%|██████████| 198/198 [00:02<00:00, 69.14it/s]\n"
     ]
    },
    {
     "name": "stdout",
     "output_type": "stream",
     "text": [
      "################ EAZY DONE ###################\n",
      "loss: 536.656631767644, c: 0.33333333333333337\n"
     ]
    },
    {
     "name": "stderr",
     "output_type": "stream",
     "text": [
      "/tmp/ipykernel_5736/4063478249.py:78: UserWarning: Attempting to set identical bottom == top == 533.067856975696 results in singular transformations; automatically expanding.\n",
      "  axs.set_ylim([losses_train[-1], (max(np.array(lossByCFunc)[:,1])-min(np.array(lossByCFunc)[:,1]))*1.1+min(np.array(lossByCFunc)[:,1])])\n",
      "/tmp/ipykernel_5736/4063478249.py:79: UserWarning: Attempting to set identical left == right == 0.0 results in singular transformations; automatically expanding.\n",
      "  axs.set_xlim([min(np.array(lossByCFunc)[:,0])*1.1, max(np.array(lossByCFunc)[:,0])*1.1])\n"
     ]
    },
    {
     "name": "stdout",
     "output_type": "stream",
     "text": [
      "cMax\n",
      "test @ cCap: 0.5...\n",
      "updated template set\n"
     ]
    },
    {
     "name": "stderr",
     "output_type": "stream",
     "text": [
      "100%|██████████| 13/13 [00:07<00:00,  1.78it/s]\n",
      "256it [00:00, 7166.83it/s]\n",
      "100%|██████████| 256/256 [00:01<00:00, 205.82it/s]\n",
      "100%|██████████| 198/198 [00:03<00:00, 52.44it/s]\n",
      "100%|██████████| 198/198 [00:11<00:00, 17.09it/s]\n",
      "100%|██████████| 198/198 [00:03<00:00, 64.34it/s]\n"
     ]
    },
    {
     "name": "stdout",
     "output_type": "stream",
     "text": [
      "################ EAZY DONE ###################\n",
      "first c test done\n",
      "cMax/2\n",
      "test @ -cCap: 0.25...\n",
      "updated template set\n"
     ]
    },
    {
     "name": "stderr",
     "output_type": "stream",
     "text": [
      "100%|██████████| 13/13 [00:07<00:00,  1.78it/s]\n",
      "256it [00:00, 9186.47it/s]\n",
      "100%|██████████| 256/256 [00:01<00:00, 205.27it/s]\n",
      "100%|██████████| 198/198 [00:04<00:00, 48.83it/s]\n",
      "100%|██████████| 198/198 [00:11<00:00, 17.12it/s]\n",
      "100%|██████████| 198/198 [00:03<00:00, 65.46it/s]\n"
     ]
    },
    {
     "name": "stdout",
     "output_type": "stream",
     "text": [
      "################ EAZY DONE ###################\n",
      "test at -cCap done\n",
      "################### loop 0 #######################\n",
      "poly: [-32.82264871  24.54130364 533.06785698]\n",
      "537.6552044940032\n",
      "trying c: 0.19191919191919193\n",
      "updated template set\n"
     ]
    },
    {
     "name": "stderr",
     "output_type": "stream",
     "text": [
      "100%|██████████| 13/13 [00:07<00:00,  1.76it/s]\n",
      "256it [00:00, 9119.45it/s]\n",
      "100%|██████████| 256/256 [00:01<00:00, 204.50it/s]\n",
      "100%|██████████| 198/198 [00:03<00:00, 53.84it/s]\n",
      "100%|██████████| 198/198 [00:11<00:00, 17.01it/s]\n",
      "100%|██████████| 198/198 [00:02<00:00, 71.85it/s]\n"
     ]
    },
    {
     "name": "stdout",
     "output_type": "stream",
     "text": [
      "################ EAZY DONE ###################\n",
      "loss: 535.7967328495694, c: 0.19191919191919193\n",
      "################### loop 1 #######################\n",
      "poly: [-26.91976081  21.77638308 533.0103927 ]\n",
      "537.4143216887143\n",
      "trying c: 0.015151515151515152\n",
      "updated template set\n"
     ]
    },
    {
     "name": "stderr",
     "output_type": "stream",
     "text": [
      "100%|██████████| 13/13 [00:07<00:00,  1.80it/s]\n",
      "256it [00:00, 8257.20it/s]\n",
      "100%|██████████| 256/256 [00:01<00:00, 197.96it/s]\n",
      "100%|██████████| 198/198 [00:03<00:00, 51.32it/s]\n",
      "100%|██████████| 198/198 [00:11<00:00, 16.70it/s]\n",
      "100%|██████████| 198/198 [00:02<00:00, 66.42it/s]\n"
     ]
    },
    {
     "name": "stdout",
     "output_type": "stream",
     "text": [
      "################ EAZY DONE ###################\n",
      "loss: 536.6562960208587, c: 0.015151515151515152\n",
      "################### loop 2 #######################\n",
      "poly: [ 139.54051749 -115.70358264   28.24564483  534.52165661]\n",
      "536.2008430915956\n",
      "trying c: 0.26262626262626265\n",
      "updated template set\n"
     ]
    },
    {
     "name": "stderr",
     "output_type": "stream",
     "text": [
      "100%|██████████| 13/13 [00:07<00:00,  1.80it/s]\n",
      "256it [00:00, 9045.54it/s]\n",
      "100%|██████████| 256/256 [00:01<00:00, 203.12it/s]\n",
      "100%|██████████| 198/198 [00:04<00:00, 48.43it/s]\n",
      "100%|██████████| 198/198 [00:11<00:00, 17.24it/s]\n",
      "100%|██████████| 198/198 [00:03<00:00, 64.64it/s]\n"
     ]
    },
    {
     "name": "stdout",
     "output_type": "stream",
     "text": [
      "################ EAZY DONE ###################\n",
      "loss: 537.153303087099, c: 0.26262626262626265\n"
     ]
    },
    {
     "name": "stderr",
     "output_type": "stream",
     "text": [
      "/tmp/ipykernel_5736/4063478249.py:78: UserWarning: Attempting to set identical bottom == top == 533.067856975696 results in singular transformations; automatically expanding.\n",
      "  axs.set_ylim([losses_train[-1], (max(np.array(lossByCFunc)[:,1])-min(np.array(lossByCFunc)[:,1]))*1.1+min(np.array(lossByCFunc)[:,1])])\n",
      "/tmp/ipykernel_5736/4063478249.py:79: UserWarning: Attempting to set identical left == right == 0.0 results in singular transformations; automatically expanding.\n",
      "  axs.set_xlim([min(np.array(lossByCFunc)[:,0])*1.1, max(np.array(lossByCFunc)[:,0])*1.1])\n"
     ]
    },
    {
     "name": "stdout",
     "output_type": "stream",
     "text": [
      "cMax\n",
      "test @ cCap: 0.5...\n",
      "updated template set\n"
     ]
    },
    {
     "name": "stderr",
     "output_type": "stream",
     "text": [
      "100%|██████████| 13/13 [00:07<00:00,  1.78it/s]\n",
      "256it [00:00, 9543.01it/s]\n",
      "100%|██████████| 256/256 [00:01<00:00, 205.90it/s]\n",
      "100%|██████████| 198/198 [00:03<00:00, 52.30it/s]\n",
      "100%|██████████| 198/198 [00:12<00:00, 16.29it/s]\n",
      "100%|██████████| 198/198 [00:02<00:00, 69.45it/s]\n"
     ]
    },
    {
     "name": "stdout",
     "output_type": "stream",
     "text": [
      "################ EAZY DONE ###################\n",
      "first c test done\n",
      "cMax/2\n",
      "test @ -cCap: 0.25...\n",
      "updated template set\n"
     ]
    },
    {
     "name": "stderr",
     "output_type": "stream",
     "text": [
      "100%|██████████| 13/13 [00:07<00:00,  1.80it/s]\n",
      "256it [00:00, 8099.07it/s]\n",
      "100%|██████████| 256/256 [00:01<00:00, 205.68it/s]\n",
      "100%|██████████| 198/198 [00:03<00:00, 56.13it/s]\n",
      "100%|██████████| 198/198 [00:11<00:00, 17.37it/s]\n",
      "100%|██████████| 198/198 [00:02<00:00, 66.22it/s]\n"
     ]
    },
    {
     "name": "stdout",
     "output_type": "stream",
     "text": [
      "################ EAZY DONE ###################\n",
      "test at -cCap done\n",
      "################### loop 0 #######################\n",
      "poly: [-28.51050622  21.4078088  533.06785698]\n",
      "537.0865007886892\n",
      "trying c: 0.14141414141414144\n",
      "updated template set\n"
     ]
    },
    {
     "name": "stderr",
     "output_type": "stream",
     "text": [
      "100%|██████████| 13/13 [00:07<00:00,  1.79it/s]\n",
      "256it [00:00, 8336.50it/s]\n",
      "100%|██████████| 256/256 [00:01<00:00, 200.15it/s]\n",
      "100%|██████████| 198/198 [00:03<00:00, 51.35it/s]\n",
      "100%|██████████| 198/198 [00:12<00:00, 16.42it/s]\n",
      "100%|██████████| 198/198 [00:02<00:00, 68.14it/s]\n"
     ]
    },
    {
     "name": "stdout",
     "output_type": "stream",
     "text": [
      "################ EAZY DONE ###################\n",
      "loss: 536.6445991893324, c: 0.14141414141414144\n",
      "################### loop 1 #######################\n",
      "poly: [-35.76509276  24.48578199 533.26483539]\n",
      "537.4557480456691\n",
      "trying c: 0.05555555555555556\n",
      "updated template set\n"
     ]
    },
    {
     "name": "stderr",
     "output_type": "stream",
     "text": [
      "100%|██████████| 13/13 [00:07<00:00,  1.81it/s]\n",
      "256it [00:00, 7451.57it/s]\n",
      "100%|██████████| 256/256 [00:01<00:00, 204.49it/s]\n",
      "100%|██████████| 198/198 [00:03<00:00, 53.40it/s]\n",
      "100%|██████████| 198/198 [00:11<00:00, 16.68it/s]\n",
      "100%|██████████| 198/198 [00:03<00:00, 63.22it/s]\n"
     ]
    },
    {
     "name": "stdout",
     "output_type": "stream",
     "text": [
      "################ EAZY DONE ###################\n",
      "loss: 536.6522866466677, c: 0.05555555555555556\n",
      "################### loop 2 #######################\n",
      "poly: [ 337.45755044 -275.29163086   59.84280279  533.37877425]\n",
      "534.8615678660238\n",
      "trying c: 0.030303030303030304\n",
      "updated template set\n"
     ]
    },
    {
     "name": "stderr",
     "output_type": "stream",
     "text": [
      "100%|██████████| 13/13 [00:07<00:00,  1.81it/s]\n",
      "256it [00:00, 7001.90it/s]\n",
      "100%|██████████| 256/256 [00:01<00:00, 206.55it/s]\n",
      "100%|██████████| 198/198 [00:03<00:00, 51.48it/s]\n",
      "100%|██████████| 198/198 [00:11<00:00, 17.06it/s]\n",
      "100%|██████████| 198/198 [00:03<00:00, 63.62it/s]\n"
     ]
    },
    {
     "name": "stdout",
     "output_type": "stream",
     "text": [
      "################ EAZY DONE ###################\n",
      "loss: 536.654706015455, c: 0.030303030303030304\n"
     ]
    },
    {
     "name": "stderr",
     "output_type": "stream",
     "text": [
      "/tmp/ipykernel_5736/4063478249.py:78: UserWarning: Attempting to set identical bottom == top == 533.067856975696 results in singular transformations; automatically expanding.\n",
      "  axs.set_ylim([losses_train[-1], (max(np.array(lossByCFunc)[:,1])-min(np.array(lossByCFunc)[:,1]))*1.1+min(np.array(lossByCFunc)[:,1])])\n",
      "/tmp/ipykernel_5736/4063478249.py:79: UserWarning: Attempting to set identical left == right == 0.0 results in singular transformations; automatically expanding.\n",
      "  axs.set_xlim([min(np.array(lossByCFunc)[:,0])*1.1, max(np.array(lossByCFunc)[:,0])*1.1])\n"
     ]
    },
    {
     "name": "stdout",
     "output_type": "stream",
     "text": [
      "cMax\n",
      "test @ cCap: 0.5...\n",
      "updated template set\n"
     ]
    },
    {
     "name": "stderr",
     "output_type": "stream",
     "text": [
      "100%|██████████| 13/13 [00:07<00:00,  1.80it/s]\n",
      "256it [00:00, 8660.26it/s]\n",
      "100%|██████████| 256/256 [00:01<00:00, 206.74it/s]\n",
      "100%|██████████| 198/198 [00:03<00:00, 51.99it/s]\n",
      "100%|██████████| 198/198 [00:11<00:00, 16.67it/s]\n",
      "100%|██████████| 198/198 [00:02<00:00, 69.87it/s]\n"
     ]
    },
    {
     "name": "stdout",
     "output_type": "stream",
     "text": [
      "################ EAZY DONE ###################\n",
      "first c test done\n",
      "cMax/2\n",
      "test @ -cCap: 0.25...\n",
      "updated template set\n"
     ]
    },
    {
     "name": "stderr",
     "output_type": "stream",
     "text": [
      "100%|██████████| 13/13 [00:07<00:00,  1.83it/s]\n",
      "256it [00:00, 7335.60it/s]\n",
      "100%|██████████| 256/256 [00:01<00:00, 205.33it/s]\n",
      "100%|██████████| 198/198 [00:04<00:00, 47.95it/s]\n",
      "100%|██████████| 198/198 [00:11<00:00, 16.67it/s]\n",
      "100%|██████████| 198/198 [00:03<00:00, 64.68it/s]\n"
     ]
    },
    {
     "name": "stdout",
     "output_type": "stream",
     "text": [
      "################ EAZY DONE ###################\n",
      "test at -cCap done\n",
      "################### loop 0 #######################\n",
      "poly: [-28.33014121  21.50484306 533.06785698]\n",
      "537.1488309448188\n",
      "trying c: 0.010101010101010102\n",
      "updated template set\n"
     ]
    },
    {
     "name": "stderr",
     "output_type": "stream",
     "text": [
      "100%|██████████| 13/13 [00:07<00:00,  1.79it/s]\n",
      "256it [00:00, 8607.01it/s]\n",
      "100%|██████████| 256/256 [00:01<00:00, 207.31it/s]\n",
      "100%|██████████| 198/198 [00:04<00:00, 49.35it/s]\n",
      "100%|██████████| 198/198 [00:11<00:00, 16.64it/s]\n",
      "100%|██████████| 198/198 [00:03<00:00, 64.35it/s]\n"
     ]
    },
    {
     "name": "stdout",
     "output_type": "stream",
     "text": [
      "################ EAZY DONE ###################\n",
      "loss: 536.6495701878678, c: 0.010101010101010102\n",
      "################### loop 1 #######################\n",
      "poly: [-17.46592699  12.65449915 534.74244774]\n",
      "537.0345726935861\n",
      "trying c: 0.10101010101010102\n",
      "updated template set\n"
     ]
    },
    {
     "name": "stderr",
     "output_type": "stream",
     "text": [
      "100%|██████████| 13/13 [00:07<00:00,  1.81it/s]\n",
      "256it [00:00, 7168.79it/s]\n",
      "100%|██████████| 256/256 [00:01<00:00, 206.70it/s]\n",
      "100%|██████████| 198/198 [00:03<00:00, 50.38it/s]\n",
      "100%|██████████| 198/198 [00:12<00:00, 16.50it/s]\n",
      "100%|██████████| 198/198 [00:03<00:00, 61.18it/s]\n"
     ]
    },
    {
     "name": "stdout",
     "output_type": "stream",
     "text": [
      "################ EAZY DONE ###################\n",
      "loss: 536.6663596849826, c: 0.10101010101010102\n",
      "################### loop 2 #######################\n",
      "poly: [ 236.02102387 -192.28881616   41.57806384  534.52589815]\n",
      "535.4932563825315\n",
      "trying c: 0.3585858585858586\n",
      "updated template set\n"
     ]
    },
    {
     "name": "stderr",
     "output_type": "stream",
     "text": [
      "100%|██████████| 13/13 [00:07<00:00,  1.79it/s]\n",
      "256it [00:00, 8393.07it/s]\n",
      "100%|██████████| 256/256 [00:01<00:00, 207.91it/s]\n",
      "100%|██████████| 198/198 [00:04<00:00, 46.51it/s]\n",
      "100%|██████████| 198/198 [00:11<00:00, 16.84it/s]\n",
      "100%|██████████| 198/198 [00:03<00:00, 63.62it/s]\n"
     ]
    },
    {
     "name": "stdout",
     "output_type": "stream",
     "text": [
      "################ EAZY DONE ###################\n",
      "loss: 536.7261050223701, c: 0.3585858585858586\n"
     ]
    },
    {
     "name": "stderr",
     "output_type": "stream",
     "text": [
      "/tmp/ipykernel_5736/4063478249.py:78: UserWarning: Attempting to set identical bottom == top == 533.067856975696 results in singular transformations; automatically expanding.\n",
      "  axs.set_ylim([losses_train[-1], (max(np.array(lossByCFunc)[:,1])-min(np.array(lossByCFunc)[:,1]))*1.1+min(np.array(lossByCFunc)[:,1])])\n",
      "/tmp/ipykernel_5736/4063478249.py:79: UserWarning: Attempting to set identical left == right == 0.0 results in singular transformations; automatically expanding.\n",
      "  axs.set_xlim([min(np.array(lossByCFunc)[:,0])*1.1, max(np.array(lossByCFunc)[:,0])*1.1])\n"
     ]
    },
    {
     "name": "stdout",
     "output_type": "stream",
     "text": [
      "cMax\n",
      "test @ cCap: 0.5...\n",
      "updated template set\n"
     ]
    },
    {
     "name": "stderr",
     "output_type": "stream",
     "text": [
      "100%|██████████| 13/13 [00:07<00:00,  1.82it/s]\n",
      "256it [00:00, 8053.87it/s]\n",
      "100%|██████████| 256/256 [00:01<00:00, 205.90it/s]\n",
      "100%|██████████| 198/198 [00:04<00:00, 49.39it/s]\n",
      "100%|██████████| 198/198 [00:11<00:00, 16.64it/s]\n",
      "100%|██████████| 198/198 [00:03<00:00, 63.72it/s]\n"
     ]
    },
    {
     "name": "stdout",
     "output_type": "stream",
     "text": [
      "################ EAZY DONE ###################\n",
      "first c test done\n",
      "cMax/2\n",
      "test @ -cCap: 0.25...\n",
      "updated template set\n"
     ]
    },
    {
     "name": "stderr",
     "output_type": "stream",
     "text": [
      "100%|██████████| 13/13 [00:07<00:00,  1.80it/s]\n",
      "256it [00:00, 9283.53it/s]\n",
      "100%|██████████| 256/256 [00:01<00:00, 209.06it/s]\n",
      "100%|██████████| 198/198 [00:03<00:00, 52.62it/s]\n",
      "100%|██████████| 198/198 [00:11<00:00, 17.10it/s]\n",
      "100%|██████████| 198/198 [00:03<00:00, 64.57it/s]\n"
     ]
    },
    {
     "name": "stdout",
     "output_type": "stream",
     "text": [
      "################ EAZY DONE ###################\n",
      "test at -cCap done\n",
      "################### loop 0 #######################\n",
      "poly: [-32.99746358  24.75419154 533.06785698]\n",
      "537.7104107698772\n",
      "trying c: 0.05555555555555556\n",
      "updated template set\n"
     ]
    },
    {
     "name": "stderr",
     "output_type": "stream",
     "text": [
      "100%|██████████| 13/13 [00:07<00:00,  1.81it/s]\n",
      "256it [00:00, 8726.77it/s]\n",
      "100%|██████████| 256/256 [00:01<00:00, 198.41it/s]\n",
      "100%|██████████| 198/198 [00:04<00:00, 48.97it/s]\n",
      "100%|██████████| 198/198 [00:11<00:00, 16.77it/s]\n",
      "100%|██████████| 198/198 [00:02<00:00, 68.07it/s]\n"
     ]
    },
    {
     "name": "stdout",
     "output_type": "stream",
     "text": [
      "################ EAZY DONE ###################\n",
      "loss: 538.116062577067, c: 0.05555555555555556\n",
      "################### loop 1 #######################\n",
      "poly: [-36.404262    22.88045242 534.65769624]\n",
      "538.2528460482497\n",
      "trying c: 0.16161616161616163\n",
      "updated template set\n"
     ]
    },
    {
     "name": "stderr",
     "output_type": "stream",
     "text": [
      "100%|██████████| 13/13 [00:07<00:00,  1.81it/s]\n",
      "256it [00:00, 8359.81it/s]\n",
      "100%|██████████| 256/256 [00:01<00:00, 197.82it/s]\n",
      "100%|██████████| 198/198 [00:04<00:00, 48.94it/s]\n",
      "100%|██████████| 198/198 [00:11<00:00, 16.97it/s]\n",
      "100%|██████████| 198/198 [00:02<00:00, 67.13it/s]\n"
     ]
    },
    {
     "name": "stdout",
     "output_type": "stream",
     "text": [
      "################ EAZY DONE ###################\n",
      "loss: 537.1840972892289, c: 0.16161616161616163\n",
      "################### loop 2 #######################\n",
      "poly: [ 514.74387722 -405.79896866   81.47953311  533.59398865]\n",
      "534.1830404459573\n",
      "trying c: 0.4040404040404041\n",
      "updated template set\n"
     ]
    },
    {
     "name": "stderr",
     "output_type": "stream",
     "text": [
      "100%|██████████| 13/13 [00:07<00:00,  1.81it/s]\n",
      "256it [00:00, 8193.63it/s]\n",
      "100%|██████████| 256/256 [00:01<00:00, 197.95it/s]\n",
      "100%|██████████| 198/198 [00:03<00:00, 52.40it/s]\n",
      "100%|██████████| 198/198 [00:11<00:00, 16.81it/s]\n",
      "100%|██████████| 198/198 [00:02<00:00, 73.27it/s]\n"
     ]
    },
    {
     "name": "stdout",
     "output_type": "stream",
     "text": [
      "################ EAZY DONE ###################\n",
      "loss: 537.1952180876433, c: 0.4040404040404041\n"
     ]
    },
    {
     "name": "stderr",
     "output_type": "stream",
     "text": [
      "/tmp/ipykernel_5736/4063478249.py:78: UserWarning: Attempting to set identical bottom == top == 533.067856975696 results in singular transformations; automatically expanding.\n",
      "  axs.set_ylim([losses_train[-1], (max(np.array(lossByCFunc)[:,1])-min(np.array(lossByCFunc)[:,1]))*1.1+min(np.array(lossByCFunc)[:,1])])\n",
      "/tmp/ipykernel_5736/4063478249.py:79: UserWarning: Attempting to set identical left == right == 0.0 results in singular transformations; automatically expanding.\n",
      "  axs.set_xlim([min(np.array(lossByCFunc)[:,0])*1.1, max(np.array(lossByCFunc)[:,0])*1.1])\n"
     ]
    },
    {
     "name": "stdout",
     "output_type": "stream",
     "text": [
      "cMax\n",
      "test @ cCap: 0.5...\n",
      "updated template set\n"
     ]
    },
    {
     "name": "stderr",
     "output_type": "stream",
     "text": [
      "100%|██████████| 13/13 [00:07<00:00,  1.78it/s]\n",
      "256it [00:00, 7165.40it/s]\n",
      "100%|██████████| 256/256 [00:01<00:00, 205.21it/s]\n",
      "100%|██████████| 198/198 [00:04<00:00, 44.18it/s]\n",
      "100%|██████████| 198/198 [00:11<00:00, 16.99it/s]\n",
      "100%|██████████| 198/198 [00:02<00:00, 68.04it/s]\n"
     ]
    },
    {
     "name": "stdout",
     "output_type": "stream",
     "text": [
      "################ EAZY DONE ###################\n",
      "first c test done\n",
      "cMax/2\n",
      "test @ -cCap: 0.25...\n",
      "updated template set\n"
     ]
    },
    {
     "name": "stderr",
     "output_type": "stream",
     "text": [
      "100%|██████████| 13/13 [00:07<00:00,  1.81it/s]\n",
      "256it [00:00, 8481.57it/s]\n",
      "100%|██████████| 256/256 [00:01<00:00, 208.50it/s]\n",
      "100%|██████████| 198/198 [00:03<00:00, 51.74it/s]\n",
      "100%|██████████| 198/198 [00:11<00:00, 17.15it/s]\n",
      "100%|██████████| 198/198 [00:03<00:00, 63.16it/s]\n"
     ]
    },
    {
     "name": "stdout",
     "output_type": "stream",
     "text": [
      "################ EAZY DONE ###################\n",
      "test at -cCap done\n",
      "################### loop 0 #######################\n",
      "poly: [-28.63096906  21.46865225 533.06785698]\n",
      "537.0923717285275\n",
      "trying c: 0.14141414141414144\n",
      "updated template set\n"
     ]
    },
    {
     "name": "stderr",
     "output_type": "stream",
     "text": [
      "100%|██████████| 13/13 [00:07<00:00,  1.77it/s]\n",
      "256it [00:00, 8974.10it/s]\n",
      "100%|██████████| 256/256 [00:01<00:00, 205.11it/s]\n",
      "100%|██████████| 198/198 [00:03<00:00, 51.79it/s]\n",
      "100%|██████████| 198/198 [00:11<00:00, 16.99it/s]\n",
      "100%|██████████| 198/198 [00:03<00:00, 64.00it/s]\n"
     ]
    },
    {
     "name": "stdout",
     "output_type": "stream",
     "text": [
      "################ EAZY DONE ###################\n",
      "loss: 536.6456640805327, c: 0.14141414141414144\n",
      "################### loop 1 #######################\n",
      "poly: [-35.85231153  24.53252066 533.26393274]\n",
      "537.4606256713106\n",
      "trying c: 0.08080808080808081\n",
      "updated template set\n"
     ]
    },
    {
     "name": "stderr",
     "output_type": "stream",
     "text": [
      "100%|██████████| 13/13 [00:07<00:00,  1.78it/s]\n",
      "256it [00:00, 9408.06it/s]\n",
      "100%|██████████| 256/256 [00:01<00:00, 207.90it/s]\n",
      "100%|██████████| 198/198 [00:04<00:00, 47.90it/s]\n",
      "100%|██████████| 198/198 [00:11<00:00, 16.75it/s]\n",
      "100%|██████████| 198/198 [00:03<00:00, 64.63it/s]\n"
     ]
    },
    {
     "name": "stdout",
     "output_type": "stream",
     "text": [
      "################ EAZY DONE ###################\n",
      "loss: 536.651057434798, c: 0.08080808080808081\n",
      "################### loop 2 #######################\n",
      "poly: [ 288.68159583 -242.42576364   56.01959408  533.16312796]\n",
      "535.2574530072519\n",
      "trying c: 0.22222222222222224\n",
      "updated template set\n"
     ]
    },
    {
     "name": "stderr",
     "output_type": "stream",
     "text": [
      "100%|██████████| 13/13 [00:07<00:00,  1.78it/s]\n",
      "256it [00:00, 8316.49it/s]\n",
      "100%|██████████| 256/256 [00:01<00:00, 202.72it/s]\n",
      "100%|██████████| 198/198 [00:04<00:00, 47.32it/s]\n",
      "100%|██████████| 198/198 [00:11<00:00, 17.49it/s]\n",
      "100%|██████████| 198/198 [00:02<00:00, 66.28it/s]\n"
     ]
    },
    {
     "name": "stdout",
     "output_type": "stream",
     "text": [
      "################ EAZY DONE ###################\n",
      "loss: 536.6429100220864, c: 0.22222222222222224\n"
     ]
    },
    {
     "name": "stderr",
     "output_type": "stream",
     "text": [
      "/tmp/ipykernel_5736/4063478249.py:78: UserWarning: Attempting to set identical bottom == top == 533.067856975696 results in singular transformations; automatically expanding.\n",
      "  axs.set_ylim([losses_train[-1], (max(np.array(lossByCFunc)[:,1])-min(np.array(lossByCFunc)[:,1]))*1.1+min(np.array(lossByCFunc)[:,1])])\n",
      "/tmp/ipykernel_5736/4063478249.py:79: UserWarning: Attempting to set identical left == right == 0.0 results in singular transformations; automatically expanding.\n",
      "  axs.set_xlim([min(np.array(lossByCFunc)[:,0])*1.1, max(np.array(lossByCFunc)[:,0])*1.1])\n"
     ]
    },
    {
     "name": "stdout",
     "output_type": "stream",
     "text": [
      "cMax\n",
      "test @ cCap: 0.5...\n",
      "updated template set\n"
     ]
    },
    {
     "name": "stderr",
     "output_type": "stream",
     "text": [
      "100%|██████████| 13/13 [00:07<00:00,  1.77it/s]\n",
      "256it [00:00, 9037.55it/s]\n",
      "100%|██████████| 256/256 [00:01<00:00, 207.44it/s]\n",
      "100%|██████████| 198/198 [00:03<00:00, 53.10it/s]\n",
      "100%|██████████| 198/198 [00:11<00:00, 17.86it/s]\n",
      "100%|██████████| 198/198 [00:03<00:00, 65.07it/s]\n"
     ]
    },
    {
     "name": "stdout",
     "output_type": "stream",
     "text": [
      "################ EAZY DONE ###################\n",
      "first c test done\n",
      "IMPROVEMENT FOUND!!!\n",
      "$\\Delta$ loss: -14.996379708459813\n"
     ]
    },
    {
     "name": "stderr",
     "output_type": "stream",
     "text": [
      "/tmp/ipykernel_5736/4063478249.py:78: UserWarning: Attempting to set identical bottom == top == 518.0714772672362 results in singular transformations; automatically expanding.\n",
      "  axs.set_ylim([losses_train[-1], (max(np.array(lossByCFunc)[:,1])-min(np.array(lossByCFunc)[:,1]))*1.1+min(np.array(lossByCFunc)[:,1])])\n",
      "/tmp/ipykernel_5736/4063478249.py:79: UserWarning: Attempting to set identical left == right == 0.0 results in singular transformations; automatically expanding.\n",
      "  axs.set_xlim([min(np.array(lossByCFunc)[:,0])*1.1, max(np.array(lossByCFunc)[:,0])*1.1])\n"
     ]
    },
    {
     "name": "stdout",
     "output_type": "stream",
     "text": [
      "cMax\n",
      "test @ cCap: 0.5...\n",
      "updated template set\n"
     ]
    },
    {
     "name": "stderr",
     "output_type": "stream",
     "text": [
      "100%|██████████| 13/13 [00:07<00:00,  1.79it/s]\n",
      "256it [00:00, 8830.19it/s]\n",
      "100%|██████████| 256/256 [00:01<00:00, 205.49it/s]\n",
      "100%|██████████| 198/198 [00:04<00:00, 47.46it/s]\n",
      "100%|██████████| 198/198 [00:11<00:00, 16.77it/s]\n",
      "100%|██████████| 198/198 [00:03<00:00, 64.84it/s]\n"
     ]
    },
    {
     "name": "stdout",
     "output_type": "stream",
     "text": [
      "################ EAZY DONE ###################\n",
      "first c test done\n",
      "cMax/2\n",
      "test @ -cCap: 0.25...\n",
      "updated template set\n"
     ]
    },
    {
     "name": "stderr",
     "output_type": "stream",
     "text": [
      "100%|██████████| 13/13 [00:07<00:00,  1.81it/s]\n",
      "256it [00:00, 9359.02it/s]\n",
      "100%|██████████| 256/256 [00:01<00:00, 209.29it/s]\n",
      "100%|██████████| 198/198 [00:04<00:00, 47.63it/s]\n",
      "100%|██████████| 198/198 [00:12<00:00, 15.88it/s]\n",
      "100%|██████████| 198/198 [00:02<00:00, 67.31it/s]\n"
     ]
    },
    {
     "name": "stdout",
     "output_type": "stream",
     "text": [
      "################ EAZY DONE ###################\n",
      "test at -cCap done\n",
      "################### loop 0 #######################\n",
      "poly: [-148.40129087  111.25067885  518.07147727]\n",
      "538.9215545675613\n",
      "trying c: 0.04040404040404041\n",
      "updated template set\n"
     ]
    },
    {
     "name": "stderr",
     "output_type": "stream",
     "text": [
      "100%|██████████| 13/13 [00:07<00:00,  1.82it/s]\n",
      "256it [00:00, 8185.88it/s]\n",
      "100%|██████████| 256/256 [00:01<00:00, 193.31it/s]\n",
      "100%|██████████| 198/198 [00:03<00:00, 50.85it/s]\n",
      "100%|██████████| 198/198 [00:11<00:00, 17.07it/s]\n",
      "100%|██████████| 198/198 [00:02<00:00, 69.04it/s]\n"
     ]
    },
    {
     "name": "stdout",
     "output_type": "stream",
     "text": [
      "################ EAZY DONE ###################\n",
      "loss: 536.61205540064, c: 0.04040404040404041\n",
      "################### loop 1 #######################\n",
      "poly: [-141.03774332   93.36555525  524.59927946]\n",
      "540.0510420543246\n",
      "trying c: 0.0\n",
      "updated template set\n"
     ]
    },
    {
     "name": "stderr",
     "output_type": "stream",
     "text": [
      "100%|██████████| 13/13 [00:07<00:00,  1.77it/s]\n",
      "256it [00:00, 8067.61it/s]\n",
      "100%|██████████| 256/256 [00:01<00:00, 200.06it/s]\n",
      "100%|██████████| 198/198 [00:03<00:00, 50.78it/s]\n",
      "100%|██████████| 198/198 [00:11<00:00, 17.31it/s]\n",
      "100%|██████████| 198/198 [00:02<00:00, 71.38it/s]\n"
     ]
    },
    {
     "name": "stdout",
     "output_type": "stream",
     "text": [
      "################ EAZY DONE ###################\n",
      "loss: 536.6534927036653, c: 0.0\n",
      "################### loop 2 #######################\n",
      "poly: [ 1831.3722508  -1447.60241722   284.42616389   527.36248499]\n",
      "526.7145706238839\n",
      "trying c: 0.0\n",
      "updated template set\n"
     ]
    },
    {
     "name": "stderr",
     "output_type": "stream",
     "text": [
      "100%|██████████| 13/13 [00:07<00:00,  1.79it/s]\n",
      "256it [00:00, 8514.46it/s]\n",
      "100%|██████████| 256/256 [00:01<00:00, 206.71it/s]\n",
      "100%|██████████| 198/198 [00:03<00:00, 53.36it/s]\n",
      "100%|██████████| 198/198 [00:12<00:00, 16.27it/s]\n",
      "100%|██████████| 198/198 [00:02<00:00, 66.27it/s]\n"
     ]
    },
    {
     "name": "stdout",
     "output_type": "stream",
     "text": [
      "################ EAZY DONE ###################\n",
      "loss: 536.6534927036653, c: 0.0\n"
     ]
    },
    {
     "name": "stderr",
     "output_type": "stream",
     "text": [
      "/tmp/ipykernel_5736/4063478249.py:78: UserWarning: Attempting to set identical bottom == top == 518.0714772672362 results in singular transformations; automatically expanding.\n",
      "  axs.set_ylim([losses_train[-1], (max(np.array(lossByCFunc)[:,1])-min(np.array(lossByCFunc)[:,1]))*1.1+min(np.array(lossByCFunc)[:,1])])\n",
      "/tmp/ipykernel_5736/4063478249.py:79: UserWarning: Attempting to set identical left == right == 0.0 results in singular transformations; automatically expanding.\n",
      "  axs.set_xlim([min(np.array(lossByCFunc)[:,0])*1.1, max(np.array(lossByCFunc)[:,0])*1.1])\n"
     ]
    },
    {
     "name": "stdout",
     "output_type": "stream",
     "text": [
      "cMax\n",
      "test @ cCap: 0.4987388603243782...\n",
      "updated template set\n"
     ]
    },
    {
     "name": "stderr",
     "output_type": "stream",
     "text": [
      "100%|██████████| 13/13 [00:07<00:00,  1.80it/s]\n",
      "256it [00:00, 7788.98it/s]\n",
      "100%|██████████| 256/256 [00:01<00:00, 207.69it/s]\n",
      "100%|██████████| 198/198 [00:04<00:00, 47.94it/s]\n",
      "100%|██████████| 198/198 [00:11<00:00, 17.31it/s]\n",
      "100%|██████████| 198/198 [00:03<00:00, 65.46it/s]\n"
     ]
    },
    {
     "name": "stdout",
     "output_type": "stream",
     "text": [
      "################ EAZY DONE ###################\n",
      "first c test done\n",
      "IMPROVEMENT FOUND!!!\n",
      "$\\Delta$ loss: -4.688391127074965\n"
     ]
    },
    {
     "name": "stderr",
     "output_type": "stream",
     "text": [
      "/tmp/ipykernel_5736/4063478249.py:78: UserWarning: Attempting to set identical bottom == top == 513.3830861401613 results in singular transformations; automatically expanding.\n",
      "  axs.set_ylim([losses_train[-1], (max(np.array(lossByCFunc)[:,1])-min(np.array(lossByCFunc)[:,1]))*1.1+min(np.array(lossByCFunc)[:,1])])\n",
      "/tmp/ipykernel_5736/4063478249.py:79: UserWarning: Attempting to set identical left == right == 0.0 results in singular transformations; automatically expanding.\n",
      "  axs.set_xlim([min(np.array(lossByCFunc)[:,0])*1.1, max(np.array(lossByCFunc)[:,0])*1.1])\n"
     ]
    },
    {
     "name": "stdout",
     "output_type": "stream",
     "text": [
      "cMax\n",
      "test @ cCap: 0.5...\n",
      "updated template set\n"
     ]
    },
    {
     "name": "stderr",
     "output_type": "stream",
     "text": [
      "100%|██████████| 13/13 [00:07<00:00,  1.78it/s]\n",
      "256it [00:00, 8669.21it/s]\n",
      "100%|██████████| 256/256 [00:01<00:00, 205.92it/s]\n",
      "100%|██████████| 198/198 [00:03<00:00, 52.56it/s]\n",
      "100%|██████████| 198/198 [00:11<00:00, 17.18it/s]\n",
      "100%|██████████| 198/198 [00:02<00:00, 67.27it/s]\n"
     ]
    },
    {
     "name": "stdout",
     "output_type": "stream",
     "text": [
      "################ EAZY DONE ###################\n",
      "first c test done\n",
      "cMax/2\n",
      "test @ -cCap: 0.25...\n",
      "updated template set\n"
     ]
    },
    {
     "name": "stderr",
     "output_type": "stream",
     "text": [
      "100%|██████████| 13/13 [00:07<00:00,  1.82it/s]\n",
      "256it [00:00, 7386.52it/s]\n",
      "100%|██████████| 256/256 [00:01<00:00, 205.26it/s]\n",
      "100%|██████████| 198/198 [00:03<00:00, 52.29it/s]\n",
      "100%|██████████| 198/198 [00:11<00:00, 16.53it/s]\n",
      "100%|██████████| 198/198 [00:02<00:00, 66.47it/s]\n"
     ]
    },
    {
     "name": "stdout",
     "output_type": "stream",
     "text": [
      "################ EAZY DONE ###################\n",
      "test at -cCap done\n",
      "################### loop 0 #######################\n",
      "poly: [-187.78574754  141.10088468  513.38308614]\n",
      "539.8886382367965\n",
      "trying c: 0.015151515151515152\n",
      "updated template set\n"
     ]
    },
    {
     "name": "stderr",
     "output_type": "stream",
     "text": [
      "100%|██████████| 13/13 [00:07<00:00,  1.85it/s]\n",
      "256it [00:00, 8547.33it/s]\n",
      "100%|██████████| 256/256 [00:01<00:00, 198.88it/s]\n",
      "100%|██████████| 198/198 [00:03<00:00, 54.00it/s]\n",
      "100%|██████████| 198/198 [00:11<00:00, 16.55it/s]\n",
      "100%|██████████| 198/198 [00:03<00:00, 66.00it/s]\n"
     ]
    },
    {
     "name": "stdout",
     "output_type": "stream",
     "text": [
      "################ EAZY DONE ###################\n",
      "loss: 536.655253505166, c: 0.015151515151515152\n",
      "################### loop 1 #######################\n",
      "poly: [-128.32025736   89.79608411  523.84226456]\n",
      "539.5516640048257\n",
      "trying c: 0.08080808080808081\n",
      "updated template set\n"
     ]
    },
    {
     "name": "stderr",
     "output_type": "stream",
     "text": [
      "100%|██████████| 13/13 [00:07<00:00,  1.81it/s]\n",
      "256it [00:00, 7128.48it/s]\n",
      "100%|██████████| 256/256 [00:01<00:00, 200.40it/s]\n",
      "100%|██████████| 198/198 [00:03<00:00, 51.70it/s]\n",
      "100%|██████████| 198/198 [00:11<00:00, 16.95it/s]\n",
      "100%|██████████| 198/198 [00:03<00:00, 62.48it/s]\n"
     ]
    },
    {
     "name": "stdout",
     "output_type": "stream",
     "text": [
      "################ EAZY DONE ###################\n",
      "loss: 536.669346039642, c: 0.08080808080808081\n",
      "################### loop 2 #######################\n",
      "poly: [ 2115.80399317 -1704.40813232   355.00707072   521.1569205 ]\n",
      "525.8507800235276\n",
      "trying c: 0.0\n",
      "updated template set\n"
     ]
    },
    {
     "name": "stderr",
     "output_type": "stream",
     "text": [
      "100%|██████████| 13/13 [00:07<00:00,  1.79it/s]\n",
      "256it [00:00, 9158.88it/s]\n",
      "100%|██████████| 256/256 [00:01<00:00, 199.35it/s]\n",
      "100%|██████████| 198/198 [00:03<00:00, 50.16it/s]\n",
      "100%|██████████| 198/198 [00:11<00:00, 17.08it/s]\n",
      "100%|██████████| 198/198 [00:02<00:00, 66.32it/s]\n"
     ]
    },
    {
     "name": "stdout",
     "output_type": "stream",
     "text": [
      "################ EAZY DONE ###################\n",
      "loss: 536.6534927036653, c: 0.0\n"
     ]
    },
    {
     "name": "stderr",
     "output_type": "stream",
     "text": [
      "/tmp/ipykernel_5736/4063478249.py:78: UserWarning: Attempting to set identical bottom == top == 513.3830861401613 results in singular transformations; automatically expanding.\n",
      "  axs.set_ylim([losses_train[-1], (max(np.array(lossByCFunc)[:,1])-min(np.array(lossByCFunc)[:,1]))*1.1+min(np.array(lossByCFunc)[:,1])])\n",
      "/tmp/ipykernel_5736/4063478249.py:79: UserWarning: Attempting to set identical left == right == 0.0 results in singular transformations; automatically expanding.\n",
      "  axs.set_xlim([min(np.array(lossByCFunc)[:,0])*1.1, max(np.array(lossByCFunc)[:,0])*1.1])\n"
     ]
    },
    {
     "name": "stdout",
     "output_type": "stream",
     "text": [
      "cMax\n",
      "test @ cCap: 0.5...\n",
      "updated template set\n"
     ]
    },
    {
     "name": "stderr",
     "output_type": "stream",
     "text": [
      "100%|██████████| 13/13 [00:07<00:00,  1.81it/s]\n",
      "256it [00:00, 9422.67it/s]\n",
      "100%|██████████| 256/256 [00:01<00:00, 200.41it/s]\n",
      "100%|██████████| 198/198 [00:04<00:00, 45.56it/s]\n",
      "100%|██████████| 198/198 [00:11<00:00, 16.60it/s]\n",
      "100%|██████████| 198/198 [00:02<00:00, 66.79it/s]\n"
     ]
    },
    {
     "name": "stdout",
     "output_type": "stream",
     "text": [
      "################ EAZY DONE ###################\n",
      "first c test done\n",
      "IMPROVEMENT FOUND!!!\n",
      "$\\Delta$ loss: -0.21387944218668054\n"
     ]
    },
    {
     "name": "stderr",
     "output_type": "stream",
     "text": [
      "/tmp/ipykernel_5736/4063478249.py:78: UserWarning: Attempting to set identical bottom == top == 513.1692066979746 results in singular transformations; automatically expanding.\n",
      "  axs.set_ylim([losses_train[-1], (max(np.array(lossByCFunc)[:,1])-min(np.array(lossByCFunc)[:,1]))*1.1+min(np.array(lossByCFunc)[:,1])])\n",
      "/tmp/ipykernel_5736/4063478249.py:79: UserWarning: Attempting to set identical left == right == 0.0 results in singular transformations; automatically expanding.\n",
      "  axs.set_xlim([min(np.array(lossByCFunc)[:,0])*1.1, max(np.array(lossByCFunc)[:,0])*1.1])\n"
     ]
    },
    {
     "name": "stdout",
     "output_type": "stream",
     "text": [
      "cMax\n",
      "test @ cCap: 0.5...\n",
      "updated template set\n"
     ]
    },
    {
     "name": "stderr",
     "output_type": "stream",
     "text": [
      "100%|██████████| 13/13 [00:07<00:00,  1.79it/s]\n",
      "256it [00:00, 9196.22it/s]\n",
      "100%|██████████| 256/256 [00:01<00:00, 201.06it/s]\n",
      "100%|██████████| 198/198 [00:03<00:00, 51.11it/s]\n",
      "100%|██████████| 198/198 [00:11<00:00, 16.89it/s]\n",
      "100%|██████████| 198/198 [00:03<00:00, 65.27it/s]\n"
     ]
    },
    {
     "name": "stdout",
     "output_type": "stream",
     "text": [
      "################ EAZY DONE ###################\n",
      "first c test done\n",
      "cMax/2\n",
      "test @ -cCap: 0.25...\n",
      "updated template set\n"
     ]
    },
    {
     "name": "stderr",
     "output_type": "stream",
     "text": [
      "100%|██████████| 13/13 [00:07<00:00,  1.81it/s]\n",
      "256it [00:00, 7604.83it/s]\n",
      "100%|██████████| 256/256 [00:01<00:00, 204.44it/s]\n",
      "100%|██████████| 198/198 [00:04<00:00, 47.47it/s]\n",
      "100%|██████████| 198/198 [00:11<00:00, 16.58it/s]\n",
      "100%|██████████| 198/198 [00:02<00:00, 68.57it/s]\n"
     ]
    },
    {
     "name": "stdout",
     "output_type": "stream",
     "text": [
      "################ EAZY DONE ###################\n",
      "test at -cCap done\n",
      "################### loop 0 #######################\n",
      "poly: [-1422.02741727  1069.71535006   513.1692067 ]\n",
      "714.3416518043747\n",
      "trying c: 0.24242424242424243\n",
      "updated template set\n"
     ]
    },
    {
     "name": "stderr",
     "output_type": "stream",
     "text": [
      "100%|██████████| 13/13 [00:07<00:00,  1.80it/s]\n",
      "256it [00:00, 7975.21it/s]\n",
      "100%|██████████| 256/256 [00:01<00:00, 205.27it/s]\n",
      "100%|██████████| 198/198 [00:03<00:00, 50.21it/s]\n",
      "100%|██████████| 198/198 [00:11<00:00, 17.06it/s]\n",
      "100%|██████████| 198/198 [00:02<00:00, 69.26it/s]\n"
     ]
    },
    {
     "name": "stdout",
     "output_type": "stream",
     "text": [
      "################ EAZY DONE ###################\n",
      "loss: 691.7114474467846, c: 0.24242424242424243\n",
      "################### loop 1 #######################\n",
      "poly: [-1444.32535833  1080.77974219   513.19099204]\n",
      "715.3761929749272\n",
      "trying c: 0.09595959595959597\n",
      "updated template set\n"
     ]
    },
    {
     "name": "stderr",
     "output_type": "stream",
     "text": [
      "100%|██████████| 13/13 [00:07<00:00,  1.79it/s]\n",
      "256it [00:00, 9358.12it/s]\n",
      "100%|██████████| 256/256 [00:01<00:00, 206.52it/s]\n",
      "100%|██████████| 198/198 [00:03<00:00, 54.42it/s]\n",
      "100%|██████████| 198/198 [00:12<00:00, 16.15it/s]\n",
      "100%|██████████| 198/198 [00:03<00:00, 61.70it/s]\n"
     ]
    },
    {
     "name": "stdout",
     "output_type": "stream",
     "text": [
      "################ EAZY DONE ###################\n",
      "loss: 671.9973805244128, c: 0.09595959595959597\n",
      "################### loop 2 #######################\n",
      "poly: [ 11716.91733512 -10187.91031616   2523.37518447    513.20287266]\n",
      "642.3694878261091\n",
      "trying c: 0.47979797979797983\n",
      "updated template set\n"
     ]
    },
    {
     "name": "stderr",
     "output_type": "stream",
     "text": [
      "100%|██████████| 13/13 [00:07<00:00,  1.79it/s]\n",
      "256it [00:00, 7510.73it/s]\n",
      "100%|██████████| 256/256 [00:01<00:00, 204.18it/s]\n",
      "100%|██████████| 198/198 [00:04<00:00, 46.08it/s]\n",
      "100%|██████████| 198/198 [00:12<00:00, 16.28it/s]\n",
      "100%|██████████| 198/198 [00:03<00:00, 64.18it/s]\n"
     ]
    },
    {
     "name": "stdout",
     "output_type": "stream",
     "text": [
      "################ EAZY DONE ###################\n",
      "loss: 692.5195675077659, c: 0.47979797979797983\n"
     ]
    },
    {
     "name": "stderr",
     "output_type": "stream",
     "text": [
      "/tmp/ipykernel_5736/4063478249.py:78: UserWarning: Attempting to set identical bottom == top == 513.1692066979746 results in singular transformations; automatically expanding.\n",
      "  axs.set_ylim([losses_train[-1], (max(np.array(lossByCFunc)[:,1])-min(np.array(lossByCFunc)[:,1]))*1.1+min(np.array(lossByCFunc)[:,1])])\n",
      "/tmp/ipykernel_5736/4063478249.py:79: UserWarning: Attempting to set identical left == right == 0.0 results in singular transformations; automatically expanding.\n",
      "  axs.set_xlim([min(np.array(lossByCFunc)[:,0])*1.1, max(np.array(lossByCFunc)[:,0])*1.1])\n"
     ]
    },
    {
     "name": "stdout",
     "output_type": "stream",
     "text": [
      "cMax\n",
      "test @ cCap: 0.5...\n",
      "updated template set\n"
     ]
    },
    {
     "name": "stderr",
     "output_type": "stream",
     "text": [
      "100%|██████████| 13/13 [00:07<00:00,  1.77it/s]\n",
      "256it [00:00, 8133.67it/s]\n",
      "100%|██████████| 256/256 [00:01<00:00, 207.60it/s]\n",
      "100%|██████████| 198/198 [00:03<00:00, 51.88it/s]\n",
      "100%|██████████| 198/198 [00:11<00:00, 17.12it/s]\n",
      "100%|██████████| 198/198 [00:02<00:00, 66.46it/s]\n"
     ]
    },
    {
     "name": "stdout",
     "output_type": "stream",
     "text": [
      "################ EAZY DONE ###################\n",
      "first c test done\n",
      "cMax/2\n",
      "test @ -cCap: 0.25...\n",
      "updated template set\n"
     ]
    },
    {
     "name": "stderr",
     "output_type": "stream",
     "text": [
      "100%|██████████| 13/13 [00:07<00:00,  1.81it/s]\n",
      "256it [00:00, 8968.40it/s]\n",
      "100%|██████████| 256/256 [00:01<00:00, 205.87it/s]\n",
      "100%|██████████| 198/198 [00:03<00:00, 50.67it/s]\n",
      "100%|██████████| 198/198 [00:11<00:00, 17.99it/s]\n",
      "100%|██████████| 198/198 [00:02<00:00, 66.73it/s]\n"
     ]
    },
    {
     "name": "stdout",
     "output_type": "stream",
     "text": [
      "################ EAZY DONE ###################\n",
      "test at -cCap done\n",
      "################### loop 0 #######################\n",
      "poly: [-191.99349667  144.02798791  513.1692067 ]\n",
      "540.1806181002822\n",
      "trying c: 0.05555555555555556\n",
      "updated template set\n"
     ]
    },
    {
     "name": "stderr",
     "output_type": "stream",
     "text": [
      "100%|██████████| 13/13 [00:07<00:00,  1.80it/s]\n",
      "256it [00:00, 9139.78it/s]\n",
      "100%|██████████| 256/256 [00:01<00:00, 207.64it/s]\n",
      "100%|██████████| 198/198 [00:03<00:00, 52.11it/s]\n",
      "100%|██████████| 198/198 [00:12<00:00, 16.40it/s]\n",
      "100%|██████████| 198/198 [00:02<00:00, 70.64it/s]\n"
     ]
    },
    {
     "name": "stdout",
     "output_type": "stream",
     "text": [
      "################ EAZY DONE ###################\n",
      "loss: 538.1404060463107, c: 0.05555555555555556\n",
      "################### loop 1 #######################\n",
      "poly: [-207.8435198   135.31047519  520.56588416]\n",
      "542.588370970263\n",
      "trying c: 0.015151515151515152\n",
      "updated template set\n"
     ]
    },
    {
     "name": "stderr",
     "output_type": "stream",
     "text": [
      "100%|██████████| 13/13 [00:07<00:00,  1.81it/s]\n",
      "256it [00:00, 9311.86it/s]\n",
      "100%|██████████| 256/256 [00:01<00:00, 204.39it/s]\n",
      "100%|██████████| 198/198 [00:03<00:00, 54.44it/s]\n",
      "100%|██████████| 198/198 [00:11<00:00, 17.53it/s]\n",
      "100%|██████████| 198/198 [00:02<00:00, 69.00it/s]\n"
     ]
    },
    {
     "name": "stdout",
     "output_type": "stream",
     "text": [
      "################ EAZY DONE ###################\n",
      "loss: 538.0638836263182, c: 0.015151515151515152\n",
      "################### loop 2 #######################\n",
      "poly: [ 3464.03863062 -2730.143323     533.25622437   520.11484763]\n",
      "518.2678908677713\n",
      "trying c: 0.09595959595959597\n",
      "updated template set\n"
     ]
    },
    {
     "name": "stderr",
     "output_type": "stream",
     "text": [
      "100%|██████████| 13/13 [00:07<00:00,  1.81it/s]\n",
      "256it [00:00, 8830.69it/s]\n",
      "100%|██████████| 256/256 [00:01<00:00, 200.62it/s]\n",
      "100%|██████████| 198/198 [00:03<00:00, 51.04it/s]\n",
      "100%|██████████| 198/198 [00:12<00:00, 16.35it/s]\n",
      "100%|██████████| 198/198 [00:02<00:00, 67.66it/s]\n"
     ]
    },
    {
     "name": "stdout",
     "output_type": "stream",
     "text": [
      "################ EAZY DONE ###################\n",
      "loss: 538.1422849528554, c: 0.09595959595959597\n"
     ]
    },
    {
     "name": "stderr",
     "output_type": "stream",
     "text": [
      "/tmp/ipykernel_5736/4063478249.py:78: UserWarning: Attempting to set identical bottom == top == 513.1692066979746 results in singular transformations; automatically expanding.\n",
      "  axs.set_ylim([losses_train[-1], (max(np.array(lossByCFunc)[:,1])-min(np.array(lossByCFunc)[:,1]))*1.1+min(np.array(lossByCFunc)[:,1])])\n",
      "/tmp/ipykernel_5736/4063478249.py:79: UserWarning: Attempting to set identical left == right == 0.0 results in singular transformations; automatically expanding.\n",
      "  axs.set_xlim([min(np.array(lossByCFunc)[:,0])*1.1, max(np.array(lossByCFunc)[:,0])*1.1])\n"
     ]
    },
    {
     "name": "stdout",
     "output_type": "stream",
     "text": [
      "cMax\n",
      "test @ cCap: 0.5...\n",
      "updated template set\n"
     ]
    },
    {
     "name": "stderr",
     "output_type": "stream",
     "text": [
      "100%|██████████| 13/13 [00:07<00:00,  1.80it/s]\n",
      "256it [00:00, 5679.28it/s]\n",
      "100%|██████████| 256/256 [00:01<00:00, 205.08it/s]\n",
      "100%|██████████| 198/198 [00:03<00:00, 52.03it/s]\n",
      "100%|██████████| 198/198 [00:11<00:00, 16.67it/s]\n",
      "100%|██████████| 198/198 [00:02<00:00, 69.68it/s]\n"
     ]
    },
    {
     "name": "stdout",
     "output_type": "stream",
     "text": [
      "################ EAZY DONE ###################\n",
      "first c test done\n",
      "cMax/2\n",
      "test @ -cCap: 0.25...\n",
      "updated template set\n"
     ]
    },
    {
     "name": "stderr",
     "output_type": "stream",
     "text": [
      "100%|██████████| 13/13 [00:07<00:00,  1.79it/s]\n",
      "256it [00:00, 9025.01it/s]\n",
      "100%|██████████| 256/256 [00:01<00:00, 198.92it/s]\n",
      "100%|██████████| 198/198 [00:03<00:00, 53.42it/s]\n",
      "100%|██████████| 198/198 [00:11<00:00, 17.89it/s]\n",
      "100%|██████████| 198/198 [00:03<00:00, 60.83it/s]\n"
     ]
    },
    {
     "name": "stdout",
     "output_type": "stream",
     "text": [
      "################ EAZY DONE ###################\n",
      "test at -cCap done\n",
      "################### loop 0 #######################\n",
      "poly: [-1374.84777661  1031.33179388   513.1692067 ]\n",
      "706.5806678013114\n",
      "trying c: 0.4747474747474748\n",
      "updated template set\n"
     ]
    },
    {
     "name": "stderr",
     "output_type": "stream",
     "text": [
      "100%|██████████| 13/13 [00:07<00:00,  1.81it/s]\n",
      "256it [00:00, 7685.50it/s]\n",
      "100%|██████████| 256/256 [00:01<00:00, 204.48it/s]\n",
      "100%|██████████| 198/198 [00:04<00:00, 49.14it/s]\n",
      "100%|██████████| 198/198 [00:11<00:00, 17.09it/s]\n",
      "100%|██████████| 198/198 [00:02<00:00, 69.97it/s]\n"
     ]
    },
    {
     "name": "stdout",
     "output_type": "stream",
     "text": [
      "################ EAZY DONE ###################\n",
      "loss: 685.1193889717808, c: 0.4747474747474748\n",
      "################### loop 1 #######################\n",
      "poly: [-1389.83962469  1030.89133404   513.36962043]\n",
      "704.5314141591001\n",
      "trying c: 0.4747474747474748\n",
      "updated template set\n"
     ]
    },
    {
     "name": "stderr",
     "output_type": "stream",
     "text": [
      "100%|██████████| 13/13 [00:07<00:00,  1.80it/s]\n",
      "256it [00:00, 9557.97it/s]\n",
      "100%|██████████| 256/256 [00:01<00:00, 203.91it/s]\n",
      "100%|██████████| 198/198 [00:03<00:00, 51.91it/s]\n",
      "100%|██████████| 198/198 [00:13<00:00, 14.52it/s]\n",
      "100%|██████████| 198/198 [00:03<00:00, 54.09it/s]\n"
     ]
    },
    {
     "name": "stdout",
     "output_type": "stream",
     "text": [
      "################ EAZY DONE ###################\n",
      "loss: 685.1193889717808, c: 0.4747474747474748\n",
      "################### loop 2 #######################\n",
      "poly: [ 2895.51875009 -3546.48683918  1393.27163765   513.1692067 ]\n",
      "685.0116975725784\n",
      "trying c: 0.43434343434343436\n",
      "updated template set\n"
     ]
    },
    {
     "name": "stderr",
     "output_type": "stream",
     "text": [
      "100%|██████████| 13/13 [00:08<00:00,  1.59it/s]\n",
      "256it [00:00, 7429.66it/s]\n",
      "100%|██████████| 256/256 [00:01<00:00, 185.66it/s]\n",
      "100%|██████████| 198/198 [00:04<00:00, 47.78it/s]\n",
      "100%|██████████| 198/198 [00:13<00:00, 14.42it/s]\n",
      "100%|██████████| 198/198 [00:03<00:00, 57.12it/s]\n"
     ]
    },
    {
     "name": "stdout",
     "output_type": "stream",
     "text": [
      "################ EAZY DONE ###################\n",
      "loss: 685.1146114168617, c: 0.43434343434343436\n"
     ]
    },
    {
     "name": "stderr",
     "output_type": "stream",
     "text": [
      "/tmp/ipykernel_5736/4063478249.py:78: UserWarning: Attempting to set identical bottom == top == 513.1692066979746 results in singular transformations; automatically expanding.\n",
      "  axs.set_ylim([losses_train[-1], (max(np.array(lossByCFunc)[:,1])-min(np.array(lossByCFunc)[:,1]))*1.1+min(np.array(lossByCFunc)[:,1])])\n",
      "/tmp/ipykernel_5736/4063478249.py:79: UserWarning: Attempting to set identical left == right == 0.0 results in singular transformations; automatically expanding.\n",
      "  axs.set_xlim([min(np.array(lossByCFunc)[:,0])*1.1, max(np.array(lossByCFunc)[:,0])*1.1])\n"
     ]
    },
    {
     "name": "stdout",
     "output_type": "stream",
     "text": [
      "cMax\n",
      "test @ cCap: 0.5...\n",
      "updated template set\n"
     ]
    },
    {
     "name": "stderr",
     "output_type": "stream",
     "text": [
      "100%|██████████| 13/13 [00:08<00:00,  1.62it/s]\n",
      "256it [00:00, 7467.85it/s]\n",
      "100%|██████████| 256/256 [00:01<00:00, 178.13it/s]\n",
      "100%|██████████| 198/198 [00:04<00:00, 44.82it/s]\n",
      "100%|██████████| 198/198 [00:13<00:00, 14.74it/s]\n",
      "100%|██████████| 198/198 [00:03<00:00, 52.35it/s]\n"
     ]
    },
    {
     "name": "stdout",
     "output_type": "stream",
     "text": [
      "################ EAZY DONE ###################\n",
      "first c test done\n",
      "cMax/2\n",
      "test @ -cCap: 0.25...\n",
      "updated template set\n"
     ]
    },
    {
     "name": "stderr",
     "output_type": "stream",
     "text": [
      "100%|██████████| 13/13 [00:08<00:00,  1.59it/s]\n",
      "256it [00:00, 7379.97it/s]\n",
      "100%|██████████| 256/256 [00:01<00:00, 184.64it/s]\n",
      "100%|██████████| 198/198 [00:04<00:00, 42.60it/s]\n",
      "100%|██████████| 198/198 [00:13<00:00, 14.68it/s]\n",
      "100%|██████████| 198/198 [00:03<00:00, 56.25it/s]\n"
     ]
    },
    {
     "name": "stdout",
     "output_type": "stream",
     "text": [
      "################ EAZY DONE ###################\n",
      "test at -cCap done\n",
      "################### loop 0 #######################\n",
      "poly: [-207.65674376  151.83785585  513.1692067 ]\n",
      "540.9250287013546\n",
      "trying c: 0.0\n",
      "updated template set\n"
     ]
    },
    {
     "name": "stderr",
     "output_type": "stream",
     "text": [
      "100%|██████████| 13/13 [00:08<00:00,  1.59it/s]\n",
      "256it [00:00, 8579.16it/s]\n",
      "100%|██████████| 256/256 [00:01<00:00, 186.91it/s]\n",
      "100%|██████████| 198/198 [00:04<00:00, 41.29it/s]\n",
      "100%|██████████| 198/198 [00:12<00:00, 15.86it/s]\n",
      "100%|██████████| 198/198 [00:03<00:00, 57.98it/s]\n"
     ]
    },
    {
     "name": "stdout",
     "output_type": "stream",
     "text": [
      "################ EAZY DONE ###################\n",
      "loss: 536.6534927036653, c: 0.0\n",
      "################### loop 1 #######################\n",
      "poly: [-113.71959974   81.38499784  524.9113497 ]\n",
      "539.4724233597616\n",
      "trying c: 0.0\n",
      "updated template set\n"
     ]
    },
    {
     "name": "stderr",
     "output_type": "stream",
     "text": [
      "100%|██████████| 13/13 [00:08<00:00,  1.60it/s]\n",
      "256it [00:00, 6997.29it/s]\n",
      "100%|██████████| 256/256 [00:01<00:00, 186.14it/s]\n",
      "100%|██████████| 198/198 [00:04<00:00, 43.91it/s]\n",
      "100%|██████████| 198/198 [00:13<00:00, 14.29it/s]\n",
      "100%|██████████| 198/198 [00:03<00:00, 58.68it/s]\n"
     ]
    },
    {
     "name": "stdout",
     "output_type": "stream",
     "text": [
      "################ EAZY DONE ###################\n",
      "loss: 536.6534927036653, c: 0.0\n",
      "################### loop 2 #######################\n",
      "poly: [-1.09559607e+02 -2.37513210e-01  4.42057610e+01  5.28825397e+02]\n",
      "517.9854931712257\n",
      "trying c: 0.0\n"
     ]
    },
    {
     "name": "stderr",
     "output_type": "stream",
     "text": [
      "/home/t/.local/lib/python3.9/site-packages/IPython/core/interactiveshell.py:3441: RankWarning: Polyfit may be poorly conditioned\n",
      "  exec(code_obj, self.user_global_ns, self.user_ns)\n"
     ]
    },
    {
     "name": "stdout",
     "output_type": "stream",
     "text": [
      "updated template set\n"
     ]
    },
    {
     "name": "stderr",
     "output_type": "stream",
     "text": [
      "100%|██████████| 13/13 [00:08<00:00,  1.56it/s]\n",
      "256it [00:00, 7319.80it/s]\n",
      "100%|██████████| 256/256 [00:01<00:00, 181.68it/s]\n",
      "100%|██████████| 198/198 [00:04<00:00, 42.09it/s]\n",
      "100%|██████████| 198/198 [00:13<00:00, 15.13it/s]\n",
      "100%|██████████| 198/198 [00:03<00:00, 54.75it/s]\n"
     ]
    },
    {
     "name": "stdout",
     "output_type": "stream",
     "text": [
      "################ EAZY DONE ###################\n",
      "loss: 536.6534927036653, c: 0.0\n"
     ]
    },
    {
     "name": "stderr",
     "output_type": "stream",
     "text": [
      "/tmp/ipykernel_5736/4063478249.py:78: UserWarning: Attempting to set identical bottom == top == 513.1692066979746 results in singular transformations; automatically expanding.\n",
      "  axs.set_ylim([losses_train[-1], (max(np.array(lossByCFunc)[:,1])-min(np.array(lossByCFunc)[:,1]))*1.1+min(np.array(lossByCFunc)[:,1])])\n",
      "/tmp/ipykernel_5736/4063478249.py:79: UserWarning: Attempting to set identical left == right == 0.0 results in singular transformations; automatically expanding.\n",
      "  axs.set_xlim([min(np.array(lossByCFunc)[:,0])*1.1, max(np.array(lossByCFunc)[:,0])*1.1])\n"
     ]
    },
    {
     "name": "stdout",
     "output_type": "stream",
     "text": [
      "cMax\n",
      "test @ cCap: 0.5...\n",
      "updated template set\n"
     ]
    },
    {
     "name": "stderr",
     "output_type": "stream",
     "text": [
      "100%|██████████| 13/13 [00:07<00:00,  1.63it/s]\n",
      "256it [00:00, 7005.83it/s]\n",
      "100%|██████████| 256/256 [00:01<00:00, 181.55it/s]\n",
      "100%|██████████| 199/199 [00:04<00:00, 45.80it/s]\n",
      "100%|██████████| 199/199 [00:15<00:00, 12.98it/s]\n",
      "100%|██████████| 199/199 [00:07<00:00, 26.45it/s]\n"
     ]
    },
    {
     "name": "stdout",
     "output_type": "stream",
     "text": [
      "################ EAZY DONE ###################\n",
      "first c test done\n",
      "IMPROVEMENT FOUND!!!\n",
      "$\\Delta$ loss: -32.843432450248145\n"
     ]
    },
    {
     "name": "stderr",
     "output_type": "stream",
     "text": [
      "/tmp/ipykernel_5736/4063478249.py:78: UserWarning: Attempting to set identical bottom == top == 480.32577424772643 results in singular transformations; automatically expanding.\n",
      "  axs.set_ylim([losses_train[-1], (max(np.array(lossByCFunc)[:,1])-min(np.array(lossByCFunc)[:,1]))*1.1+min(np.array(lossByCFunc)[:,1])])\n",
      "/tmp/ipykernel_5736/4063478249.py:79: UserWarning: Attempting to set identical left == right == 0.0 results in singular transformations; automatically expanding.\n",
      "  axs.set_xlim([min(np.array(lossByCFunc)[:,0])*1.1, max(np.array(lossByCFunc)[:,0])*1.1])\n"
     ]
    },
    {
     "name": "stdout",
     "output_type": "stream",
     "text": [
      "cMax\n",
      "test @ cCap: 0.5...\n",
      "updated template set\n"
     ]
    },
    {
     "name": "stderr",
     "output_type": "stream",
     "text": [
      "100%|██████████| 13/13 [00:12<00:00,  1.05it/s]\n",
      "256it [00:00, 6257.24it/s]\n",
      "100%|██████████| 256/256 [00:01<00:00, 178.28it/s]\n",
      "100%|██████████| 198/198 [00:05<00:00, 37.99it/s]\n",
      "100%|██████████| 198/198 [00:16<00:00, 12.29it/s]\n",
      "100%|██████████| 198/198 [00:04<00:00, 48.11it/s]\n"
     ]
    },
    {
     "name": "stdout",
     "output_type": "stream",
     "text": [
      "################ EAZY DONE ###################\n",
      "first c test done\n",
      "cMax/2\n",
      "test @ -cCap: 0.25...\n",
      "updated template set\n"
     ]
    },
    {
     "name": "stderr",
     "output_type": "stream",
     "text": [
      "100%|██████████| 13/13 [00:11<00:00,  1.15it/s]\n",
      "256it [00:00, 5466.64it/s]\n",
      "100%|██████████| 256/256 [00:01<00:00, 161.27it/s]\n",
      "100%|██████████| 198/198 [00:06<00:00, 32.08it/s]\n",
      "100%|██████████| 198/198 [00:16<00:00, 12.00it/s]\n",
      "100%|██████████| 198/198 [00:03<00:00, 56.52it/s]\n"
     ]
    },
    {
     "name": "stdout",
     "output_type": "stream",
     "text": [
      "################ EAZY DONE ###################\n",
      "test at -cCap done\n",
      "################### loop 0 #######################\n",
      "poly: [-413.94321523  312.78879392  480.32577425]\n",
      "539.4140899888331\n",
      "trying c: 0.21212121212121213\n",
      "updated template set\n"
     ]
    },
    {
     "name": "stderr",
     "output_type": "stream",
     "text": [
      "100%|██████████| 13/13 [00:12<00:00,  1.02it/s]\n",
      "256it [00:00, 3414.53it/s]\n",
      "100%|██████████| 256/256 [00:02<00:00, 119.24it/s]\n",
      "100%|██████████| 198/198 [00:06<00:00, 30.10it/s]\n",
      " 68%|██████▊   | 134/198 [00:17<00:15,  4.01it/s]"
     ]
    }
   ],
   "source": [
    "############# MAIN #############\n",
    "#setup updating plot\n",
    "\"\"\"plt.ion()\n",
    "figure, axs = plt.subplots(2, 1, figsize=(10,10))\n",
    "axs[1].set_yscale(\"log\")\n",
    "axs[1].set_xscale(\"log\")\n",
    "dummy1 = np.zeros((13, spectras.shape[0]))-3\n",
    "dummy1[0][0] = 0.1\n",
    "axisImg1 = axs[0].imshow(dummy1, cmap=\"hot\")\n",
    "lines = [axs[i].plot([], [])[0] for i in range(1,2)]\n",
    "cbar1 = figure.colorbar(axisImg1, ax=axs[0])#, values=np.linspace(0,1,100))\n",
    "figure.canvas.draw()\"\"\"\n",
    "c = 0\n",
    "polynomium = lambda x, a, b, c: a*x**2 + b*x + c\n",
    "#put in name for computed matrix\n",
    "matrixName = input(\"Optimized matrix name: \")\n",
    "print(\"################### START #######################\")\n",
    "def testC(c,N,matrix,spectras):\n",
    "    matrix = matrix + c*N\n",
    "    return meassureBadnessOfZ(matrix,spectras)\n",
    "losses_train = []\n",
    "losses_test = []\n",
    "print(\"initial loss test...\")\n",
    "losses_train.append(testC(0,matrix,matrix,spectras))#initial loss\n",
    "print(\"initial loss test done\")\n",
    "#main loop\n",
    "for i in range(100000):\n",
    "    print(f\"loop {i}\")\n",
    "    betterFound = False\n",
    "    def found(loss):\n",
    "        global betterFound\n",
    "        global losses_train\n",
    "        print(\"IMPROVEMENT FOUND!!!\")\n",
    "        print(rf\"$\\Delta$ loss: {loss-losses_train[-1]}\")\n",
    "        betterFound = True\n",
    "        losses_train.append(loss)\n",
    "    pickBuffer = []\n",
    "    if i == 0: \n",
    "        for j in range(templCnt): pickBuffer.append([j,j])\n",
    "    for nCol,NCnt in enumerate(range(1,spectras.shape[0])):#nesting of c-optimization\n",
    "        #set N to a matrix with a random index =1\n",
    "        N = np.zeros((templCnt,spectras.shape[0]),dtype=np.float64)\n",
    "        j = 0\n",
    "        p1,p2 = 0,0\n",
    "        while j < 1 or [p1,p2] in pickBuffer:\n",
    "            p1 = np.random.randint(0,templCnt)\n",
    "            #p2 = np.random.randint(0,spectras.shape[0])\n",
    "            p2 = nCol\n",
    "            N[p1][p2] = 1\n",
    "            j += 1\n",
    "        cMin = (-matrix[p1][p2])*cCap\n",
    "        cMax = (1-matrix[p1][p2])*cCap\n",
    "        pickBuffer.append([p1,p2])\n",
    "        plt.imshow(matrix + c*N, cmap=\"hot\")\n",
    "        plt.colorbar()\n",
    "        plt.savefig(f\"matrix_{i}.png\")\n",
    "        plt.savefig(\"matrix_current.png\")\n",
    "        plt.close()\n",
    "        \"\"\"for j in range(len(N)):\n",
    "            for k in range(len(N[j])):\n",
    "                if N[j][k] > (1-matrix[j][k])/cCap: N[j][k] = (1-matrix[j][k])/cCap\n",
    "                if N[j][k] < (0-matrix[j][k])/cCap: N[j][k] = (0-matrix[j][k])/cCap\"\"\"\n",
    "        lossByCFunc = [[0,losses_train[-1]]]\n",
    "        ###setup c plot####\n",
    "        #plt.ion()\n",
    "        \n",
    "        \n",
    "        \n",
    "        def updatePlt(lossByCFunc, poly=None):\n",
    "            figure, axs = plt.subplots(1, 1, figsize=(5,5))\n",
    "            lines = [\n",
    "                axs.plot([], [])[0],# polynomialfit\n",
    "                axs.plot([], [], marker=\".\", linestyle=\"\")[0]# lossByCFunc\n",
    "            ]\n",
    "            axs.set_xlabel(\"c\")\n",
    "            axs.set_ylabel(\"loss\")\n",
    "            lines[1].set_data(np.array(lossByCFunc)[:,0], np.array(lossByCFunc)[:,1])\n",
    "            axs.set_ylim([losses_train[-1], (max(np.array(lossByCFunc)[:,1])-min(np.array(lossByCFunc)[:,1]))*1.1+min(np.array(lossByCFunc)[:,1])])\n",
    "            axs.set_xlim([min(np.array(lossByCFunc)[:,0])*1.1, max(np.array(lossByCFunc)[:,0])*1.1])\n",
    "            if poly is not None:\n",
    "                lines[0].set_data(np.linspace(-cCap,cCap,100), np.polyval(poly, np.linspace(-cCap,cCap,100)))\n",
    "            #figure.canvas.draw()\n",
    "            plt.savefig(f\"lossByCFunc_{i}_{NCnt}.png\")\n",
    "            plt.savefig(\"lossByCFunc_current.png\")\n",
    "            plt.close()\n",
    "        updatePlt(lossByCFunc)\n",
    "        ####################\n",
    "\n",
    "        #initially test at pm cCap\n",
    "        \n",
    "        if cMax == 0:\n",
    "            c = cMin/2\n",
    "            print(\"cMin/2\")\n",
    "        else:\n",
    "            c = cMax\n",
    "            print(\"cMax\")\n",
    "        print(f\"test @ cCap: {c}...\")\n",
    "        loss = testC(c,N,matrix,spectras)\n",
    "        print(\"first c test done\")\n",
    "        if loss < losses_train[-1]:\n",
    "            found(loss)\n",
    "            cCnt = 1\n",
    "            #break\n",
    "            continue\n",
    "        lossByCFunc.append([c,loss])\n",
    "        updatePlt(lossByCFunc)\n",
    "        if cMin == 0:\n",
    "            c = cMax/2\n",
    "            print(\"cMax/2\")\n",
    "        else:\n",
    "            c = cMin\n",
    "            print(\"cMin\")\n",
    "        print(f\"test @ -cCap: {c}...\")\n",
    "        loss = testC(c,N,matrix,spectras)\n",
    "        if loss < losses_train[-1]: \n",
    "            cCnt = 2\n",
    "            found(loss)\n",
    "            #break\n",
    "            continue\n",
    "        lossByCFunc.append([c,loss])\n",
    "        updatePlt(lossByCFunc)\n",
    "        print(\"test at -cCap done\")\n",
    "        np.savetxt(f'{out_path}/{matrixName}_{i}.csv', matrix, delimiter=',')\n",
    "        #find c's by solving polynomials for ))st likely bottom\n",
    "        for cCnt in range(3,6):#loop of finding c's\n",
    "            print(f\"################### loop {cCnt-3} #######################\")\n",
    "            np.savetxt(f'{out_path}/{matrixName}_{i}.csv', matrix, delimiter=',')\n",
    "            order = cCnt - 2\n",
    "            if order < 3: order = 2\n",
    "            #do polynomial fit\n",
    "            #poly = curve_fit(polynomium, np.array(lossByCFunc)[:,0], np.array(lossByCFunc)[:,1], p0=[1,0,1])[0]\n",
    "            poly = np.polyfit(np.array(lossByCFunc)[:,0], np.array(lossByCFunc)[:,1], deg=order)\n",
    "            print(f\"poly: {poly}\")\n",
    "            #insert dots and polyfit\n",
    "            updatePlt(lossByCFunc, poly)\n",
    "            #differentiate\n",
    "            polyDif = np.polyder(poly)\n",
    "            #find roots\n",
    "            roots = np.real(np.roots(polyDif))#!exclude complex roots\n",
    "            #pick a root at random but weighted by how isolated the root is and how low the loss is at that point\n",
    "            propabilities = []\n",
    "            for r in roots:\n",
    "                closestPoints = np.array(lossByCFunc)[:,0] - r\n",
    "                closestPoints = np.abs(closestPoints)\n",
    "                closestPoints = np.sort(closestPoints)[:2]\n",
    "                propabilities.append(np.sum(abs(closestPoints-r)))\n",
    "            propabilities = np.array(propabilities)\n",
    "            propabilities = propabilities / np.sum(propabilities)\n",
    "            for i in range(len(propabilities)):\n",
    "                propabilities[i] = propabilities[i]/(np.polyval(poly, roots[i]))\n",
    "            #remove negative propabilities\n",
    "            propabilities[propabilities < 0] = 0\n",
    "            propabilities = propabilities**2\n",
    "            propabilities = propabilities / np.sum(propabilities)\n",
    "            c = np.random.choice(roots, p=propabilities)\n",
    "            c = roots[np.argmin(np.polyval(poly, roots))]\n",
    "            rootVal = np.polyval(poly, c)\n",
    "            print(rootVal)\n",
    "            \"\"\"if abs(c) >= cCap:\n",
    "                prob = (np.max(np.polyval(poly, np.linspace(-cCap, cCap, 100)))-np.polyval(poly, np.linspace(-cCap, cCap, 100)))\n",
    "                c = np.random.choice(np.linspace(-cCap, cCap, 100), 1, p=prob/np.sum(prob))\"\"\"\n",
    "            if c < 0 or c > cCap or rootVal > losses_train[-1]:#i <= 5 and c < 0: \n",
    "                prob = (np.max(np.polyval(poly, np.linspace(0, cCap, 100)))-np.polyval(poly, np.linspace(0, cCap, 100)))\n",
    "                c = np.random.choice(np.linspace(0, cCap, 100), 1, p=prob/np.sum(prob))[0]\n",
    "            print(f\"trying c: {c}\")\n",
    "            loss = testC(c,N,matrix,spectras)\n",
    "            lossByCFunc.append([c,loss])\n",
    "            if loss < losses_train[-1]: \n",
    "                found(loss)\n",
    "                break\n",
    "            plt.close()\n",
    "            plt.imshow(matrix + c*N, cmap=\"hot\")\n",
    "            plt.colorbar()\n",
    "            plt.savefig(f\"matrix_{i}.png\")\n",
    "            plt.savefig(\"matrix_current.png\")\n",
    "            plt.close()\n",
    "            plt.imshow(N, cmap=\"hot\")\n",
    "            plt.colorbar()\n",
    "            plt.savefig(f\"N_{i}.png\")\n",
    "            print(f\"loss: {loss}, c: {c}\")\n",
    "        updatePlt(lossByCFunc,poly)\n",
    "        np.savetxt(f'{out_path}/{matrixName}_{i}.csv', matrix, delimiter=',')\n",
    "        \"\"\"if betterFound: \n",
    "            break\"\"\"\n",
    "    if not betterFound: cCap = cCap*0.5\n",
    "    if betterFound: losses_train.append(loss)\n",
    "    plt.close()\n",
    "    np.savetxt(f'{out_path}/{matrixName}_{i}.csv', matrix, delimiter=',')\n",
    "    matrix = matrix + c*N\n",
    "    for j in range(len(matrix)):\n",
    "        for k in range(len(matrix[j])):\n",
    "            if matrix[j][k] > 1: matrix[j][k] = 1\n",
    "            if matrix[j][k] < 0: matrix[j][k] = 0\n",
    "        matrix[j] = matrix[j] / np.sum(matrix[j])\n",
    "    plt.imshow(matrix, cmap=\"hot\")\n",
    "    plt.colorbar()\n",
    "    plt.savefig(f\"matrix_{i}.png\")\n",
    "    plt.show()\n",
    "    np.savetxt(f'{out_path}/{matrixName}_{i}.csv', matrix, delimiter=',')\n",
    "    if i % 10 == 0:\n",
    "        losses_test.append(meassureBadnessOfZ(matrix,spectras))\n",
    "        plt.plot(losses_train, label=\"train\")\n",
    "        plt.plot(losses_test, label=\"test\")\n",
    "        plt.legend()\n",
    "        plt.savefig(f\"losses.png\")\n",
    "    print(\"################### loop done #######################\")\n",
    "    #save plot\n",
    "    #plt.savefig(f\"lossByCFunc_{i}.png\")\n",
    "    plt.close()\n",
    "    if cCap == 0: break\n",
    "\n"
   ]
  },
  {
   "cell_type": "code",
   "execution_count": null,
   "metadata": {},
   "outputs": [
    {
     "data": {
      "text/plain": [
       "'\\n        #initialize model\\n        #model = tf.Variable(np.random.uniform(0,1, size=(13, spectras.shape[0])), dtype=tf.float32)\\n        model = tf.Variable(np.zeros((13, spectras.shape[0]),dtype=float), dtype=tf.float32)\\n        for i in tf.range(model.shape[1]):\\n            model[i%13,i].assign(1)\\n        losses = []\\n        model = fixModel(model)\\n        for i in range(10000):\\n            loss = train_step(model, spectras)\\n            model = fixModel(model)\\n            if i % 10 == 0:\\n                print(loss.numpy())\\n            if i % 1 == 0 and i > 0:\\n                #do a matplotlib heatmap of matrix\\n                axisImg1.set_data(np.log(model.numpy()+lSque))\\n                dummy = performMatrixOperation(model, spectras)\\n                axisImg2.set_data(np.log(gridOut(dummy).numpy()+lSque))\\n                axisImg3.set_data(np.reshape(np.log(vecOut(dummy).numpy()), (1,13)))\\n                #axisImg2.set_data(gridOut(dummy).numpy()+lSque)\\n                #axisImg3.set_data(np.reshape(vecOut(dummy).numpy(), (1,13)))\\n                lines[0].set_data(np.arange(len(orthogonalities)), orthogonalities)\\n                lines[1].set_data(np.arange(len(rowStds)), rowStds)\\n                lines[2].set_data(np.arange(len(colStds)), colStds)\\n                axs[3].set_xlim(0, len(orthogonalities))\\n                axs[4].set_xlim(0, len(rowStds))\\n                axs[5].set_xlim(0, len(colStds))\\n                axs[3].set_ylim(np.min(orthogonalities), np.max(orthogonalities))\\n                axs[4].set_ylim(np.min(rowStds), np.max(rowStds))\\n                axs[5].set_ylim(np.min(colStds), np.max(colStds))\\n                figure.canvas.draw()\\n                figure.canvas.flush_events() \\n            if i % 30 == 0:\\n                np.save(f\"templates-custom/45k/optimized_matrix_{matrixName}.npy\", model.numpy())\\n            print(\".\", end=\"\")\\n            losses.append(loss.numpy())\\n            orthogonalities.append(orthogonalityMeassure(performMatrixOperation(model, spectras)))\\n            rowStds.append(rowwiseStandardDeviationMeassure(model))\\n            colStds.append(columnwiseStandardDeviationMeassure(model))\\n            if len(losses) > 1000:\\n                if abs(loss-losses[-100]) < 0.000005:\\n                    break\\n        #save model\\n        np.save(f\"{path}/optimized_matrix_{matrixName}_score:{loss:.3f}_{datetime.now().strftime(\\'%Y-%m-%d_%H-%M-%S\\')}.npy\", model.numpy())\\n        losseses.append(losses)\\n    except KeyboardInterrupt:\\n        print(\"KeyboardInterrupt\")\\n        np.save(f\"{path}/optimized_matrix_{matrixName}_score:{loss:.3f}_{datetime.now().strftime(\\'%Y-%m-%d_%H-%M-%S\\')}.npy\", model.numpy())\\n        losseses.append(losses)\\n        \\n\\n#show losses\\nimport matplotlib.pyplot as plt\\n[plt.plot(losses) for losses in losseses]\\nplt.show()'"
      ]
     },
     "execution_count": 12,
     "metadata": {},
     "output_type": "execute_result"
    }
   ],
   "source": [
    "\"\"\"\n",
    "        #initialize model\n",
    "        #model = tf.Variable(np.random.uniform(0,1, size=(13, spectras.shape[0])), dtype=tf.float32)\n",
    "        model = tf.Variable(np.zeros((13, spectras.shape[0]),dtype=float), dtype=tf.float32)\n",
    "        for i in tf.range(model.shape[1]):\n",
    "            model[i%13,i].assign(1)\n",
    "        losses = []\n",
    "        for i in range(10000):\n",
    "            loss = train_step(model, spectras)\n",
    "            model = fixModel(model)\n",
    "            if i % 10 == 0:\n",
    "                print(loss.numpy())\n",
    "            if i % 1 == 0 and i > 0:\n",
    "                #do a matplotlib heatmap of matrix\n",
    "                axisImg1.set_data(np.log(model.numpy()+lSque))\n",
    "                dummy = performMatrixOperation(model, spectras)\n",
    "                axisImg2.set_data(np.log(gridOut(dummy).numpy()+lSque))\n",
    "                axisImg3.set_data(np.reshape(np.log(vecOut(dummy).numpy()), (1,13)))\n",
    "                #axisImg2.set_data(gridOut(dummy).numpy()+lSque)\n",
    "                #axisImg3.set_data(np.reshape(vecOut(dummy).numpy(), (1,13)))\n",
    "                lines[0].set_data(np.arange(len(orthogonalities)), orthogonalities)\n",
    "                lines[1].set_data(np.arange(len(rowStds)), rowStds)\n",
    "                lines[2].set_data(np.arange(len(colStds)), colStds)\n",
    "                axs[3].set_xlim(0, len(orthogonalities))\n",
    "                axs[4].set_xlim(0, len(rowStds))\n",
    "                axs[5].set_xlim(0, len(colStds))\n",
    "                axs[3].set_ylim(np.min(orthogonalities), np.max(orthogonalities))\n",
    "                axs[4].set_ylim(np.min(rowStds), np.max(rowStds))\n",
    "                axs[5].set_ylim(np.min(colStds), np.max(colStds))\n",
    "                figure.canvas.draw()\n",
    "                figure.canvas.flush_events() \n",
    "            if i % 30 == 0:\n",
    "                np.save(f\"templates-custom/45k/optimized_matrix_{matrixName}.npy\", model.numpy())\n",
    "            print(\".\", end=\"\")\n",
    "            losses.append(loss.numpy())\n",
    "            orthogonalities.append(orthogonalityMeassure(performMatrixOperation(model, spectras)))\n",
    "            rowStds.append(rowwiseStandardDeviationMeassure(model))\n",
    "            colStds.append(columnwiseStandardDeviationMeassure(model))\n",
    "            if len(losses) > 1000:\n",
    "                if abs(loss-losses[-100]) < 0.000005:\n",
    "                    break\n",
    "        #save model\n",
    "        np.save(f\"{path}/optimized_matrix_{matrixName}_score:{loss:.3f}_{datetime.now().strftime('%Y-%m-%d_%H-%M-%S')}.npy\", model.numpy())\n",
    "        losseses.append(losses)\n",
    "    except KeyboardInterrupt:\n",
    "        print(\"KeyboardInterrupt\")\n",
    "        np.save(f\"{path}/optimized_matrix_{matrixName}_score:{loss:.3f}_{datetime.now().strftime('%Y-%m-%d_%H-%M-%S')}.npy\", model.numpy())\n",
    "        losseses.append(losses)\n",
    "        \n",
    "\n",
    "#show losses\n",
    "import matplotlib.pyplot as plt\n",
    "[plt.plot(losses) for losses in losseses]\n",
    "plt.show()\"\"\""
   ]
  }
 ],
 "metadata": {
  "kernelspec": {
   "display_name": "Python 3",
   "language": "python",
   "name": "python3"
  },
  "language_info": {
   "codemirror_mode": {
    "name": "ipython",
    "version": 3
   },
   "file_extension": ".py",
   "mimetype": "text/x-python",
   "name": "python",
   "nbconvert_exporter": "python",
   "pygments_lexer": "ipython3",
   "version": "3.9.16"
  },
  "orig_nbformat": 4
 },
 "nbformat": 4,
 "nbformat_minor": 2
}
